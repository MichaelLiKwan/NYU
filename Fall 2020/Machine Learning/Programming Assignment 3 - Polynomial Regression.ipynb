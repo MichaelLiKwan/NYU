{
 "cells": [
  {
   "cell_type": "markdown",
   "metadata": {},
   "source": [
    "# Programming Assignment 3 - Polynomial Regression (100 points)"
   ]
  },
  {
   "cell_type": "code",
   "execution_count": 1,
   "metadata": {},
   "outputs": [],
   "source": [
    "import numpy as np\n",
    "import matplotlib\n",
    "import pandas as pd\n",
    "import matplotlib.pyplot as plt\n",
    "from sklearn import datasets, linear_model, preprocessing\n",
    "import numpy.polynomial.polynomial as poly\n",
    "%matplotlib inline"
   ]
  },
  {
   "cell_type": "markdown",
   "metadata": {},
   "source": [
    "# Importing Data \n",
    "Import data from poly_regression.csv"
   ]
  },
  {
   "cell_type": "code",
   "execution_count": 2,
   "metadata": {},
   "outputs": [
    {
     "name": "stdout",
     "output_type": "stream",
     "text": [
      "[-0.65 -0.78 -0.39  0.69  0.37 -0.98 -0.15  0.95 -0.9   0.16 -0.9  -0.35\n",
      "  0.43 -0.24 -0.71  0.48  0.11 -0.87 -0.44 -0.41 -0.49 -0.41 -0.96 -0.05\n",
      "  0.98  0.38  0.07 -0.13 -0.71  0.05  0.66 -0.76  0.99 -0.44  0.5  -0.75\n",
      "  0.64 -0.37  0.15  0.85  0.37  0.65  0.49  0.01 -0.4   0.31 -0.34 -0.57\n",
      "  1.    0.41 -0.49 -0.33 -0.54  0.75 -0.2   0.3   0.41 -0.84  0.84  0.9\n",
      " -0.08 -0.49  0.8   0.98 -0.61  0.13  0.11 -0.5   0.76  0.5   0.66  0.63\n",
      "  0.55  0.14  0.2   0.13  0.82 -0.1  -0.75 -0.67  0.3  -0.57  0.58  0.93\n",
      "  0.43 -0.38 -0.18 -0.57 -0.49 -0.91 -0.42  0.7   0.23 -0.21  0.32 -0.1\n",
      " -0.02  0.61  0.82 -0.1  -0.36  0.48  0.    0.83  0.54 -0.31  0.36  0.88\n",
      " -0.24 -0.06 -0.21 -0.5   0.2  -0.69  0.62 -0.18 -0.86 -0.45  0.49  0.66\n",
      " -0.73 -0.02  0.57  0.37 -0.57 -0.8  -0.21 -0.64 -1.   -0.71 -0.74 -0.95\n",
      "  0.05 -0.99  0.31  0.32 -0.63 -0.86  0.24 -0.7   0.76 -0.45  0.04 -0.63\n",
      "  0.5   0.23 -0.76  0.05  0.46 -0.83 -0.74 -0.92  0.62 -0.1  -0.45  0.03\n",
      " -0.89  0.59 -0.65  0.81  0.42 -0.12 -0.59  0.12  0.08  0.28  0.48  0.17\n",
      " -0.09 -0.26  0.26  0.6   0.44  0.44 -0.67  0.52 -0.13 -0.03 -0.55  0.62\n",
      " -0.59  0.99 -1.   -0.03  0.68  0.44  0.17  0.37 -0.15  0.57 -0.69 -0.\n",
      " -0.25  0.8  -0.22  0.86 -0.89 -0.02 -0.24 -0.38]\n",
      "[ 2.000e-01 -8.000e-01  1.040e+00  4.750e+00  1.150e+00 -4.190e+00\n",
      "  1.200e+00  1.341e+01 -2.180e+00  1.530e+00 -2.570e+00  9.700e-01\n",
      "  1.610e+00  7.200e-01  1.500e-01  2.030e+00  1.260e+00 -1.900e+00\n",
      "  5.800e-01  7.200e-01  7.500e-01  9.300e-01 -3.560e+00  1.040e+00\n",
      "  1.523e+01  1.520e+00  1.320e+00  1.330e+00 -5.000e-01  1.260e+00\n",
      "  3.910e+00 -3.200e-01  1.605e+01  1.040e+00  2.090e+00 -4.400e-01\n",
      "  3.560e+00  3.500e-01  1.060e+00  8.870e+00  1.370e+00  3.570e+00\n",
      "  1.930e+00  1.160e+00  3.700e-01  1.390e+00  8.300e-01  5.700e-01\n",
      "  1.684e+01  1.410e+00  6.100e-01  7.300e-01  6.900e-01  5.770e+00\n",
      "  5.600e-01  1.330e+00  1.550e+00 -1.470e+00  8.460e+00  1.069e+01\n",
      "  1.070e+00  6.200e-01  6.970e+00  1.464e+01  2.700e-01  1.240e+00\n",
      "  1.310e+00  4.400e-01  6.050e+00  2.220e+00  3.910e+00  3.290e+00\n",
      "  2.150e+00  1.410e+00  1.320e+00  1.000e+00  7.840e+00  1.080e+00\n",
      " -4.200e-01  2.700e-01  1.250e+00  4.700e-01  2.880e+00  1.219e+01\n",
      "  1.640e+00  7.800e-01  9.600e-01  1.800e-01  3.200e-01 -2.710e+00\n",
      "  8.000e-01  4.510e+00  8.500e-01  4.800e-01  1.440e+00  9.100e-01\n",
      "  1.160e+00  3.350e+00  7.710e+00  9.600e-01  6.000e-01  1.760e+00\n",
      "  1.260e+00  8.270e+00  2.180e+00  6.700e-01  1.130e+00  1.017e+01\n",
      "  6.700e-01  9.400e-01  1.110e+00  7.400e-01  9.900e-01  2.400e-01\n",
      "  3.380e+00  6.100e-01 -1.560e+00  6.000e-01  1.710e+00  3.900e+00\n",
      " -4.400e-01  1.000e+00  2.450e+00  1.830e+00  6.200e-01 -8.300e-01\n",
      "  1.010e+00  5.800e-01 -4.450e+00 -1.200e-01 -5.300e-01 -3.110e+00\n",
      "  8.800e-01 -4.300e+00  1.180e+00  1.330e+00  9.000e-02 -1.710e+00\n",
      "  1.220e+00 -4.900e-01  5.790e+00  4.400e-01  1.220e+00  2.800e-01\n",
      "  2.250e+00  1.190e+00 -7.400e-01  8.500e-01  1.640e+00 -1.610e+00\n",
      " -7.200e-01 -2.570e+00  2.940e+00  8.900e-01  7.900e-01  1.400e+00\n",
      " -2.070e+00  2.640e+00 -0.000e+00  7.290e+00  1.880e+00  7.700e-01\n",
      "  4.700e-01  1.010e+00  9.200e-01  1.200e+00  2.150e+00  1.090e+00\n",
      "  7.800e-01  8.700e-01  1.230e+00  2.840e+00  1.270e+00  1.490e+00\n",
      " -1.000e-02  1.800e+00  9.500e-01  1.110e+00  6.700e-01  3.180e+00\n",
      "  5.600e-01  1.544e+01 -3.920e+00  6.400e-01  3.920e+00  1.640e+00\n",
      "  1.280e+00  1.440e+00  8.700e-01  2.360e+00 -1.100e-01  9.800e-01\n",
      "  1.180e+00  6.920e+00  8.400e-01  8.810e+00 -2.260e+00  1.010e+00\n",
      "  9.600e-01  7.100e-01]\n"
     ]
    }
   ],
   "source": [
    "# TODO - Read the poly_regression.csv and import the first column in X and the second column in y - 10 points\n",
    "df= pd.read_csv('poly_regression.csv',na_values='?')\n",
    "data = df.dropna()\n",
    "X = np.array(data.loc[:, '# x'])\n",
    "y = np.array(data.loc[:, ' y'])\n",
    "print(X)\n",
    "print(y)"
   ]
  },
  {
   "cell_type": "code",
   "execution_count": 3,
   "metadata": {},
   "outputs": [],
   "source": [
    "# TODO - Reshape X and y to be rank 2 matrices - 5 points\n",
    "X = X.reshape((1,X.shape[0]))\n",
    "y = y.reshape((1,y.shape[0]))"
   ]
  },
  {
   "cell_type": "markdown",
   "metadata": {},
   "source": [
    "# Training and Validation Set\n",
    "Divide the dataset approximately into 2 equal parts : training set and validation set. "
   ]
  },
  {
   "cell_type": "code",
   "execution_count": 4,
   "metadata": {},
   "outputs": [],
   "source": [
    "# TODO - Save the first 100 rows in X_tr and y_tr and the next 100 in X_val and y_val - 5 points\n",
    "# Don't shuffle becasue this is a homework assignment\n",
    "X_tr = X[0][:100]\n",
    "y_tr = y[0][:100]\n",
    "X_val = X[0][100:]\n",
    "y_val = y[0][100:]"
   ]
  },
  {
   "cell_type": "markdown",
   "metadata": {},
   "source": [
    "# Plotting Dataset"
   ]
  },
  {
   "cell_type": "code",
   "execution_count": 5,
   "metadata": {},
   "outputs": [
    {
     "name": "stdout",
     "output_type": "stream",
     "text": [
      "(100,)\n",
      "(100,)\n"
     ]
    },
    {
     "data": {
      "image/png": "[encoded data removed]",
      "text/plain": [
       "<Figure size 432x288 with 1 Axes>"
      ]
     },
     "metadata": {
      "needs_background": "light"
     },
     "output_type": "display_data"
    }
   ],
   "source": [
    "# Plot X_tr versus y_tr\n",
    "print(X_tr.shape)\n",
    "print(y_tr.shape)\n",
    "plt.scatter(X_tr,y_tr,c='g',s=2)\n",
    "plt.title(\"Training dataset\")\n",
    "plt.xlabel('X_tr')\n",
    "plt.ylabel('y_tr')\n",
    "plt.show()"
   ]
  },
  {
   "cell_type": "code",
   "execution_count": 6,
   "metadata": {},
   "outputs": [
    {
     "data": {
      "image/png": "[encoded data removed]",
      "text/plain": [
       "<Figure size 432x288 with 1 Axes>"
      ]
     },
     "metadata": {
      "needs_background": "light"
     },
     "output_type": "display_data"
    }
   ],
   "source": [
    "# Plot X_val versus y_val\n",
    "plt.scatter(X_val,y_val,c='b',s=2)\n",
    "plt.title(\"Validation dataset\")\n",
    "plt.xlabel('X_val')\n",
    "plt.ylabel('y_val')\n",
    "plt.show()"
   ]
  },
  {
   "cell_type": "markdown",
   "metadata": {},
   "source": [
    "# Model Selection.\n",
    "Write code to obtain polynomial regression models of different orders starting from linear regression i.e. degree = 1 to higher degree models like degree = 2 to 10. Find training and validation error for every order and plot these errors v/s degree. Select the order that fits the data best based on validation error. You can use poly.polyval method from numpy to find coefficients of the different models."
   ]
  },
  {
   "cell_type": "code",
   "execution_count": 17,
   "metadata": {},
   "outputs": [],
   "source": [
    "# TODO - Plot the training dataset and the hypothesis function for degrees = 1, 2, 3,..., 10 - 55 points\n",
    "# TODO - Record the training and validation error for each degree - 5 points \n",
    "# HINT - Use poly.polyfit to find the theta values and poly.polyval to find the yhat values\n",
    "\n",
    "validationcosts = []\n",
    "traincosts = []\n",
    "for d in range(1,10):\n",
    "    thetas = np.polyfit(X_tr, y_tr, d)\n",
    "    yhatTrain = np.polyval(thetas, X_tr)\n",
    "    yhatVal = np.polyval(thetas, X_val)\n",
    "    costTrain = (.5)*np.mean((yhatTrain - y_tr)**2)\n",
    "    costVal = (.5)*np.mean((yhatVal - y_tr)**2)\n",
    "    traincosts.append(costTrain)\n",
    "    validationcosts.append(costVal)"
   ]
  },
  {
   "cell_type": "code",
   "execution_count": 10,
   "metadata": {
    "scrolled": true
   },
   "outputs": [
    {
     "data": {
      "image/png": "[encoded data removed]",
      "text/plain": [
       "<Figure size 432x288 with 1 Axes>"
      ]
     },
     "metadata": {
      "needs_background": "light"
     },
     "output_type": "display_data"
    }
   ],
   "source": [
    "# TODO - Plot training cost v/s model order or degree - 10 points\n",
    "deg = np.arange(1,10)\n",
    "plt.scatter(deg,traincosts,c='b',s=2)\n",
    "plt.title(\"training cost v/s model order or degree\")\n",
    "plt.xlabel('degree')\n",
    "plt.ylabel('training cost')\n",
    "plt.show()"
   ]
  },
  {
   "cell_type": "code",
   "execution_count": 115,
   "metadata": {},
   "outputs": [
    {
     "data": {
      "image/png": "[encoded data removed]",
      "text/plain": [
       "<Figure size 432x288 with 1 Axes>"
      ]
     },
     "metadata": {
      "needs_background": "light"
     },
     "output_type": "display_data"
    }
   ],
   "source": [
    "# TODO - Plot validation cost v/s model order or degree - 10 points\n",
    "deg = np.arange(1,10)\n",
    "plt.scatter(deg,validationcosts,c='b',s=2)\n",
    "plt.title(\"validation cost v/s model order or degree\")\n",
    "plt.xlabel('degree')\n",
    "plt.ylabel('validation cost')\n",
    "plt.show()"
   ]
  },
  {
   "cell_type": "code",
   "execution_count": null,
   "metadata": {},
   "outputs": [],
   "source": []
  }
 ],
 "metadata": {
  "kernelspec": {
   "display_name": "Python 3",
   "language": "python",
   "name": "python3"
  },
  "language_info": {
   "codemirror_mode": {
    "name": "ipython",
    "version": 3
   },
   "file_extension": ".py",
   "mimetype": "text/x-python",
   "name": "python",
   "nbconvert_exporter": "python",
   "pygments_lexer": "ipython3",
   "version": "3.8.3"
  }
 },
 "nbformat": 4,
 "nbformat_minor": 2
}
