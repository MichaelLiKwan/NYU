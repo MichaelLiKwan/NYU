{
 "cells": [
  {
   "cell_type": "markdown",
   "metadata": {},
   "source": [
    "# Neural Network from Scratch\n",
    "Code modified from http://adventuresinmachinelearning.com/neural-networks-tutorial/ \n",
    "\n",
    "The notation in this website is almost the same as the notation we are using in class.  Instead of using $a$ for activations the author uses $h$, and instead of $N$ for the number of training examples, the author uses $m$. (I have modified the code below to use $a$ and $N$.)\n",
    "\n",
    "Please read about this implementation starting at page 27 from the website listed above."
   ]
  },
  {
   "cell_type": "markdown",
   "metadata": {},
   "source": [
    "## The first thing we will do is import all the libraries\n",
    "\n",
    "We will be using the lower resolution MINST data set"
   ]
  },
  {
   "cell_type": "code",
   "execution_count": 1,
   "metadata": {},
   "outputs": [],
   "source": [
    "from sklearn.datasets import load_digits # The MNIST data set is in scikit learn data set\n",
    "from sklearn.preprocessing import StandardScaler  # It is important in neural networks to scale the date\n",
    "from sklearn.model_selection import train_test_split  # The standard - train/test to prevent overfitting and choose hyperparameters\n",
    "from sklearn.metrics import accuracy_score # \n",
    "import numpy as np\n",
    "import numpy.random as r # We will randomly initialize our weights\n",
    "import matplotlib.pyplot as plt "
   ]
  },
  {
   "cell_type": "markdown",
   "metadata": {},
   "source": [
    "## Looking at the data\n",
    "\n",
    "After we load the data, we print the shape of the data and a pixelated digit.\n",
    "\n",
    "We also show what the features of one example looks like.\n",
    "\n",
    "The neural net will learn to estimate which digit these pixels represent."
   ]
  },
  {
   "cell_type": "code",
   "execution_count": 2,
   "metadata": {},
   "outputs": [
    {
     "name": "stdout",
     "output_type": "stream",
     "text": [
      "The shape of the digits dataset:\n",
      "(1797, 64)\n"
     ]
    },
    {
     "data": {
      "text/plain": [
       "<Figure size 432x288 with 0 Axes>"
      ]
     },
     "metadata": {},
     "output_type": "display_data"
    },
    {
     "data": {
      "image/png": "[encoded data removed]",
      "text/plain": [
       "<Figure size 288x288 with 1 Axes>"
      ]
     },
     "metadata": {
      "needs_background": "light"
     },
     "output_type": "display_data"
    },
    {
     "name": "stdout",
     "output_type": "stream",
     "text": [
      "[0]\n",
      "[ 0.  0.  5. 13.  9.  1.  0.  0.  0.  0. 13. 15. 10. 15.  5.  0.  0.  3.\n",
      " 15.  2.  0. 11.  8.  0.  0.  4. 12.  0.  0.  8.  8.  0.  0.  5.  8.  0.\n",
      "  0.  9.  8.  0.  0.  4. 11.  0.  1. 12.  7.  0.  0.  2. 14.  5. 10. 12.\n",
      "  0.  0.  0.  0.  6. 13. 10.  0.  0.  0.]\n"
     ]
    }
   ],
   "source": [
    "digits=load_digits()\n",
    "X = digits.data\n",
    "print(\"The shape of the digits dataset:\") \n",
    "print(digits.data.shape)\n",
    "plt.gray()\n",
    "plt.matshow(digits.images[0])\n",
    "plt.show()\n",
    "y = digits.target\n",
    "print(y[0:1])\n",
    "print(X[0,:])"
   ]
  },
  {
   "cell_type": "markdown",
   "metadata": {},
   "source": [
    "## 1) Scale the dataset\n",
    "The training features range from 0 to 15.  To help the algorithm converge, we will scale the data to have a mean of 0 and unit variance"
   ]
  },
  {
   "cell_type": "code",
   "execution_count": 3,
   "metadata": {},
   "outputs": [
    {
     "data": {
      "text/plain": [
       "array([ 0.        , -0.33501649, -0.04308102,  0.27407152, -0.66447751,\n",
       "       -0.84412939, -0.40972392, -0.12502292, -0.05907756, -0.62400926,\n",
       "        0.4829745 ,  0.75962245, -0.05842586,  1.12772113,  0.87958306,\n",
       "       -0.13043338, -0.04462507,  0.11144272,  0.89588044, -0.86066632,\n",
       "       -1.14964846,  0.51547187,  1.90596347, -0.11422184, -0.03337973,\n",
       "        0.48648928,  0.46988512, -1.49990136, -1.61406277,  0.07639777,\n",
       "        1.54181413, -0.04723238,  0.        ,  0.76465553,  0.05263019,\n",
       "       -1.44763006, -1.73666443,  0.04361588,  1.43955804,  0.        ,\n",
       "       -0.06134367,  0.8105536 ,  0.63011714, -1.12245711, -1.06623158,\n",
       "        0.66096475,  0.81845076, -0.08874162, -0.03543326,  0.74211893,\n",
       "        1.15065212, -0.86867056,  0.11012973,  0.53761116, -0.75743581,\n",
       "       -0.20978513, -0.02359646, -0.29908135,  0.08671869,  0.20829258,\n",
       "       -0.36677122, -1.14664746, -0.5056698 , -0.19600752])"
      ]
     },
     "execution_count": 3,
     "metadata": {},
     "output_type": "execute_result"
    }
   ],
   "source": [
    "X_scale = StandardScaler()\n",
    "X = X_scale.fit_transform(digits.data)\n",
    "\n",
    "X[0,:] # Looking the new features after scaling"
   ]
  },
  {
   "cell_type": "markdown",
   "metadata": {},
   "source": [
    "## 2) Creating training and test datasets\n",
    "We split the data into training and test data sets. We will train the neural network with the training dataset, and evaluate our neural network with the test dataset "
   ]
  },
  {
   "cell_type": "code",
   "execution_count": 4,
   "metadata": {},
   "outputs": [],
   "source": [
    "#Split the data into training and test set.  60% training and %40 test\n",
    "X_train, X_test, y_train, y_test = train_test_split(X, y, test_size=0.4)"
   ]
  },
  {
   "cell_type": "markdown",
   "metadata": {},
   "source": [
    "## 3) Setting up the output layer"
   ]
  },
  {
   "cell_type": "markdown",
   "metadata": {},
   "source": [
    "### One hot encoding\n",
    "Our target is an integer in the range [0,..,9], so we will have 10 output neuron's in our network.  \n",
    "\n",
    "-  If  $y=0$, we want the output neurons to have the values $(1,0,0,0,0,0,0,0,0,0)$\n",
    "\n",
    "-  If  $y=1$ we want the output neurons to have the values $(0,1,0,0,0,0,0,0,0,0)$\n",
    "-  etc\n",
    "\n",
    "Thus we need to change our target so it is the same as our hoped for output of the neural network.  \n",
    "-  If $y=0$ we change it into the vector $(1,0,0,0,0,0,0,0,0,0)$. \n",
    "-  If $y=1$ we change it into the vector $(0,1,0,0,0,0,0,0,0,0)$\n",
    "-  etc\n",
    "\n",
    "See page 29 from the website listed above\n",
    "\n",
    "The code to covert the target vector."
   ]
  },
  {
   "cell_type": "code",
   "execution_count": 5,
   "metadata": {},
   "outputs": [],
   "source": [
    "def convert_y_to_vect(y):\n",
    "    y_vect = np.zeros((len(y), 10))\n",
    "    for i in range(len(y)):\n",
    "        y_vect[i, y[i]] = 1\n",
    "    return y_vect"
   ]
  },
  {
   "cell_type": "markdown",
   "metadata": {},
   "source": [
    "Converting the training and test targets to vectors "
   ]
  },
  {
   "cell_type": "code",
   "execution_count": 6,
   "metadata": {},
   "outputs": [],
   "source": [
    "# convert digits to vectors\n",
    "y_v_train = convert_y_to_vect(y_train)\n",
    "y_v_test = convert_y_to_vect(y_test)"
   ]
  },
  {
   "cell_type": "markdown",
   "metadata": {},
   "source": [
    "A quick check to see that our code performs as we expect "
   ]
  },
  {
   "cell_type": "code",
   "execution_count": 7,
   "metadata": {},
   "outputs": [
    {
     "name": "stdout",
     "output_type": "stream",
     "text": [
      "[5 8 2 5]\n",
      "[[0. 0. 0. 0. 0. 1. 0. 0. 0. 0.]\n",
      " [0. 0. 0. 0. 0. 0. 0. 0. 1. 0.]\n",
      " [0. 0. 1. 0. 0. 0. 0. 0. 0. 0.]\n",
      " [0. 0. 0. 0. 0. 1. 0. 0. 0. 0.]]\n"
     ]
    }
   ],
   "source": [
    "print(y_train[0:4])\n",
    "print(y_v_train[0:4])"
   ]
  },
  {
   "cell_type": "markdown",
   "metadata": {},
   "source": [
    "## 4) Creating the neural network"
   ]
  },
  {
   "cell_type": "markdown",
   "metadata": {},
   "source": [
    "### The activation function and its derivative\n",
    "\n",
    "We will use the sigmoid activation function:  $f(z)=\\frac{1}{1+e^{-z}}$\n",
    "\n",
    "The deriviative of the sigmoid function is: $f'(z) = f(z)(1-f(z))$ "
   ]
  },
  {
   "cell_type": "code",
   "execution_count": 8,
   "metadata": {},
   "outputs": [],
   "source": [
    "def f(z):\n",
    "    #return 1 / (1 + np.exp(-z))\n",
    "    \n",
    "    #for i in range(len(z)):\n",
    "    #    z[i] = max(0,z[i])\n",
    "    #return z\n",
    "    \n",
    "    #for elem in z:\n",
    "    #    elem = max(0.3*elem,elem)\n",
    "    #return z\n",
    "\n",
    "    return(np.exp(z)-np.exp(-z))/(np.exp(z)+np.exp(-z))\n",
    "    \n",
    "def f_deriv(z):\n",
    "    #return f(z) * (1 - f(z))\n",
    "    \n",
    "    #for i in range(len(z)):    \n",
    "    #   if z[i] < 0:\n",
    "    #       z[i] = 0\n",
    "    #   else:\n",
    "    #       z[i] = 1\n",
    "    #return z\n",
    "\n",
    "    #for elem in z:    \n",
    "    #   if elem < 0:\n",
    "    #       elem = 0.3\n",
    "    #   else:\n",
    "    #       elem = 1\n",
    "    #return z\n",
    "    \n",
    "    return 1 - (f(z)**2)"
   ]
  },
  {
   "cell_type": "markdown",
   "metadata": {},
   "source": [
    "### Creating and initialing W and b\n",
    "We want the weights in W to be different so that during back propagation the nodes on a level will have different gradients and thus have different update values.\n",
    "\n",
    "We want the  weights to be small values, since the sigmoid is almost \"flat\" for large inputs.\n",
    "\n",
    "Next is the code that assigns each weight a number uniformly drawn from $[0.0, 1.0)$.  The code assumes that the number of neurons in each level is in the python list *nn_structure*.\n",
    "\n",
    "In the code, the weights, $W^{(\\ell)}$ and $b^{(\\ell)}$ are held in a python dictionary"
   ]
  },
  {
   "cell_type": "code",
   "execution_count": 9,
   "metadata": {},
   "outputs": [],
   "source": [
    "def setup_and_init_weights(nn_structure):\n",
    "    W = {} #creating a dictionary i.e. a set of key: value pairs\n",
    "    b = {}\n",
    "    for l in range(1, len(nn_structure)):\n",
    "        W[l] = r.random_sample((nn_structure[l], nn_structure[l-1])) #Return “continuous uniform” random floats in the half-open interval [0.0, 1.0). \n",
    "        b[l] = r.random_sample((nn_structure[l],))\n",
    "    return W, b"
   ]
  },
  {
   "cell_type": "markdown",
   "metadata": {},
   "source": [
    "### Initializing $\\triangledown W$ and $\\triangledown b$\n",
    "Creating $\\triangledown W^{(\\ell)}$ and $\\triangledown b^{(\\ell)}$ to have the same size as $W^{(\\ell)}$ and $b^{(\\ell)}$, and setting $\\triangledown W^{(\\ell)}$, and  $\\triangledown b^{(\\ell)}$ to zero"
   ]
  },
  {
   "cell_type": "code",
   "execution_count": 10,
   "metadata": {},
   "outputs": [],
   "source": [
    "def init_tri_values(nn_structure):\n",
    "    tri_W = {}\n",
    "    tri_b = {}\n",
    "    for l in range(1, len(nn_structure)):\n",
    "        tri_W[l] = np.zeros((nn_structure[l], nn_structure[l-1]))\n",
    "        tri_b[l] = np.zeros((nn_structure[l],))\n",
    "    return tri_W, tri_b"
   ]
  },
  {
   "cell_type": "markdown",
   "metadata": {},
   "source": [
    "## Feed forward\n",
    "Perform a forward pass throught the network.  The function returns the values of $a$ and $z$"
   ]
  },
  {
   "cell_type": "code",
   "execution_count": 11,
   "metadata": {},
   "outputs": [],
   "source": [
    "def feed_forward(x, W, b):\n",
    "    a = {1: x} # create a dictionary for holding the a values for all levels\n",
    "    z = { } # create a dictionary for holding the z values for all the layers\n",
    "    for l in range(1, len(W) + 1): # for each layer\n",
    "        node_in = a[l]\n",
    "        z[l+1] = W[l].dot(node_in) + b[l]  # z^(l+1) = W^(l)*a^(l) + b^(l)\n",
    "        a[l+1] = f(z[l+1]) # a^(l+1) = f(z^(l+1))\n",
    "    return a, z"
   ]
  },
  {
   "cell_type": "markdown",
   "metadata": {},
   "source": [
    "## Compute $\\delta$\n",
    "The code below compute $\\delta^{(s_l)}$ in a function called \"calculate_out_layer_delta\",  and  computes $\\delta^{(\\ell)}$ for the hidden layers in the function called \"calculate_hidden_delta\".  \n",
    "\n",
    "If we wanted to have a different cost function, we would change the \"calculate_out_layer_delta\" function.\n"
   ]
  },
  {
   "cell_type": "code",
   "execution_count": 12,
   "metadata": {},
   "outputs": [],
   "source": [
    "def calculate_out_layer_delta(y, a_out, z_out):\n",
    "    # delta^(nl) = -(y_i - a_i^(nl)) * f'(z_i^(nl))\n",
    "    return -(y-a_out) * f_deriv(z_out) \n",
    "\n",
    "\n",
    "def calculate_hidden_delta(delta_plus_1, w_l, z_l):\n",
    "    # delta^(l) = (transpose(W^(l)) * delta^(l+1)) * f'(z^(l))\n",
    "    return np.dot(np.transpose(w_l), delta_plus_1) * f_deriv(z_l)"
   ]
  },
  {
   "cell_type": "markdown",
   "metadata": {},
   "source": [
    "## The Back Propagation Algorithm\n"
   ]
  },
  {
   "cell_type": "code",
   "execution_count": 13,
   "metadata": {},
   "outputs": [],
   "source": [
    "def train_nn(nn_structure, X, y, iter_num=3000, alpha=0.25):\n",
    "    W, b = setup_and_init_weights(nn_structure)\n",
    "    cnt = 0\n",
    "    N = len(y)\n",
    "    avg_cost_func = []\n",
    "    print('Starting gradient descent for {} iterations'.format(iter_num))\n",
    "    while cnt < iter_num:\n",
    "        if cnt%1000 == 0:\n",
    "            print('Iteration {} of {}'.format(cnt, iter_num))\n",
    "        tri_W, tri_b = init_tri_values(nn_structure)\n",
    "        avg_cost = 0\n",
    "        for i in range(N):\n",
    "            delta = {}\n",
    "            # perform the feed forward pass and return the stored a and z values, to be used in the\n",
    "            # gradient descent step\n",
    "            a, z = feed_forward(X[i, :], W, b)\n",
    "            # loop from nl-1 to 1 backpropagating the errors\n",
    "            for l in range(len(nn_structure), 0, -1):\n",
    "                if l == len(nn_structure):\n",
    "                    delta[l] = calculate_out_layer_delta(y[i,:], a[l], z[l])\n",
    "                    avg_cost += np.linalg.norm((y[i,:]-a[l]))\n",
    "                else:\n",
    "                    if l > 1:\n",
    "                        delta[l] = calculate_hidden_delta(delta[l+1], W[l], z[l])\n",
    "                    # triW^(l) = triW^(l) + delta^(l+1) * transpose(a^(l))\n",
    "                    tri_W[l] += np.dot(delta[l+1][:,np.newaxis], np.transpose(a[l][:,np.newaxis]))# np.newaxis increase the number of dimensions\n",
    "                    # trib^(l) = trib^(l) + delta^(l+1)\n",
    "                    tri_b[l] += delta[l+1]\n",
    "        # perform the gradient descent step for the weights in each layer\n",
    "        for l in range(len(nn_structure) - 1, 0, -1):\n",
    "            #W[l] += -alpha * (1.0/N * tri_W[l])\n",
    "            W[l] += -alpha * ((1.0/N * tri_W[l]) + ((.001/2)*(W[l]))) #with regularization term\n",
    "            b[l] += -alpha * (1.0/N * tri_b[l])\n",
    "        # complete the average cost calculation\n",
    "        avg_cost = 1.0/N * avg_cost\n",
    "        avg_cost_func.append(avg_cost)\n",
    "        cnt += 1\n",
    "    return W, b, avg_cost_func\n",
    "\n",
    "\n",
    "def predict_y(W, b, X, n_layers):\n",
    "    N = X.shape[0]\n",
    "    y = np.zeros((N,))\n",
    "    for i in range(N):\n",
    "        a, z = feed_forward(X[i, :], W, b)\n",
    "        y[i] = np.argmax(a[n_layers])\n",
    "    return y"
   ]
  },
  {
   "cell_type": "markdown",
   "metadata": {},
   "source": [
    "## Running the neural network\n",
    "\n",
    "Our code assumes the size of each layer in our network is held in a list.  The input layer will have 64 neurons (one for each pixel in our 8 by 8 pixelated digit).  Our hidden layer has 30 neurons (you can change this value).  The output layer has 10 neurons.\n",
    "\n",
    "Next we create the python list to hold the number of neurons for each level and then run the neural network code with our training data.\n",
    "\n",
    "This code will take some time..."
   ]
  },
  {
   "cell_type": "code",
   "execution_count": 14,
   "metadata": {},
   "outputs": [
    {
     "name": "stdout",
     "output_type": "stream",
     "text": [
      "Starting gradient descent for 4000 iterations\n",
      "Iteration 0 of 4000\n",
      "Iteration 1000 of 4000\n",
      "Iteration 2000 of 4000\n",
      "Iteration 3000 of 4000\n"
     ]
    }
   ],
   "source": [
    "nn_structure = [64, 30, 10, 10]\n",
    "    \n",
    "# train the NN\n",
    "W, b, avg_cost_func = train_nn(nn_structure, X_train, y_v_train, 4000)"
   ]
  },
  {
   "cell_type": "markdown",
   "metadata": {},
   "source": [
    "### Plotting the learning curve\n"
   ]
  },
  {
   "cell_type": "code",
   "execution_count": 26,
   "metadata": {},
   "outputs": [
    {
     "data": {
      "image/png": "[encoded data removed]",
      "text/plain": [
       "<Figure size 432x288 with 1 Axes>"
      ]
     },
     "metadata": {
      "needs_background": "light"
     },
     "output_type": "display_data"
    }
   ],
   "source": [
    "# plot the avg_cost_func\n",
    "plt.plot(avg_cost_func)\n",
    "plt.ylabel('Average J')\n",
    "plt.xlabel('Iteration number')\n",
    "plt.show()"
   ]
  },
  {
   "cell_type": "markdown",
   "metadata": {},
   "source": [
    "## 5) Assessing accuracy\n",
    "Next we determine what percentage the neural network correctly predicted the handwritten digit correctly on the test set"
   ]
  },
  {
   "cell_type": "code",
   "execution_count": 18,
   "metadata": {},
   "outputs": [
    {
     "name": "stdout",
     "output_type": "stream",
     "text": [
      "[2 2 3 3 8 0 1 3 2 6 4 3 8 9 0 3 4 2 4 4 5 0 6 6 7 6 5 4 9 2 1 4 9 6 4 3 4\n",
      " 5 3 1 8 5 4 9 9 9 9 8 3 8 4 6 5 1 4 4 2 0 5 6 6 6 3 9 0 0 0 8 5 9 5 1 0 9\n",
      " 9 2 6 2 6 0 7 3 6 5 1 0 2 2 8 1 1 0 0 3 1 4 1 1 6 2 0 9 7 5 4 0 6 5 5 5 7\n",
      " 6 5 9 1 4 0 1 6 3 7 2 6 8 9 3 0 8 5 7 4 3 6 1 6 3 6 1 8 1 2 0 8 5 8 9 8 4\n",
      " 9 2 9 7 6 8 1 1 8 2 4 2 1 5 5 3 9 7 6 0 3 2 3 8 0 1 8 4 4 8 8 0 1 9 2 9 3\n",
      " 9 0 4 9 8 7 7 3 0 9 4 5 5 8 2 2 9 6 7 8 0 5 6 0 1 6 1 4 7 5 3 0 1 2 8 3 7\n",
      " 1 5 4 6 2 5 5 5 9 1 0 9 0 9 5 3 1 6 4 1 8 5 2 3 8 7 5 2 2 0 2 4 8 8 4 7 0\n",
      " 3 1 7 0 0 2 5 0 5 0 3 9 0 9 6 7 2 8 2 3 2 8 0 8 8 2 4 3 1 7 2 4 3 4 8 1 8\n",
      " 8 7 1 1 3 5 2 6 3 5 7 1 8 9 4 2 7 1 7 5 0 6 0 3 0 4 7 4 3 8 1 3 5 3 8 7 5\n",
      " 0 2 1 7 0 2 7 7 9 2 3 4 3 6 1 4 4 2 0 1 9 0 0 7 0 9 3 2 7 9 1 7 1 6 1 0 2\n",
      " 8 8 8 8 5 7 2 7 7 0 8 3 4 1 7 8 9 7 6 6 1 4 4 7 8 7 9 3 6 0 9 5 6 7 5 3 2\n",
      " 1 8 7 1 3 1 6 4 7 2 0 9 7 0 5 2 5 6 6 2 2 4 7 4 2 8 0 8 5 6 6 1 8 3 4 1 4\n",
      " 3 0 0 7 8 2 7 3 9 5 3 3 0 9 7 4 8 0 4 7 5 3 6 0 3 2 5 6 8 1 6 7 5 5 9 8 2\n",
      " 7 9 8 5 8 6 1 9 7 5 6 0 9 5 6 2 8 4 4 9 5 1 4 6 9 9 6 7 3 1 6 2 7 0 2 9 2\n",
      " 5 6 8 2 4 3 0 1 6 6 7 0 3 5 9 7 4 2 9 3 3 3 3 4 9 4 6 5 3 7 0 5 7 2 2 5 4\n",
      " 3 4 5 3 7 8 0 7 4 3 7 8 8 8 2 1 0 6 3 5 4 1 1 5 6 1 6 0 8 5 9 2 5 2 6 7 4\n",
      " 1 8 5 5 1 2 7 6 5 5 3 2 6 4 3 9 1 3 9 1 0 2 9 7 7 4 2 9 3 4 7 3 7 5 0 8 2\n",
      " 7 5 6 1 4 3 0 6 0 6 3 2 9 5 5 4 2 6 8 2 0 3 3 6 9 7 9 0 3 3 2 3 2 7 8 5 4\n",
      " 7 2 1 4 6 5 2 3 7 7 9 3 0 0 4 5 2 7 7 3 4 2 4 9 6 3 8 5 7 7 4 4 4 0 1 9 4\n",
      " 2 9 0 4 2 9 2 5 7 7 8 0 3 7 0 9]\n",
      "[2. 2. 2. 8. 8. 0. 1. 9. 8. 6. 4. 5. 7. 2. 0. 8. 4. 2. 4. 4. 9. 0. 6. 2.\n",
      " 8. 8. 5. 4. 9. 3. 1. 4. 8. 1. 4. 3. 4. 5. 3. 1. 5. 5. 4. 9. 9. 2. 9. 8.\n",
      " 3. 8. 4. 6. 5. 1. 4. 4. 2. 0. 5. 6. 6. 6. 9. 7. 0. 0. 0. 1. 4. 9. 5. 1.\n",
      " 0. 9. 2. 2. 6. 2. 6. 0. 1. 2. 6. 5. 1. 0. 2. 8. 8. 1. 1. 0. 0. 9. 1. 4.\n",
      " 1. 1. 6. 2. 0. 5. 7. 5. 4. 0. 6. 5. 5. 0. 7. 6. 7. 9. 1. 8. 0. 1. 6. 9.\n",
      " 2. 3. 2. 8. 9. 3. 0. 8. 5. 7. 1. 6. 6. 1. 6. 9. 6. 1. 8. 1. 2. 0. 8. 5.\n",
      " 8. 9. 8. 4. 9. 2. 8. 7. 6. 1. 1. 1. 8. 2. 4. 2. 8. 5. 5. 3. 1. 7. 6. 0.\n",
      " 8. 8. 5. 1. 0. 1. 8. 4. 4. 1. 8. 0. 1. 9. 2. 9. 9. 9. 0. 4. 9. 2. 7. 7.\n",
      " 9. 1. 5. 4. 5. 5. 1. 4. 2. 8. 0. 7. 1. 0. 5. 6. 0. 1. 6. 1. 4. 7. 5. 9.\n",
      " 0. 1. 2. 8. 2. 7. 9. 5. 4. 6. 2. 5. 5. 5. 8. 1. 0. 9. 0. 9. 5. 3. 1. 6.\n",
      " 4. 1. 8. 5. 2. 2. 8. 7. 5. 2. 2. 0. 1. 4. 8. 1. 4. 7. 0. 3. 1. 7. 0. 0.\n",
      " 2. 5. 0. 5. 2. 8. 3. 0. 9. 6. 7. 2. 8. 9. 9. 2. 8. 0. 8. 8. 2. 4. 9. 1.\n",
      " 1. 2. 1. 9. 4. 8. 1. 2. 7. 7. 1. 1. 9. 5. 2. 1. 3. 9. 7. 1. 8. 9. 4. 8.\n",
      " 7. 1. 7. 5. 0. 6. 0. 8. 0. 4. 7. 4. 2. 8. 1. 9. 5. 2. 7. 7. 5. 0. 2. 1.\n",
      " 7. 1. 2. 2. 7. 2. 2. 9. 4. 9. 6. 1. 1. 4. 2. 0. 1. 1. 0. 6. 7. 0. 9. 2.\n",
      " 3. 7. 9. 1. 7. 1. 6. 1. 0. 2. 2. 8. 8. 5. 5. 7. 2. 7. 7. 2. 8. 5. 4. 9.\n",
      " 7. 8. 8. 7. 6. 6. 1. 4. 4. 7. 8. 7. 9. 2. 0. 0. 9. 5. 1. 7. 5. 3. 2. 1.\n",
      " 2. 7. 1. 8. 1. 6. 4. 7. 2. 0. 9. 7. 0. 5. 2. 5. 6. 6. 2. 2. 4. 8. 1. 2.\n",
      " 8. 0. 8. 5. 6. 1. 6. 2. 8. 4. 1. 4. 7. 0. 0. 7. 9. 2. 7. 9. 9. 5. 9. 9.\n",
      " 0. 9. 7. 1. 8. 0. 4. 7. 2. 9. 6. 0. 3. 2. 2. 6. 8. 1. 6. 7. 5. 5. 9. 8.\n",
      " 2. 7. 9. 1. 5. 2. 6. 1. 2. 7. 5. 6. 0. 9. 5. 6. 2. 8. 2. 4. 5. 5. 1. 4.\n",
      " 6. 9. 9. 6. 7. 9. 1. 6. 2. 7. 0. 2. 9. 2. 5. 6. 8. 2. 4. 3. 0. 1. 1. 6.\n",
      " 7. 0. 9. 5. 9. 7. 4. 2. 9. 9. 3. 2. 3. 4. 9. 4. 6. 5. 8. 7. 0. 5. 7. 3.\n",
      " 2. 5. 4. 9. 4. 5. 3. 7. 8. 0. 2. 1. 3. 7. 8. 8. 2. 2. 1. 0. 6. 3. 6. 4.\n",
      " 1. 1. 5. 6. 2. 6. 0. 8. 5. 9. 2. 5. 2. 6. 7. 4. 1. 8. 5. 5. 1. 2. 7. 6.\n",
      " 5. 5. 9. 2. 6. 4. 9. 1. 1. 9. 9. 1. 0. 2. 2. 7. 7. 4. 8. 9. 3. 4. 7. 2.\n",
      " 7. 2. 0. 8. 1. 7. 5. 6. 1. 4. 0. 6. 6. 0. 2. 9. 2. 9. 5. 5. 4. 1. 6. 8.\n",
      " 1. 0. 3. 2. 6. 8. 7. 9. 0. 9. 9. 8. 8. 2. 1. 2. 5. 4. 7. 8. 1. 4. 6. 5.\n",
      " 8. 8. 7. 4. 9. 9. 0. 0. 4. 5. 2. 7. 7. 8. 4. 2. 4. 9. 6. 2. 8. 5. 7. 7.\n",
      " 4. 4. 4. 0. 1. 9. 4. 3. 9. 0. 4. 2. 8. 2. 5. 2. 7. 8. 0. 2. 7. 0. 9.]\n",
      "Prediction accuracy is 76.21696801112657%\n"
     ]
    }
   ],
   "source": [
    "# get the prediction accuracy and print\n",
    "y_pred = predict_y(W, b, X_test, 4)\n",
    "print(y_test)\n",
    "print(y_pred)\n",
    "print('Prediction accuracy is {}%'.format(accuracy_score(y_test, y_pred) * 100))"
   ]
  },
  {
   "cell_type": "code",
   "execution_count": null,
   "metadata": {},
   "outputs": [],
   "source": []
  }
 ],
 "metadata": {
  "kernelspec": {
   "display_name": "Python 3",
   "language": "python",
   "name": "python3"
  },
  "language_info": {
   "codemirror_mode": {
    "name": "ipython",
    "version": 3
   },
   "file_extension": ".py",
   "mimetype": "text/x-python",
   "name": "python",
   "nbconvert_exporter": "python",
   "pygments_lexer": "ipython3",
   "version": "3.8.3"
  }
 },
 "nbformat": 4,
 "nbformat_minor": 2
}
