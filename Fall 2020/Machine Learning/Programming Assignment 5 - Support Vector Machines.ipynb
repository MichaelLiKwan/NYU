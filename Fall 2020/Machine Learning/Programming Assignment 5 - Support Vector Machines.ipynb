{
 "cells": [
  {
   "cell_type": "markdown",
   "metadata": {},
   "source": [
    "# Programming Assignment 5 - Support Vector Machines (215 points)\n",
    "In this programming assignment, you would use Support Vector Machines and Logistic Regression\n",
    "for a classification problem. We are going to compare performance of both the algorithms on the same dataset with different values of parameters like type of kernel used, type of regularization techniques used (ridge/lasso) etc."
   ]
  },
  {
   "cell_type": "markdown",
   "metadata": {},
   "source": [
    "Do the assignment carefully, by understanding the structure of the code."
   ]
  },
  {
   "cell_type": "markdown",
   "metadata": {},
   "source": [
    "# Instructions :\n",
    "You have to write a small report in a pdf file. You can use bullet points to discuss your results for every function of the assignment.<br>\n",
    "For example, for data1.csv dataset, write which method gave you the best accuracy using which value of the parameter.<br>\n",
    "Do not write explainations, just discuss your results / observations point to point. \n"
   ]
  },
  {
   "cell_type": "code",
   "execution_count": 1,
   "metadata": {},
   "outputs": [],
   "source": [
    "# Importing the libraries to be used:\n",
    "import numpy as np\n",
    "import pandas as pd\n",
    "from sklearn import linear_model\n",
    "import matplotlib.pyplot as plt\n",
    "%matplotlib inline "
   ]
  },
  {
   "cell_type": "markdown",
   "metadata": {},
   "source": [
    "# Importing the dataset:\n",
    "The dataset we are using for this assignment is taken from UCI Machine Learning Repository. The dataset consists of Attributes/Factors that contribute to prediction of Diabetic Retinopathy(DR) in a diabetic patient. Given some predictors, we need to predict the value of target variable i.e. DR or Non-DR case. The dataset is given in the file data1.csv  "
   ]
  },
  {
   "cell_type": "code",
   "execution_count": 2,
   "metadata": {},
   "outputs": [
    {
     "name": "stdout",
     "output_type": "stream",
     "text": [
      "(1151, 20)\n"
     ]
    }
   ],
   "source": [
    "# TODO - Read the file into a pandas data frame - 5 points\n",
    "df = pd.read_csv('data1.csv',na_values='?') \n",
    "print(df.shape)"
   ]
  },
  {
   "cell_type": "code",
   "execution_count": 3,
   "metadata": {},
   "outputs": [
    {
     "name": "stdout",
     "output_type": "stream",
     "text": [
      "(1151, 20)\n"
     ]
    }
   ],
   "source": [
    "# TODO - Drop columns that have missing values - 5 points\n",
    "df1 = df.dropna()\n",
    "print(df1.shape)"
   ]
  },
  {
   "cell_type": "code",
   "execution_count": 4,
   "metadata": {},
   "outputs": [
    {
     "name": "stdout",
     "output_type": "stream",
     "text": [
      "(1151, 20)\n"
     ]
    }
   ],
   "source": [
    "# TODO - Convert the df1 data frame into a numpy array named df2. Use values method of dataframes - 5 points\n",
    "df2 = df1.values\n",
    "print(df2.shape)"
   ]
  },
  {
   "cell_type": "code",
   "execution_count": 5,
   "metadata": {},
   "outputs": [
    {
     "name": "stdout",
     "output_type": "stream",
     "text": [
      "(1151, 19)\n",
      "(1151,)\n"
     ]
    }
   ],
   "source": [
    "# TODO - Select all rows and first 19 columns as X from df2 and select all rows and last column as Y from df2 - 5 points\n",
    "X = df2[:, :df2.shape[1]-1]\n",
    "Y = df2[:, df2.shape[1]-1]\n",
    "print(X.shape)\n",
    "print(Y.shape)"
   ]
  },
  {
   "cell_type": "code",
   "execution_count": 6,
   "metadata": {},
   "outputs": [],
   "source": [
    "# Splitting the dataset into training and test data.\n",
    "# TODO - Select first 600 rows as training dataset and the remaining rows as test dataset - 5 points\n",
    "X_train = X[:600]\n",
    "Y_train = Y[:600]\n",
    "X_test = X[600:]\n",
    "Y_test = Y[600:]"
   ]
  },
  {
   "cell_type": "markdown",
   "metadata": {},
   "source": [
    "# Logistic Regression\n",
    "First we will fit the dataset using a logistic regression model."
   ]
  },
  {
   "cell_type": "markdown",
   "metadata": {},
   "source": [
    "# Logistic Regression with Lasso (L1) Regularization.\n",
    "Read the comments in the below cell carefully.\n",
    "Try different values of parameter C."
   ]
  },
  {
   "cell_type": "code",
   "execution_count": 7,
   "metadata": {},
   "outputs": [],
   "source": [
    "# Initialize an empty list to store values of training set accuracy.\n",
    "acc_train_logreg = [] "
   ]
  },
  {
   "cell_type": "code",
   "execution_count": 8,
   "metadata": {},
   "outputs": [],
   "source": [
    "# Initialize an empty list to store values of test set accuracy.\n",
    "acc_test_logreg = []"
   ]
  },
  {
   "cell_type": "code",
   "execution_count": 9,
   "metadata": {},
   "outputs": [],
   "source": [
    "# Initialize an empty list to store different values of parameter 'c'.\n",
    "c_logreg = []"
   ]
  },
  {
   "cell_type": "code",
   "execution_count": 10,
   "metadata": {},
   "outputs": [],
   "source": [
    "# Complete the function logreg that accepts 'c' as a parameter, which is used to create logreg model \n",
    "# with different values of C.\n",
    "def logreg_model(c , X_train, Y_train, X_test, Y_test):\n",
    "    # Create an object of logistic regression model using linear_model.\n",
    "    # Pass the value of penalty as 'L1'. By default, it is 'L2'.\n",
    "    # Pass the value of C = c. Note that C is the inverse of lambda. So, small value of C i.e. b/w 0 and 1 \n",
    "    # means stronger regularization and large value means less regularization.\n",
    "    # Also, in sklearn, L1 is only supported with solver = 'saga'. Solver is the type of optimization algorithm like GDA or\n",
    "    # SGDA, which is to be used. So, 'saga' is another algorithm like that. Pass the value of solver as 'saga'\n",
    "\n",
    "    # TODO - Create the Logistic Regression model object as described above and save it to logreg - 5 points\n",
    "    logreg = linear_model.LogisticRegression(penalty = 'l1', C = c, solver = 'saga')\n",
    "    \n",
    "    # TODO - Fit the model on the training set - 5 points\n",
    "    logreg.fit(X_train, Y_train)\n",
    "    \n",
    "    # TODO - Find the prediction on training set - 5 points\n",
    "    Yhat_train = logreg.predict(X_train)\n",
    "    \n",
    "    # Adding training accuracy to acc_train_logreg\n",
    "    acc_train = logreg.score(X_train, Y_train)\n",
    "    acc_train_logreg.append(acc_train)\n",
    "    print(\"Accuracy on training data = %f\" % acc_train)\n",
    "    \n",
    "    # TODO - Find the prediction on test set - 5 points\n",
    "    Yhat_test = logreg.predict(X_test)\n",
    "    \n",
    "    # Adding testing accuracy to acc_test_logreg\n",
    "    acc_test = logreg.score(X_test, Y_test)\n",
    "    acc_test_logreg.append(acc_test)\n",
    "    print(\"Accuracy on test data = %f\" % acc_test)\n",
    "    \n",
    "    # Appending value of c for graphing purposes\n",
    "    c_logreg.append(c)"
   ]
  },
  {
   "cell_type": "code",
   "execution_count": 11,
   "metadata": {},
   "outputs": [
    {
     "name": "stdout",
     "output_type": "stream",
     "text": [
      "Accuracy on training data = 0.543333\n",
      "Accuracy on test data = 0.517241\n",
      "Accuracy on training data = 0.543333\n",
      "Accuracy on test data = 0.517241\n",
      "Accuracy on training data = 0.690000\n",
      "Accuracy on test data = 0.635209\n",
      "Accuracy on training data = 0.718333\n",
      "Accuracy on test data = 0.669691\n",
      "Accuracy on training data = 0.723333\n",
      "Accuracy on test data = 0.678766\n",
      "Accuracy on training data = 0.723333\n",
      "Accuracy on test data = 0.680581\n"
     ]
    },
    {
     "name": "stderr",
     "output_type": "stream",
     "text": [
      "C:\\Users\\immic\\anaconda3\\lib\\site-packages\\sklearn\\linear_model\\_sag.py:329: ConvergenceWarning: The max_iter was reached which means the coef_ did not converge\n",
      "  warnings.warn(\"The max_iter was reached which means \"\n",
      "C:\\Users\\immic\\anaconda3\\lib\\site-packages\\sklearn\\linear_model\\_sag.py:329: ConvergenceWarning: The max_iter was reached which means the coef_ did not converge\n",
      "  warnings.warn(\"The max_iter was reached which means \"\n",
      "C:\\Users\\immic\\anaconda3\\lib\\site-packages\\sklearn\\linear_model\\_sag.py:329: ConvergenceWarning: The max_iter was reached which means the coef_ did not converge\n",
      "  warnings.warn(\"The max_iter was reached which means \"\n",
      "C:\\Users\\immic\\anaconda3\\lib\\site-packages\\sklearn\\linear_model\\_sag.py:329: ConvergenceWarning: The max_iter was reached which means the coef_ did not converge\n",
      "  warnings.warn(\"The max_iter was reached which means \"\n"
     ]
    }
   ],
   "source": [
    "# Call the above function i.e. logreg_model with different values of parameter 'c'.\n",
    "# Start with smaller values of 'c' say 0.0001, 0.001, 0.01, 0.1, 1, 10, 100\n",
    "cVals = [0.0001, 0.001, 0.01, 0.1, 1, 10]\n",
    "for c in cVals:\n",
    "    logreg_model(c, X_train, Y_train, X_test, Y_test)"
   ]
  },
  {
   "cell_type": "code",
   "execution_count": 12,
   "metadata": {},
   "outputs": [
    {
     "name": "stdout",
     "output_type": "stream",
     "text": [
      "Accuracy on training data = 0.543333\n",
      "Accuracy on test data = 0.517241\n",
      "Accuracy on training data = 0.558333\n",
      "Accuracy on test data = 0.535390\n",
      "Accuracy on training data = 0.690000\n",
      "Accuracy on test data = 0.635209\n",
      "Accuracy on training data = 0.718333\n",
      "Accuracy on test data = 0.669691\n"
     ]
    },
    {
     "name": "stderr",
     "output_type": "stream",
     "text": [
      "C:\\Users\\immic\\anaconda3\\lib\\site-packages\\sklearn\\linear_model\\_sag.py:329: ConvergenceWarning: The max_iter was reached which means the coef_ did not converge\n",
      "  warnings.warn(\"The max_iter was reached which means \"\n",
      "C:\\Users\\immic\\anaconda3\\lib\\site-packages\\sklearn\\linear_model\\_sag.py:329: ConvergenceWarning: The max_iter was reached which means the coef_ did not converge\n",
      "  warnings.warn(\"The max_iter was reached which means \"\n",
      "C:\\Users\\immic\\anaconda3\\lib\\site-packages\\sklearn\\linear_model\\_sag.py:329: ConvergenceWarning: The max_iter was reached which means the coef_ did not converge\n",
      "  warnings.warn(\"The max_iter was reached which means \"\n",
      "C:\\Users\\immic\\anaconda3\\lib\\site-packages\\sklearn\\linear_model\\_sag.py:329: ConvergenceWarning: The max_iter was reached which means the coef_ did not converge\n",
      "  warnings.warn(\"The max_iter was reached which means \"\n",
      "C:\\Users\\immic\\anaconda3\\lib\\site-packages\\sklearn\\linear_model\\_sag.py:329: ConvergenceWarning: The max_iter was reached which means the coef_ did not converge\n",
      "  warnings.warn(\"The max_iter was reached which means \"\n"
     ]
    },
    {
     "name": "stdout",
     "output_type": "stream",
     "text": [
      "Accuracy on training data = 0.723333\n",
      "Accuracy on test data = 0.678766\n",
      "Accuracy on training data = 0.723333\n",
      "Accuracy on test data = 0.678766\n"
     ]
    },
    {
     "data": {
      "text/plain": [
       "<matplotlib.legend.Legend at 0x2715a4b7be0>"
      ]
     },
     "execution_count": 12,
     "metadata": {},
     "output_type": "execute_result"
    },
    {
     "data": {
      "image/png": "[encoded data removed]",
      "text/plain": [
       "<Figure size 432x288 with 1 Axes>"
      ]
     },
     "metadata": {
      "needs_background": "light"
     },
     "output_type": "display_data"
    }
   ],
   "source": [
    "# TODO - Write code to plot 2 plots - 10 points\n",
    "# Plot training accuracy(Y-axis) v/s 'c' on X - Axis.\n",
    "# Plot test accuracy(Y-Axis) v/s 'c' on X - Axis.\n",
    "\n",
    "# IMP - Make sure you reinitialize c_logreg, acc_train_logreg and acc_test_logreg before rerunning logreg_model()\n",
    "acc_train_logreg = [] \n",
    "acc_test_logreg = []\n",
    "c_logreg = []\n",
    "\n",
    "cVals = [0.0001, 0.001, 0.01, 0.1, 1, 10]\n",
    "for c in cVals:\n",
    "    logreg_model(c, X_train, Y_train, X_test, Y_test)\n",
    "    \n",
    "plt.plot(c_logreg,acc_train_logreg,'.-',color='green')\n",
    "plt.plot(c_logreg,acc_test_logreg,'.-',color='blue')\n",
    "plt.xlabel('c')\n",
    "plt.ylabel('Accuracy')\n",
    "plt.grid()\n",
    "\n",
    "# Use the following function to have a legend\n",
    "plt.legend(['Training Accuracy', 'Test Accuracy'], loc='upper right')"
   ]
  },
  {
   "cell_type": "markdown",
   "metadata": {},
   "source": [
    "# Logistic Regression with Ridge(L2) Regularization."
   ]
  },
  {
   "cell_type": "code",
   "execution_count": 13,
   "metadata": {},
   "outputs": [],
   "source": [
    "# Initialize an empty list to store values of training set accuracy.\n",
    "acc_train_logreg2 = []"
   ]
  },
  {
   "cell_type": "code",
   "execution_count": 14,
   "metadata": {},
   "outputs": [],
   "source": [
    "# Initialize an empty list to store values of test set accuracy.\n",
    "acc_test_logreg2 = []"
   ]
  },
  {
   "cell_type": "code",
   "execution_count": 15,
   "metadata": {},
   "outputs": [],
   "source": [
    "# Initialize an empty list to store different values of parameter 'c'.\n",
    "c_logreg2 = []"
   ]
  },
  {
   "cell_type": "code",
   "execution_count": 16,
   "metadata": {},
   "outputs": [],
   "source": [
    "def logreg2_model(c , X_train, Y_train, X_test, Y_test):\n",
    "    # Create an object of logistic regression model using linear_model.\n",
    "    # Pass the value of C=c.\n",
    "    # You need not pass other parameters as penalty is 'L2' by default.\n",
    "    \n",
    "    # TODO - Create the Logistic Regression model object as described above and save it to logreg2 - 5 points\n",
    "    logreg2 = linear_model.LogisticRegression(C=c)\n",
    "    \n",
    "    # TODO - Fit the model on the training set - 5 points\n",
    "    logreg2.fit(X_train, Y_train)\n",
    "    \n",
    "    # TODO - Find the prediction on training set - 5 points\n",
    "    Yhat_train = logreg2.predict(X_train)\n",
    "    \n",
    "    # Adding training accuracy to acc_train_logreg2\n",
    "    acc_train = logreg2.score(X_train, Y_train)\n",
    "    acc_train_logreg2.append(acc_train)\n",
    "    print(\"Accuracy on training data = %f\" % acc_train)\n",
    "    \n",
    "    # TODO - Find the prediction on test set - 5 points\n",
    "    Yhat_test = logreg2.predict(X_test)\n",
    "    \n",
    "    # Adding testing accuracy to acc_test_logreg2\n",
    "    acc_test = logreg2.score(X_test, Y_test)\n",
    "    acc_test_logreg2.append(acc_test)\n",
    "    print(\"Accuracy on test data = %f\" % acc_test)\n",
    "    \n",
    "    # Appending value of c for graphing purposes\n",
    "    c_logreg2.append(c)\n",
    "    "
   ]
  },
  {
   "cell_type": "code",
   "execution_count": 17,
   "metadata": {},
   "outputs": [
    {
     "name": "stdout",
     "output_type": "stream",
     "text": [
      "Accuracy on training data = 0.655000\n",
      "Accuracy on test data = 0.646098\n",
      "Accuracy on training data = 0.713333\n",
      "Accuracy on test data = 0.707804\n",
      "Accuracy on training data = 0.728333\n",
      "Accuracy on test data = 0.725953\n",
      "Accuracy on training data = 0.736667\n",
      "Accuracy on test data = 0.736842\n",
      "Accuracy on training data = 0.740000\n",
      "Accuracy on test data = 0.745917\n",
      "Accuracy on training data = 0.738333\n",
      "Accuracy on test data = 0.745917\n",
      "Accuracy on training data = 0.743333\n",
      "Accuracy on test data = 0.738657\n"
     ]
    },
    {
     "name": "stderr",
     "output_type": "stream",
     "text": [
      "C:\\Users\\immic\\anaconda3\\lib\\site-packages\\sklearn\\linear_model\\_logistic.py:762: ConvergenceWarning: lbfgs failed to converge (status=1):\n",
      "STOP: TOTAL NO. of ITERATIONS REACHED LIMIT.\n",
      "\n",
      "Increase the number of iterations (max_iter) or scale the data as shown in:\n",
      "    https://scikit-learn.org/stable/modules/preprocessing.html\n",
      "Please also refer to the documentation for alternative solver options:\n",
      "    https://scikit-learn.org/stable/modules/linear_model.html#logistic-regression\n",
      "  n_iter_i = _check_optimize_result(\n",
      "C:\\Users\\immic\\anaconda3\\lib\\site-packages\\sklearn\\linear_model\\_logistic.py:762: ConvergenceWarning: lbfgs failed to converge (status=1):\n",
      "STOP: TOTAL NO. of ITERATIONS REACHED LIMIT.\n",
      "\n",
      "Increase the number of iterations (max_iter) or scale the data as shown in:\n",
      "    https://scikit-learn.org/stable/modules/preprocessing.html\n",
      "Please also refer to the documentation for alternative solver options:\n",
      "    https://scikit-learn.org/stable/modules/linear_model.html#logistic-regression\n",
      "  n_iter_i = _check_optimize_result(\n",
      "C:\\Users\\immic\\anaconda3\\lib\\site-packages\\sklearn\\linear_model\\_logistic.py:762: ConvergenceWarning: lbfgs failed to converge (status=1):\n",
      "STOP: TOTAL NO. of ITERATIONS REACHED LIMIT.\n",
      "\n",
      "Increase the number of iterations (max_iter) or scale the data as shown in:\n",
      "    https://scikit-learn.org/stable/modules/preprocessing.html\n",
      "Please also refer to the documentation for alternative solver options:\n",
      "    https://scikit-learn.org/stable/modules/linear_model.html#logistic-regression\n",
      "  n_iter_i = _check_optimize_result(\n",
      "C:\\Users\\immic\\anaconda3\\lib\\site-packages\\sklearn\\linear_model\\_logistic.py:762: ConvergenceWarning: lbfgs failed to converge (status=1):\n",
      "STOP: TOTAL NO. of ITERATIONS REACHED LIMIT.\n",
      "\n",
      "Increase the number of iterations (max_iter) or scale the data as shown in:\n",
      "    https://scikit-learn.org/stable/modules/preprocessing.html\n",
      "Please also refer to the documentation for alternative solver options:\n",
      "    https://scikit-learn.org/stable/modules/linear_model.html#logistic-regression\n",
      "  n_iter_i = _check_optimize_result(\n",
      "C:\\Users\\immic\\anaconda3\\lib\\site-packages\\sklearn\\linear_model\\_logistic.py:762: ConvergenceWarning: lbfgs failed to converge (status=1):\n",
      "STOP: TOTAL NO. of ITERATIONS REACHED LIMIT.\n",
      "\n",
      "Increase the number of iterations (max_iter) or scale the data as shown in:\n",
      "    https://scikit-learn.org/stable/modules/preprocessing.html\n",
      "Please also refer to the documentation for alternative solver options:\n",
      "    https://scikit-learn.org/stable/modules/linear_model.html#logistic-regression\n",
      "  n_iter_i = _check_optimize_result(\n"
     ]
    }
   ],
   "source": [
    "# Call the above function i.e. logreg_model with different values of parameter 'c'.\n",
    "# Start with smaller values of 'c' say 0.0001, 0.001, 0.01, 0.1, 1, 10, 100\n",
    "cVals = [0.0001, 0.001, 0.01, 0.1, 1, 10, 100]\n",
    "for c in cVals:\n",
    "    logreg2_model(c, X_train, Y_train, X_test, Y_test)"
   ]
  },
  {
   "cell_type": "code",
   "execution_count": 30,
   "metadata": {},
   "outputs": [
    {
     "name": "stdout",
     "output_type": "stream",
     "text": [
      "Accuracy on training data = 0.655000\n",
      "Accuracy on test data = 0.646098\n",
      "Accuracy on training data = 0.713333\n",
      "Accuracy on test data = 0.707804\n",
      "Accuracy on training data = 0.728333\n",
      "Accuracy on test data = 0.725953\n",
      "Accuracy on training data = 0.736667\n",
      "Accuracy on test data = 0.736842\n",
      "Accuracy on training data = 0.740000\n",
      "Accuracy on test data = 0.745917\n",
      "Accuracy on training data = 0.738333\n",
      "Accuracy on test data = 0.745917\n",
      "Accuracy on training data = 0.743333\n",
      "Accuracy on test data = 0.738657\n"
     ]
    },
    {
     "name": "stderr",
     "output_type": "stream",
     "text": [
      "C:\\Users\\immic\\anaconda3\\lib\\site-packages\\sklearn\\linear_model\\_logistic.py:762: ConvergenceWarning: lbfgs failed to converge (status=1):\n",
      "STOP: TOTAL NO. of ITERATIONS REACHED LIMIT.\n",
      "\n",
      "Increase the number of iterations (max_iter) or scale the data as shown in:\n",
      "    https://scikit-learn.org/stable/modules/preprocessing.html\n",
      "Please also refer to the documentation for alternative solver options:\n",
      "    https://scikit-learn.org/stable/modules/linear_model.html#logistic-regression\n",
      "  n_iter_i = _check_optimize_result(\n",
      "C:\\Users\\immic\\anaconda3\\lib\\site-packages\\sklearn\\linear_model\\_logistic.py:762: ConvergenceWarning: lbfgs failed to converge (status=1):\n",
      "STOP: TOTAL NO. of ITERATIONS REACHED LIMIT.\n",
      "\n",
      "Increase the number of iterations (max_iter) or scale the data as shown in:\n",
      "    https://scikit-learn.org/stable/modules/preprocessing.html\n",
      "Please also refer to the documentation for alternative solver options:\n",
      "    https://scikit-learn.org/stable/modules/linear_model.html#logistic-regression\n",
      "  n_iter_i = _check_optimize_result(\n",
      "C:\\Users\\immic\\anaconda3\\lib\\site-packages\\sklearn\\linear_model\\_logistic.py:762: ConvergenceWarning: lbfgs failed to converge (status=1):\n",
      "STOP: TOTAL NO. of ITERATIONS REACHED LIMIT.\n",
      "\n",
      "Increase the number of iterations (max_iter) or scale the data as shown in:\n",
      "    https://scikit-learn.org/stable/modules/preprocessing.html\n",
      "Please also refer to the documentation for alternative solver options:\n",
      "    https://scikit-learn.org/stable/modules/linear_model.html#logistic-regression\n",
      "  n_iter_i = _check_optimize_result(\n",
      "C:\\Users\\immic\\anaconda3\\lib\\site-packages\\sklearn\\linear_model\\_logistic.py:762: ConvergenceWarning: lbfgs failed to converge (status=1):\n",
      "STOP: TOTAL NO. of ITERATIONS REACHED LIMIT.\n",
      "\n",
      "Increase the number of iterations (max_iter) or scale the data as shown in:\n",
      "    https://scikit-learn.org/stable/modules/preprocessing.html\n",
      "Please also refer to the documentation for alternative solver options:\n",
      "    https://scikit-learn.org/stable/modules/linear_model.html#logistic-regression\n",
      "  n_iter_i = _check_optimize_result(\n",
      "C:\\Users\\immic\\anaconda3\\lib\\site-packages\\sklearn\\linear_model\\_logistic.py:762: ConvergenceWarning: lbfgs failed to converge (status=1):\n",
      "STOP: TOTAL NO. of ITERATIONS REACHED LIMIT.\n",
      "\n",
      "Increase the number of iterations (max_iter) or scale the data as shown in:\n",
      "    https://scikit-learn.org/stable/modules/preprocessing.html\n",
      "Please also refer to the documentation for alternative solver options:\n",
      "    https://scikit-learn.org/stable/modules/linear_model.html#logistic-regression\n",
      "  n_iter_i = _check_optimize_result(\n"
     ]
    },
    {
     "data": {
      "text/plain": [
       "<matplotlib.legend.Legend at 0x2715fcf1e20>"
      ]
     },
     "execution_count": 30,
     "metadata": {},
     "output_type": "execute_result"
    },
    {
     "data": {
      "image/png": "[encoded data removed]",
      "text/plain": [
       "<Figure size 432x288 with 1 Axes>"
      ]
     },
     "metadata": {
      "needs_background": "light"
     },
     "output_type": "display_data"
    }
   ],
   "source": [
    "# TODO - Write code to plot 2 plots - 10 points\n",
    "# Plot training accuracy(Y-axis) v/s 'c' on X - Axis.\n",
    "# Plot test accuracy(Y-Axis) v/s 'c' on X - Axis.\n",
    "\n",
    "# IMP - Make sure you reinitialize c_logreg2, acc_train_logreg2 and acc_test_logreg2 before rerunning logreg2_model()\n",
    "acc_train_logreg2 = [] \n",
    "acc_test_logreg2 = []\n",
    "c_logreg2 = []\n",
    "\n",
    "cVals = [0.0001, 0.001, 0.01, 0.1, 1, 10, 100]\n",
    "for c in cVals:\n",
    "    logreg2_model(c, X_train, Y_train, X_test, Y_test)\n",
    "    \n",
    "plt.plot(c_logreg2,acc_train_logreg2,'.-',color='green')\n",
    "plt.plot(c_logreg2,acc_test_logreg2,'.-',color='blue')\n",
    "plt.xlabel('c')\n",
    "plt.ylabel('Accuracy')\n",
    "plt.grid()\n",
    "\n",
    "# Use the following function to have a legend\n",
    "plt.legend(['Training Accuracy', 'Test Accuracy'], loc='upper right')"
   ]
  },
  {
   "cell_type": "markdown",
   "metadata": {},
   "source": [
    "# Logistic Regression Using Polynomial Feature Transformation\n",
    "Refer the given link to know how we can transform features.<br>\n",
    "http://scikit-learn.org/stable/modules/generated/sklearn.preprocessing.PolynomialFeatures.html"
   ]
  },
  {
   "cell_type": "code",
   "execution_count": 19,
   "metadata": {},
   "outputs": [],
   "source": [
    "from sklearn.preprocessing import PolynomialFeatures"
   ]
  },
  {
   "cell_type": "code",
   "execution_count": 25,
   "metadata": {},
   "outputs": [],
   "source": [
    "# TODO - Create an object of PolynomialFeatures(2) - 5 points\n",
    "poly = PolynomialFeatures(2)"
   ]
  },
  {
   "cell_type": "code",
   "execution_count": 26,
   "metadata": {},
   "outputs": [],
   "source": [
    "# TODO - Create the transformed data matrices for training and test using poly.fit_transform(..) - 5 points\n",
    "X_transformed_train = poly.fit_transform(X_train)\n",
    "X_transformed_test = poly.fit_transform(X_test)"
   ]
  },
  {
   "cell_type": "code",
   "execution_count": 27,
   "metadata": {},
   "outputs": [
    {
     "name": "stdout",
     "output_type": "stream",
     "text": [
      "(600, 210)\n",
      "(551, 210)\n"
     ]
    }
   ],
   "source": [
    "# CHECK - the shapes of the new matrices - should have 210 features\n",
    "print(X_transformed_train.shape)\n",
    "print(X_transformed_test.shape)"
   ]
  },
  {
   "cell_type": "code",
   "execution_count": 32,
   "metadata": {},
   "outputs": [
    {
     "name": "stderr",
     "output_type": "stream",
     "text": [
      "C:\\Users\\immic\\anaconda3\\lib\\site-packages\\sklearn\\linear_model\\_sag.py:329: ConvergenceWarning: The max_iter was reached which means the coef_ did not converge\n",
      "  warnings.warn(\"The max_iter was reached which means \"\n",
      "C:\\Users\\immic\\anaconda3\\lib\\site-packages\\sklearn\\linear_model\\_sag.py:329: ConvergenceWarning: The max_iter was reached which means the coef_ did not converge\n",
      "  warnings.warn(\"The max_iter was reached which means \"\n"
     ]
    },
    {
     "name": "stdout",
     "output_type": "stream",
     "text": [
      "Accuracy on training data = 0.635000\n",
      "Accuracy on test data = 0.597096\n",
      "Accuracy on training data = 0.685000\n",
      "Accuracy on test data = 0.638838\n"
     ]
    },
    {
     "name": "stderr",
     "output_type": "stream",
     "text": [
      "C:\\Users\\immic\\anaconda3\\lib\\site-packages\\sklearn\\linear_model\\_sag.py:329: ConvergenceWarning: The max_iter was reached which means the coef_ did not converge\n",
      "  warnings.warn(\"The max_iter was reached which means \"\n",
      "C:\\Users\\immic\\anaconda3\\lib\\site-packages\\sklearn\\linear_model\\_sag.py:329: ConvergenceWarning: The max_iter was reached which means the coef_ did not converge\n",
      "  warnings.warn(\"The max_iter was reached which means \"\n"
     ]
    },
    {
     "name": "stdout",
     "output_type": "stream",
     "text": [
      "Accuracy on training data = 0.690000\n",
      "Accuracy on test data = 0.644283\n"
     ]
    },
    {
     "name": "stderr",
     "output_type": "stream",
     "text": [
      "C:\\Users\\immic\\anaconda3\\lib\\site-packages\\sklearn\\linear_model\\_sag.py:329: ConvergenceWarning: The max_iter was reached which means the coef_ did not converge\n",
      "  warnings.warn(\"The max_iter was reached which means \"\n"
     ]
    },
    {
     "name": "stdout",
     "output_type": "stream",
     "text": [
      "Accuracy on training data = 0.691667\n",
      "Accuracy on test data = 0.646098\n"
     ]
    },
    {
     "name": "stderr",
     "output_type": "stream",
     "text": [
      "C:\\Users\\immic\\anaconda3\\lib\\site-packages\\sklearn\\linear_model\\_sag.py:329: ConvergenceWarning: The max_iter was reached which means the coef_ did not converge\n",
      "  warnings.warn(\"The max_iter was reached which means \"\n"
     ]
    },
    {
     "name": "stdout",
     "output_type": "stream",
     "text": [
      "Accuracy on training data = 0.693333\n",
      "Accuracy on test data = 0.646098\n",
      "Accuracy on training data = 0.691667\n",
      "Accuracy on test data = 0.646098\n",
      "Accuracy on training data = 0.693333\n",
      "Accuracy on test data = 0.646098\n"
     ]
    },
    {
     "name": "stderr",
     "output_type": "stream",
     "text": [
      "C:\\Users\\immic\\anaconda3\\lib\\site-packages\\sklearn\\linear_model\\_sag.py:329: ConvergenceWarning: The max_iter was reached which means the coef_ did not converge\n",
      "  warnings.warn(\"The max_iter was reached which means \"\n"
     ]
    },
    {
     "data": {
      "text/plain": [
       "<matplotlib.legend.Legend at 0x2715fb4c4c0>"
      ]
     },
     "execution_count": 32,
     "metadata": {},
     "output_type": "execute_result"
    },
    {
     "data": {
      "image/png": "[encoded data removed]",
      "text/plain": [
       "<Figure size 432x288 with 1 Axes>"
      ]
     },
     "metadata": {
      "needs_background": "light"
     },
     "output_type": "display_data"
    }
   ],
   "source": [
    "# Calling the logreg_model(..) using transformed features.\n",
    "# Pass c, X_transformed_train , Y_train, X_transformed_test, Y_test\n",
    "# Before calling the function, we need to re-initialize the 3 lists in which we append the \n",
    "# results (accuracy) because these lists are global variables.\n",
    "\n",
    "acc_train_logreg = []\n",
    "acc_test_logreg = []\n",
    "c_logreg = []\n",
    "\n",
    "# Call the function logreg_model.\n",
    "cVals = [0.0001, 0.001, 0.01, 0.1, 1, 10,100]\n",
    "for c in cVals:\n",
    "    logreg_model(c, X_transformed_train, Y_train, X_transformed_test, Y_test)\n",
    "    \n",
    "# Write code to plot 2 plots.\n",
    "# Plot training accuracy(Y-axis) v/s 'c' on X - Axis.\n",
    "# Plot test accuracy(Y-Axis) v/s 'c' on X - Axis.\n",
    "# Use the code that you wrote to draw the plot for logreg_model()\n",
    "\n",
    "plt.plot(c_logreg,acc_train_logreg,'.-',color='green')\n",
    "plt.plot(c_logreg,acc_test_logreg,'.-',color='blue')\n",
    "plt.xlabel('c')\n",
    "plt.ylabel('Accuracy')\n",
    "plt.grid()\n",
    "\n",
    "# Use the following function to have a legend\n",
    "plt.legend(['Training Accuracy', 'Test Accuracy'], loc='upper right')\n"
   ]
  },
  {
   "cell_type": "code",
   "execution_count": 29,
   "metadata": {},
   "outputs": [
    {
     "name": "stderr",
     "output_type": "stream",
     "text": [
      "C:\\Users\\immic\\anaconda3\\lib\\site-packages\\sklearn\\linear_model\\_logistic.py:762: ConvergenceWarning: lbfgs failed to converge (status=1):\n",
      "STOP: TOTAL NO. of ITERATIONS REACHED LIMIT.\n",
      "\n",
      "Increase the number of iterations (max_iter) or scale the data as shown in:\n",
      "    https://scikit-learn.org/stable/modules/preprocessing.html\n",
      "Please also refer to the documentation for alternative solver options:\n",
      "    https://scikit-learn.org/stable/modules/linear_model.html#logistic-regression\n",
      "  n_iter_i = _check_optimize_result(\n",
      "C:\\Users\\immic\\anaconda3\\lib\\site-packages\\sklearn\\linear_model\\_logistic.py:762: ConvergenceWarning: lbfgs failed to converge (status=1):\n",
      "STOP: TOTAL NO. of ITERATIONS REACHED LIMIT.\n",
      "\n",
      "Increase the number of iterations (max_iter) or scale the data as shown in:\n",
      "    https://scikit-learn.org/stable/modules/preprocessing.html\n",
      "Please also refer to the documentation for alternative solver options:\n",
      "    https://scikit-learn.org/stable/modules/linear_model.html#logistic-regression\n",
      "  n_iter_i = _check_optimize_result(\n"
     ]
    },
    {
     "name": "stdout",
     "output_type": "stream",
     "text": [
      "Accuracy on training data = 0.760000\n",
      "Accuracy on test data = 0.764065\n",
      "Accuracy on training data = 0.761667\n",
      "Accuracy on test data = 0.765880\n",
      "Accuracy on training data = 0.763333\n",
      "Accuracy on test data = 0.756806\n",
      "Accuracy on training data = 0.755000\n",
      "Accuracy on test data = 0.764065\n",
      "Accuracy on training data = 0.761667\n",
      "Accuracy on test data = 0.756806\n",
      "Accuracy on training data = 0.751667\n",
      "Accuracy on test data = 0.754991\n"
     ]
    },
    {
     "name": "stderr",
     "output_type": "stream",
     "text": [
      "C:\\Users\\immic\\anaconda3\\lib\\site-packages\\sklearn\\linear_model\\_logistic.py:762: ConvergenceWarning: lbfgs failed to converge (status=1):\n",
      "STOP: TOTAL NO. of ITERATIONS REACHED LIMIT.\n",
      "\n",
      "Increase the number of iterations (max_iter) or scale the data as shown in:\n",
      "    https://scikit-learn.org/stable/modules/preprocessing.html\n",
      "Please also refer to the documentation for alternative solver options:\n",
      "    https://scikit-learn.org/stable/modules/linear_model.html#logistic-regression\n",
      "  n_iter_i = _check_optimize_result(\n",
      "C:\\Users\\immic\\anaconda3\\lib\\site-packages\\sklearn\\linear_model\\_logistic.py:762: ConvergenceWarning: lbfgs failed to converge (status=1):\n",
      "STOP: TOTAL NO. of ITERATIONS REACHED LIMIT.\n",
      "\n",
      "Increase the number of iterations (max_iter) or scale the data as shown in:\n",
      "    https://scikit-learn.org/stable/modules/preprocessing.html\n",
      "Please also refer to the documentation for alternative solver options:\n",
      "    https://scikit-learn.org/stable/modules/linear_model.html#logistic-regression\n",
      "  n_iter_i = _check_optimize_result(\n",
      "C:\\Users\\immic\\anaconda3\\lib\\site-packages\\sklearn\\linear_model\\_logistic.py:762: ConvergenceWarning: lbfgs failed to converge (status=1):\n",
      "STOP: TOTAL NO. of ITERATIONS REACHED LIMIT.\n",
      "\n",
      "Increase the number of iterations (max_iter) or scale the data as shown in:\n",
      "    https://scikit-learn.org/stable/modules/preprocessing.html\n",
      "Please also refer to the documentation for alternative solver options:\n",
      "    https://scikit-learn.org/stable/modules/linear_model.html#logistic-regression\n",
      "  n_iter_i = _check_optimize_result(\n",
      "C:\\Users\\immic\\anaconda3\\lib\\site-packages\\sklearn\\linear_model\\_logistic.py:762: ConvergenceWarning: lbfgs failed to converge (status=1):\n",
      "STOP: TOTAL NO. of ITERATIONS REACHED LIMIT.\n",
      "\n",
      "Increase the number of iterations (max_iter) or scale the data as shown in:\n",
      "    https://scikit-learn.org/stable/modules/preprocessing.html\n",
      "Please also refer to the documentation for alternative solver options:\n",
      "    https://scikit-learn.org/stable/modules/linear_model.html#logistic-regression\n",
      "  n_iter_i = _check_optimize_result(\n",
      "C:\\Users\\immic\\anaconda3\\lib\\site-packages\\sklearn\\linear_model\\_logistic.py:762: ConvergenceWarning: lbfgs failed to converge (status=1):\n",
      "STOP: TOTAL NO. of ITERATIONS REACHED LIMIT.\n",
      "\n",
      "Increase the number of iterations (max_iter) or scale the data as shown in:\n",
      "    https://scikit-learn.org/stable/modules/preprocessing.html\n",
      "Please also refer to the documentation for alternative solver options:\n",
      "    https://scikit-learn.org/stable/modules/linear_model.html#logistic-regression\n",
      "  n_iter_i = _check_optimize_result(\n"
     ]
    },
    {
     "name": "stdout",
     "output_type": "stream",
     "text": [
      "Accuracy on training data = 0.758333\n",
      "Accuracy on test data = 0.764065\n"
     ]
    },
    {
     "data": {
      "text/plain": [
       "<matplotlib.legend.Legend at 0x2715fc83d60>"
      ]
     },
     "execution_count": 29,
     "metadata": {},
     "output_type": "execute_result"
    },
    {
     "data": {
      "image/png": "[encoded data removed]",
      "text/plain": [
       "<Figure size 432x288 with 1 Axes>"
      ]
     },
     "metadata": {
      "needs_background": "light"
     },
     "output_type": "display_data"
    }
   ],
   "source": [
    "# Calling the logreg2_model(..) using transformed features.\n",
    "# Pass c, X_transformed_train , Y_train, X_transformed_test, Y_test\n",
    "# Before calling the function, we need to re-initialize the 3 lists in which we append the \n",
    "# results (accuracy) beacause these list are global varibles.\n",
    "\n",
    "acc_train_logreg2 = []\n",
    "acc_test_logreg2 = []\n",
    "c_logreg2 = []\n",
    "\n",
    "# Call the function logreg2_model.\n",
    "cVals = [0.0001, 0.001, 0.01, 0.1, 1, 10, 100]\n",
    "for c in cVals:\n",
    "    logreg2_model(c, X_transformed_train, Y_train, X_transformed_test, Y_test)\n",
    "    \n",
    "# Write code to plot 2 plots.\n",
    "# Plot training accuracy(Y-axis) v/s 'c' on X - Axis.\n",
    "# Plot test accuracy(Y-Axis) v/s 'c' on X - Axis.\n",
    "# Use the code that you wrote to draw the plot for logreg2_model()\n",
    "\n",
    "plt.plot(c_logreg2,acc_train_logreg2,'.-',color='green')\n",
    "plt.plot(c_logreg2,acc_test_logreg2,'.-',color='blue')\n",
    "plt.xlabel('c')\n",
    "plt.ylabel('Accuracy')\n",
    "plt.grid()\n",
    "\n",
    "# Use the following function to have a legend\n",
    "plt.legend(['Training Accuracy', 'Test Accuracy'], loc='upper right')"
   ]
  },
  {
   "cell_type": "markdown",
   "metadata": {},
   "source": [
    "# Note:\n",
    "<u>Do not</u> use these transformed features for the further part of the assignment. Use the X_train, Y_train, X_test and Y_test matrices."
   ]
  },
  {
   "cell_type": "markdown",
   "metadata": {},
   "source": [
    "# Support Vector Machines (SVM)\n",
    "Now we will use the same dataset and try to find a classifier using SVM.\n",
    "For more information about svm classifier, check the given link.\n",
    "http://scikit-learn.org/stable/modules/generated/sklearn.svm.SVC.html"
   ]
  },
  {
   "cell_type": "markdown",
   "metadata": {},
   "source": [
    "# SVM using Linear Kernel."
   ]
  },
  {
   "cell_type": "code",
   "execution_count": 26,
   "metadata": {},
   "outputs": [],
   "source": [
    "acc_train_svm_linear = []"
   ]
  },
  {
   "cell_type": "code",
   "execution_count": 27,
   "metadata": {},
   "outputs": [],
   "source": [
    "acc_test_svm_linear = []"
   ]
  },
  {
   "cell_type": "code",
   "execution_count": 28,
   "metadata": {},
   "outputs": [],
   "source": [
    "c_svm_linear = []"
   ]
  },
  {
   "cell_type": "code",
   "execution_count": 29,
   "metadata": {},
   "outputs": [],
   "source": [
    "from sklearn import svm\n",
    "\n",
    "# Complete the function below:\n",
    "# In this function and next 2 functions, we are not passing the data matrices as parameters \n",
    "# because we can use global variables inside the functions.\n",
    "def svm_linear(c):\n",
    "    # TODO - Create an object of svm.SVC(probability = False, kernel = 'linear', C = c) - 5 points\n",
    "    svc_linear = svm.SVC(probability = False, kernel = 'linear', C = c)\n",
    "    \n",
    "    # TODO - Fit the classifier on the training set - 5 points\n",
    "    svc_linear.fit(X_train, Y_train)\n",
    "    \n",
    "    # TODO - Find the prediction and accuracy on the training set - 5 points\n",
    "    Yhat_svc_linear_train = svc_linear.predict(X_train)\n",
    "    acc_train = svc_linear.score(X_train, Y_train)\n",
    "    \n",
    "    # Adding testing accuracy to acc_train_svm\n",
    "    acc_train_svm_linear.append(acc_train)\n",
    "    print('Train Accuracy = {0:f}'.format(acc_train))\n",
    "    \n",
    "    # TODO - Find the prediction and accuracy on the test set - 5 points\n",
    "    Yhat_svc_linear_test = svc_linear.predict(X_test)\n",
    "    acc_test = svc_linear.score(X_test, Y_test)\n",
    "    \n",
    "    # Adding testing accuracy to acc_test_svm\n",
    "    acc_test_svm_linear.append(acc_test)\n",
    "    print('Test Accuracy = {0:f}'.format(acc_test))\n",
    "    \n",
    "    # Appending value of c for graphing purposes\n",
    "    c_svm_linear.append(c)\n",
    "    "
   ]
  },
  {
   "cell_type": "code",
   "execution_count": 48,
   "metadata": {},
   "outputs": [
    {
     "name": "stdout",
     "output_type": "stream",
     "text": [
      "Train Accuracy = 0.681667\n",
      "Test Accuracy = 0.635209\n",
      "Train Accuracy = 0.718333\n",
      "Test Accuracy = 0.689655\n",
      "Train Accuracy = 0.720000\n",
      "Test Accuracy = 0.747731\n",
      "Train Accuracy = 0.741667\n",
      "Test Accuracy = 0.756806\n",
      "Train Accuracy = 0.738333\n",
      "Test Accuracy = 0.745917\n",
      "Train Accuracy = 0.743333\n",
      "Test Accuracy = 0.744102\n",
      "Train Accuracy = 0.745000\n",
      "Test Accuracy = 0.754991\n"
     ]
    }
   ],
   "source": [
    "# Call the above function i.e. svm_linear with different values of parameter 'c'.\n",
    "# Start with smaller values of 'c' say 0.0001, 0.001, 0.01, 0.1, 1, 10, 100\n",
    "acc_train_svm_linear = []\n",
    "acc_test_svm_linear = []\n",
    "c_svm_linear = []\n",
    "\n",
    "cVals = [0.0001, 0.001, 0.01, 0.1, 1, 10, 100]\n",
    "for c in cVals:\n",
    "    svm_linear(c)"
   ]
  },
  {
   "cell_type": "code",
   "execution_count": 49,
   "metadata": {},
   "outputs": [
    {
     "data": {
      "text/plain": [
       "<matplotlib.legend.Legend at 0x1aaeab7eee0>"
      ]
     },
     "execution_count": 49,
     "metadata": {},
     "output_type": "execute_result"
    },
    {
     "data": {
      "image/png": "[encoded data removed]",
      "text/plain": [
       "<Figure size 432x288 with 1 Axes>"
      ]
     },
     "metadata": {
      "needs_background": "light"
     },
     "output_type": "display_data"
    }
   ],
   "source": [
    "# TODO - Write code to plot 2 plots - 10 points\n",
    "# Plot training accuracy(Y-axis) v/s 'c' on X - Axis.\n",
    "# Plot test accuracy(Y-Axis) v/s 'c' on X - Axis.\n",
    "\n",
    "plt.plot(c_svm_linear,acc_train_svm_linear,'.-',color='green')\n",
    "plt.plot(c_svm_linear,acc_test_svm_linear,'.-',color='blue')\n",
    "plt.xlabel('c')\n",
    "plt.ylabel('Accuracy')\n",
    "plt.grid()\n",
    "\n",
    "# Use the following function to have a legend\n",
    "plt.legend(['Training Accuracy', 'Test Accuracy'], loc='upper right')"
   ]
  },
  {
   "cell_type": "markdown",
   "metadata": {},
   "source": [
    "Change the value of parameter C above and see the difference in the results."
   ]
  },
  {
   "cell_type": "markdown",
   "metadata": {},
   "source": [
    "# SVM using Radial Basis Function(RBF) Kernel."
   ]
  },
  {
   "cell_type": "code",
   "execution_count": 32,
   "metadata": {},
   "outputs": [],
   "source": [
    "acc_train_svm_rbf = []"
   ]
  },
  {
   "cell_type": "code",
   "execution_count": 33,
   "metadata": {},
   "outputs": [],
   "source": [
    "acc_test_svm_rbf = []"
   ]
  },
  {
   "cell_type": "code",
   "execution_count": 34,
   "metadata": {},
   "outputs": [],
   "source": [
    "c_svm_rbf = []"
   ]
  },
  {
   "cell_type": "code",
   "execution_count": 40,
   "metadata": {},
   "outputs": [],
   "source": [
    "from sklearn import svm\n",
    "\n",
    "# Complete the function below:\n",
    "# In this function and next 2 functions, we are not passing the data matrices as parameters \n",
    "# because we can use global variables inside the functions.\n",
    "def svm_rbf(c):\n",
    "    # TODO - Create an object of svm.SVC(probability = False, kernel = 'rbf', C = c) - 5 points\n",
    "    svc_rbf = svm.SVC(probability = False, kernel = 'rbf', C = c)\n",
    "    \n",
    "    # TODO - Fit the classifier on the training set - 5 points\n",
    "    svc_rbf.fit(X_train, Y_train)\n",
    "    \n",
    "    # TODO - Find the prediction and accuracy on the training set - 5 points\n",
    "    Yhat_svc_rbf_train = svc_rbf.predict(X_train)\n",
    "    acc_train = svc_rbf.score(X_train, Y_train)\n",
    "    \n",
    "    # Adding testing accuracy to acc_train_svm\n",
    "    acc_train_svm_rbf.append(acc_train)\n",
    "    print('Train Accuracy = {0:f}'.format(acc_train))\n",
    "    \n",
    "    # TODO - Find the prediction and accuracy on the test set - 5 points\n",
    "    Yhat_svc_rbf_test = svc_rbf.predict(X_test)\n",
    "    acc_test =svc_rbf.score(X_test, Y_test)\n",
    "    \n",
    "    # Adding testing accuracy to acc_test_svm\n",
    "    acc_test_svm_rbf.append(acc_test)\n",
    "    print('Test Accuracy = {0:f}'.format(acc_test))\n",
    "    \n",
    "    # Appending value of c for graphing purposes\n",
    "    c_svm_rbf.append(c)\n",
    "    "
   ]
  },
  {
   "cell_type": "code",
   "execution_count": 46,
   "metadata": {},
   "outputs": [
    {
     "name": "stdout",
     "output_type": "stream",
     "text": [
      "Train Accuracy = 0.543333\n",
      "Test Accuracy = 0.517241\n",
      "Train Accuracy = 0.543333\n",
      "Test Accuracy = 0.517241\n",
      "Train Accuracy = 0.543333\n",
      "Test Accuracy = 0.517241\n",
      "Train Accuracy = 0.645000\n",
      "Test Accuracy = 0.606171\n",
      "Train Accuracy = 0.701667\n",
      "Test Accuracy = 0.682396\n",
      "Train Accuracy = 0.743333\n",
      "Test Accuracy = 0.731397\n",
      "Train Accuracy = 0.783333\n",
      "Test Accuracy = 0.740472\n"
     ]
    }
   ],
   "source": [
    "# Call the above function i.e. svm_linear with different values of parameter 'c'.\n",
    "# Start with smaller values of 'c' say 0.0001, 0.001, 0.01, 0.1, 1, 10, 100\n",
    "acc_train_svm_rbf = []\n",
    "acc_test_svm_rbf = []\n",
    "c_svm_rbf = []\n",
    "\n",
    "cVals = [0.0001, 0.001, 0.01, 0.1, 1, 10, 100]\n",
    "for c in cVals:\n",
    "    svm_rbf(c)"
   ]
  },
  {
   "cell_type": "code",
   "execution_count": 47,
   "metadata": {},
   "outputs": [
    {
     "data": {
      "text/plain": [
       "<matplotlib.legend.Legend at 0x1aaeaaea100>"
      ]
     },
     "execution_count": 47,
     "metadata": {},
     "output_type": "execute_result"
    },
    {
     "data": {
      "image/png": "[encoded data removed]",
      "text/plain": [
       "<Figure size 432x288 with 1 Axes>"
      ]
     },
     "metadata": {
      "needs_background": "light"
     },
     "output_type": "display_data"
    }
   ],
   "source": [
    "# TODO - Write code to plot 2 plots - 10 points\n",
    "# Plot training accuracy(Y-axis) v/s 'c' on X - Axis.\n",
    "# Plot test accuracy(Y-Axis) v/s 'c' on X - Axis.\n",
    "\n",
    "plt.plot(c_svm_rbf,acc_train_svm_rbf,'.-',color='green')\n",
    "plt.plot(c_svm_rbf,acc_test_svm_rbf,'.-',color='blue')\n",
    "plt.xlabel('c')\n",
    "plt.ylabel('Accuracy')\n",
    "plt.grid()\n",
    "\n",
    "# Use the following function to have a legend\n",
    "plt.legend(['Training Accuracy', 'Test Accuracy'], loc='lower right')"
   ]
  },
  {
   "cell_type": "markdown",
   "metadata": {},
   "source": [
    "Change the value of parameter C and gamma above and see the difference in the results. "
   ]
  },
  {
   "cell_type": "markdown",
   "metadata": {},
   "source": [
    "# SVM using Polynomial Kernel.\n",
    "Note: SVM with polynomial kernel can be sometimes very slow. If that is the case, use smaller size of training set. Instead of all 600 training examples, use less (say 300)."
   ]
  },
  {
   "cell_type": "code",
   "execution_count": 50,
   "metadata": {},
   "outputs": [],
   "source": [
    "acc_train_svm_poly = []"
   ]
  },
  {
   "cell_type": "code",
   "execution_count": 51,
   "metadata": {},
   "outputs": [],
   "source": [
    "acc_test_svm_poly = []"
   ]
  },
  {
   "cell_type": "code",
   "execution_count": 52,
   "metadata": {},
   "outputs": [],
   "source": [
    "c_svm_poly = []"
   ]
  },
  {
   "cell_type": "code",
   "execution_count": 53,
   "metadata": {},
   "outputs": [],
   "source": [
    "def svm_polynomial(c):\n",
    "    # TODO - Create an object of svm.SVC(probability = False, kernel = 'poly', C = c) - 5 points\n",
    "    svc_polynomial = svm.SVC(probability = False, kernel = 'poly', C = c)\n",
    "    \n",
    "    A = X_train[0:300,:]  # First 300 rows of training set.\n",
    "    B = Y_train[0:300]  \n",
    "    C = X_test[0:100,:]   # First 100 rows of test set.\n",
    "    D = Y_test[0:100]\n",
    "    \n",
    "    # TODO - Fit the classifier on the training set - 5 points\n",
    "    # Use A and B to train and C and D to test.\n",
    "    svc_polynomial.fit(A,B)\n",
    "    \n",
    "    # TODO - Find the prediction and accuracy on the training set - 5 points\n",
    "    Yhat_svc_poly_train = svc_polynomial.predict(A)\n",
    "    acc_train = svc_polynomial.score(A,B)\n",
    "    \n",
    "    # Adding testing accuracy to acc_train_svm\n",
    "    acc_train_svm_poly.append(acc_train)\n",
    "    print('Train Accuracy = {0:f}'.format(acc_train))\n",
    "    \n",
    "    # TODO - Find the prediction and accuracy on the test set - 5 points\n",
    "    Yhat_svc_poly_test = svc_polynomial.predict(C)\n",
    "    acc_test = svc_polynomial.score(C,D)\n",
    "    \n",
    "    # Adding testing accuracy to acc_test_svm\n",
    "    acc_test_svm_poly.append(acc_test)\n",
    "    print('Test Accuracy = {0:f}'.format(acc_test))\n",
    "    \n",
    "    # Appending value of c for graphing purposes\n",
    "    c_svm_poly.append(c)\n",
    "    "
   ]
  },
  {
   "cell_type": "code",
   "execution_count": 58,
   "metadata": {},
   "outputs": [
    {
     "name": "stdout",
     "output_type": "stream",
     "text": [
      "Train Accuracy = 0.536667\n",
      "Test Accuracy = 0.500000\n",
      "Train Accuracy = 0.536667\n",
      "Test Accuracy = 0.500000\n",
      "Train Accuracy = 0.536667\n",
      "Test Accuracy = 0.500000\n",
      "Train Accuracy = 0.536667\n",
      "Test Accuracy = 0.500000\n",
      "Train Accuracy = 0.536667\n",
      "Test Accuracy = 0.500000\n"
     ]
    }
   ],
   "source": [
    "# Call the above function i.e. svm_poly with different values of parameter 'c'.\n",
    "# Start with smaller values of 'c' say 0.0001, 0.001, 0.01, 0.1, 1, 10, 100\n",
    "# Redefining cVals because poly takes a long time to run with larger values of c since \n",
    "# the larger the value of c, the lesser the amount of regulatization\n",
    "acc_train_svm_poly = []\n",
    "acc_test_svm_poly = []\n",
    "c_svm_poly = []\n",
    "\n",
    "cVals = np.geomspace(0.000001, 0.001, 5)\n",
    "for c in cVals:\n",
    "    svm_polynomial(c)"
   ]
  },
  {
   "cell_type": "code",
   "execution_count": 56,
   "metadata": {},
   "outputs": [
    {
     "data": {
      "text/plain": [
       "<matplotlib.legend.Legend at 0x1aaeabc01f0>"
      ]
     },
     "execution_count": 56,
     "metadata": {},
     "output_type": "execute_result"
    },
    {
     "data": {
      "image/png": "[encoded data removed]",
      "text/plain": [
       "<Figure size 432x288 with 1 Axes>"
      ]
     },
     "metadata": {
      "needs_background": "light"
     },
     "output_type": "display_data"
    }
   ],
   "source": [
    "# TODO - Write code to plot 2 plots - 10 points\n",
    "# Plot training accuracy(Y-axis) v/s 'c' on X - Axis.\n",
    "# Plot test accuracy(Y-Axis) v/s 'c' on X - Axis.\n",
    "\n",
    "plt.plot(c_svm_poly,acc_train_svm_poly,'.-',color='green')\n",
    "plt.plot(c_svm_poly,acc_test_svm_poly,'.-',color='blue')\n",
    "plt.xlabel('c')\n",
    "plt.ylabel('Accuracy')\n",
    "plt.grid()\n",
    "\n",
    "# Use the following function to have a legend\n",
    "plt.legend(['Training Accuracy', 'Test Accuracy'], loc='upper right')"
   ]
  },
  {
   "cell_type": "markdown",
   "metadata": {},
   "source": [
    "Change the value of parameter C and see the difference in the results."
   ]
  },
  {
   "cell_type": "markdown",
   "metadata": {},
   "source": [
    "# Repeating the Assignment with 2 more Datasets:\n",
    "1) Cryotherapy.csv (Predict result of treatment using 6 predictors).<br>\n",
    "2) Immunotherapy.csv (Predict result of treatment using 7 predictors).\n",
    "### You have to repeat the full assignment with 2 more different datasets. You have to write a small report in a pdf file. You can use bullet points to discuss your results for every function of the assignment. For example, for data1.csv dataset, write which method gave you the best accuracy using which value of the parameter. You have to write this for all the 3 datasets in a single pdf file. Do not write explainations, just discuss your results / observations point to point. (10 points each)"
   ]
  },
  {
   "cell_type": "code",
   "execution_count": null,
   "metadata": {},
   "outputs": [],
   "source": []
  }
 ],
 "metadata": {
  "kernelspec": {
   "display_name": "Python 3",
   "language": "python",
   "name": "python3"
  },
  "language_info": {
   "codemirror_mode": {
    "name": "ipython",
    "version": 3
   },
   "file_extension": ".py",
   "mimetype": "text/x-python",
   "name": "python",
   "nbconvert_exporter": "python",
   "pygments_lexer": "ipython3",
   "version": "3.8.3"
  }
 },
 "nbformat": 4,
 "nbformat_minor": 2
}
