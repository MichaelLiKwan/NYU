{
 "cells": [
  {
   "cell_type": "markdown",
   "metadata": {},
   "source": [
    "# Dementia Project"
   ]
  },
  {
   "cell_type": "markdown",
   "metadata": {},
   "source": [
    "Linear Regression\n",
    "Logistic Regression\n",
    "SVM\n",
    "Neural Networks"
   ]
  },
  {
   "cell_type": "code",
   "execution_count": 1,
   "metadata": {},
   "outputs": [],
   "source": [
    "# Run this code cell using Shift + Enter before moving further\n",
    "import numpy as np\n",
    "import pandas as pd\n",
    "\n",
    "from sklearn import datasets, linear_model, preprocessing\n",
    "from sklearn.linear_model import LinearRegression, LogisticRegression\n",
    "from sklearn.model_selection import train_test_split\n",
    "from sklearn.metrics import precision_recall_fscore_support, accuracy_score\n",
    "from sklearn import svm\n",
    "import numpy.random as r\n",
    "\n",
    "import matplotlib.pyplot as plt\n",
    "%matplotlib inline "
   ]
  },
  {
   "cell_type": "markdown",
   "metadata": {},
   "source": [
    "# Loading the data set."
   ]
  },
  {
   "cell_type": "code",
   "execution_count": 2,
   "metadata": {},
   "outputs": [
    {
     "name": "stdout",
     "output_type": "stream",
     "text": [
      "(436, 12)\n",
      "                ID M/F Hand  Age  Educ  SES  MMSE  CDR  eTIV   nWBV    ASF  \\\n",
      "0    OAS1_0001_MR1   F    R   74   2.0  3.0  29.0  0.0  1344  0.743  1.306   \n",
      "1    OAS1_0002_MR1   F    R   55   4.0  1.0  29.0  0.0  1147  0.810  1.531   \n",
      "2    OAS1_0003_MR1   F    R   73   4.0  3.0  27.0  0.5  1454  0.708  1.207   \n",
      "3    OAS1_0004_MR1   M    R   28   NaN  NaN   NaN  NaN  1588  0.803  1.105   \n",
      "4    OAS1_0005_MR1   M    R   18   NaN  NaN   NaN  NaN  1737  0.848  1.010   \n",
      "..             ...  ..  ...  ...   ...  ...   ...  ...   ...    ...    ...   \n",
      "431  OAS1_0285_MR2   M    R   20   NaN  NaN   NaN  NaN  1469  0.847  1.195   \n",
      "432  OAS1_0353_MR2   M    R   22   NaN  NaN   NaN  NaN  1684  0.790  1.042   \n",
      "433  OAS1_0368_MR2   M    R   22   NaN  NaN   NaN  NaN  1580  0.856  1.111   \n",
      "434  OAS1_0379_MR2   F    R   20   NaN  NaN   NaN  NaN  1262  0.861  1.390   \n",
      "435  OAS1_0395_MR2   F    R   26   NaN  NaN   NaN  NaN  1283  0.834  1.368   \n",
      "\n",
      "     Delay  \n",
      "0      NaN  \n",
      "1      NaN  \n",
      "2      NaN  \n",
      "3      NaN  \n",
      "4      NaN  \n",
      "..     ...  \n",
      "431    2.0  \n",
      "432   40.0  \n",
      "433   89.0  \n",
      "434    2.0  \n",
      "435   39.0  \n",
      "\n",
      "[436 rows x 12 columns]\n"
     ]
    }
   ],
   "source": [
    "# After completing the code in this code cell, run this code cell before moving further.\n",
    "\n",
    "df = pd.read_csv('oasis_cross-sectional.csv', na_values='?') \n",
    "print(df.shape)\n",
    "print(df)"
   ]
  },
  {
   "cell_type": "code",
   "execution_count": 3,
   "metadata": {},
   "outputs": [
    {
     "name": "stdout",
     "output_type": "stream",
     "text": [
      "    M/F  Age  eTIV   nWBV    ASF  CDR\n",
      "0     F   74  1344  0.743  1.306  0.0\n",
      "1     F   55  1147  0.810  1.531  0.0\n",
      "2     F   73  1454  0.708  1.207  0.5\n",
      "3     M   28  1588  0.803  1.105  NaN\n",
      "4     M   18  1737  0.848  1.010  NaN\n",
      "..   ..  ...   ...    ...    ...  ...\n",
      "431   M   20  1469  0.847  1.195  NaN\n",
      "432   M   22  1684  0.790  1.042  NaN\n",
      "433   M   22  1580  0.856  1.111  NaN\n",
      "434   F   20  1262  0.861  1.390  NaN\n",
      "435   F   26  1283  0.834  1.368  NaN\n",
      "\n",
      "[436 rows x 6 columns]\n",
      "    M/F  Age  eTIV   nWBV    ASF  CDR\n",
      "0     F   74  1344  0.743  1.306  0.0\n",
      "1     F   55  1147  0.810  1.531  0.0\n",
      "2     F   73  1454  0.708  1.207  0.5\n",
      "8     M   74  1636  0.689  1.073  0.0\n",
      "9     F   52  1321  0.827  1.329  0.0\n",
      "..   ..  ...   ...    ...    ...  ...\n",
      "411   F   70  1295  0.748  1.355  0.5\n",
      "412   F   73  1536  0.730  1.142  0.5\n",
      "413   F   61  1354  0.825  1.297  0.0\n",
      "414   M   61  1637  0.780  1.072  0.0\n",
      "415   F   62  1372  0.766  1.279  0.0\n",
      "\n",
      "[235 rows x 6 columns]\n"
     ]
    }
   ],
   "source": [
    "# ID M/F Hand  Age  Educ  SES  MMSE  CDR  eTIV   nWBV    ASF\n",
    "\n",
    "df1= df[['M/F', 'Age', 'eTIV', 'nWBV', 'ASF', 'CDR']]\n",
    "print(df1)\n",
    "\n",
    "df2= df1.dropna()\n",
    "print(df2)"
   ]
  },
  {
   "cell_type": "code",
   "execution_count": 4,
   "metadata": {},
   "outputs": [
    {
     "name": "stdout",
     "output_type": "stream",
     "text": [
      "<class 'numpy.float64'>\n",
      "(235, 5)\n",
      "(235, 1)\n"
     ]
    }
   ],
   "source": [
    "x = np.array(df2[['M/F', 'Age', 'eTIV', 'nWBV', 'ASF']])\n",
    "y = np.array(df2['CDR'])\n",
    "\n",
    "y = y.reshape(-1,1)\n",
    "\n",
    "for entry in x:\n",
    "    if entry[0] == 'F':\n",
    "        entry[0] = 0\n",
    "    else:\n",
    "        entry[0] = 1\n",
    "\n",
    "for entry in y:\n",
    "    if entry[0] != 0:\n",
    "        entry[0] = 1\n",
    "        \n",
    "print(type(y[0][0]))\n",
    "\n",
    "print(x.shape)\n",
    "print(y.shape)"
   ]
  },
  {
   "cell_type": "code",
   "execution_count": 5,
   "metadata": {},
   "outputs": [
    {
     "name": "stdout",
     "output_type": "stream",
     "text": [
      "0\n"
     ]
    },
    {
     "name": "stderr",
     "output_type": "stream",
     "text": [
      "/opt/anaconda3/lib/python3.7/site-packages/sklearn/preprocessing/label.py:235: DataConversionWarning: A column-vector y was passed when a 1d array was expected. Please change the shape of y to (n_samples, ), for example using ravel().\n",
      "  y = column_or_1d(y, warn=True)\n"
     ]
    }
   ],
   "source": [
    "# Converting our y values into ints\n",
    "\n",
    "lab_enc = preprocessing.LabelEncoder()\n",
    "y = lab_enc.fit_transform(y)\n",
    "\n",
    "print(y[0])"
   ]
  },
  {
   "cell_type": "code",
   "execution_count": 6,
   "metadata": {},
   "outputs": [
    {
     "name": "stdout",
     "output_type": "stream",
     "text": [
      "[[-0.71162508  0.1371931  -0.72174218 -0.12827252  0.6929025 ]\n",
      " [-0.71162508 -1.43752977 -1.95278831  1.27328952  2.43504324]\n",
      " [-0.71162508  0.05431295 -0.03435601 -0.8604318  -0.07363942]\n",
      " ...\n",
      " [-0.71162508 -0.94024886 -0.65925253  1.58707206  0.62321687]\n",
      " [ 1.40523434 -0.94024886  1.10920461  0.64572442 -1.11892387]\n",
      " [-0.71162508 -0.85736871 -0.54677115  0.35286071  0.48384561]]\n",
      "(170, 5)\n",
      "(65,)\n"
     ]
    }
   ],
   "source": [
    "#Scaling & Splitting Data\n",
    "\n",
    "x = preprocessing.scale(x)\n",
    "x_train, x_test, y_train, y_test = train_test_split(x, y, test_size=0.275, random_state=42)\n",
    "\n",
    "print(x)\n",
    "print(x_train.shape)\n",
    "print(y_test.shape)"
   ]
  },
  {
   "cell_type": "code",
   "execution_count": 7,
   "metadata": {},
   "outputs": [
    {
     "name": "stdout",
     "output_type": "stream",
     "text": [
<<<<<<< HEAD
      "0.2508068582379417\n"
=======
      "0.2541105566704198\n"
>>>>>>> 8659cba73564cad36b396823c177f02a8418409d
     ]
    }
   ],
   "source": [
    "# Linear Regression (SIMPLE)\n",
    "\n",
    "reg = LinearRegression().fit(x_train, y_train)\n",
    "rsq = reg.score(x_train, y_train)\n",
    "coef = reg.coef_\n",
    "intercept = reg.intercept_\n",
    "\n",
    "print(rsq)"
   ]
  },
  {
   "cell_type": "code",
   "execution_count": 8,
   "metadata": {},
   "outputs": [],
   "source": [
    "yhat = reg.predict(x_test)\n",
    "#print(yhat)\n",
    "\n",
    "#CONTINUE..."
   ]
  },
  {
   "cell_type": "code",
   "execution_count": 9,
   "metadata": {},
   "outputs": [],
   "source": [
    "# Logistic Regression and SVMs"
   ]
  },
  {
   "cell_type": "code",
   "execution_count": 10,
   "metadata": {},
   "outputs": [],
   "source": [
    "def logreg_model_lasso(c , X_train, Y_train, X_test, Y_test):\n",
    "    logreg_lasso = linear_model.LogisticRegression(C=c, penalty='l1', solver='saga')\n",
    "    logreg_lasso.fit(X_train, Y_train)    \n",
    "    \n",
    "    Yhat_train = logreg_lasso.predict(X_train)\n",
    "    \n",
    "    acc_train = logreg_lasso.score(X_train, Y_train)\n",
    "    acc_train_logreg_lasso.append(acc_train)\n",
    "    print(\"Accuracy on training data = %f\" % acc_train)\n",
    "    \n",
    "    Yhat_test = logreg_lasso.predict(X_test)\n",
    "    \n",
    "    acc_test = logreg_lasso.score(X_test, Y_test)\n",
    "    acc_test_logreg_lasso.append(acc_test)\n",
    "    print(\"Accuracy on test data = %f\" % acc_test)\n",
    "    \n",
    "    c_logreg_lasso.append(c)"
   ]
  },
  {
   "cell_type": "code",
   "execution_count": 11,
   "metadata": {},
   "outputs": [],
   "source": [
    "def logreg_model_ridge(c , X_train, Y_train, X_test, Y_test):\n",
    "    logreg_ridge = linear_model.LogisticRegression(C=c, solver='lbfgs')\n",
    "    logreg_ridge.fit(X_train, Y_train)\n",
    "    \n",
    "    Yhat_train = logreg_ridge.predict(X_train)\n",
    "    \n",
    "    acc_train = logreg_ridge.score(X_train, Y_train)\n",
    "    acc_train_logreg_ridge.append(acc_train)\n",
    "    print(\"Accuracy on training data = %f\" % acc_train)\n",
    "    \n",
    "    Yhat_test = logreg_ridge.predict(X_test)\n",
    "    \n",
    "    acc_test = logreg_ridge.score(X_test, Y_test)\n",
    "    acc_test_logreg_ridge.append(acc_test)\n",
    "    print(\"Accuracy on test data = %f\" % acc_test)\n",
    "    \n",
    "    c_logreg_ridge.append(c)"
   ]
  },
  {
   "cell_type": "code",
   "execution_count": 12,
   "metadata": {},
   "outputs": [],
   "source": [
    "def svm_linear(c, X_train, Y_train, X_test, Y_test):\n",
    "    svc_linear = svm.SVC(C=c, kernel='linear')\n",
    "    svc_linear.fit(X_train, Y_train)\n",
    "    \n",
    "    Yhat_svc_linear_train = svc_linear.predict(X_train)\n",
    "    \n",
    "    acc_train = svc_linear.score(X_train, Y_train)\n",
    "    acc_train_svm_linear.append(acc_train)\n",
    "    print('Train Accuracy = {0:f}'.format(acc_train))\n",
    "    \n",
    "    Yhat_svc_linear_test = svc_linear.predict(X_test)\n",
    "\n",
    "    acc_test = svc_linear.score(X_test, Y_test)\n",
    "    acc_test_svm_linear.append(acc_test)\n",
    "    print('Test Accuracy = {0:f}'.format(acc_test))\n",
    "    \n",
    "    c_svm_linear.append(c)"
   ]
  },
  {
   "cell_type": "code",
   "execution_count": 13,
   "metadata": {},
   "outputs": [],
   "source": [
    "def svm_rbf(c, X_train, Y_train, X_test, Y_test):\n",
    "    svc_rbf = svm.SVC(C=c, kernel='rbf', gamma='scale')\n",
    "    svc_rbf.fit(X_train, Y_train)\n",
    "    \n",
    "    Yhat_svc_rbf_train = svc_rbf.predict(X_train)\n",
    "\n",
    "    acc_train = svc_rbf.score(X_train, Y_train)\n",
    "    acc_train_svm_rbf.append(acc_train)\n",
    "    print('Train Accuracy = {0:f}'.format(acc_train))\n",
    "    \n",
    "    Yhat_svc_rbf_test = svc_rbf.predict(X_test)\n",
    "    \n",
    "    acc_test = svc_rbf.score(X_test, Y_test)\n",
    "    acc_test_svm_rbf.append(acc_test)\n",
    "    print('Test Accuracy = {0:f}'.format(acc_test))\n",
    "    \n",
    "    c_svm_rbf.append(c)"
   ]
  },
  {
   "cell_type": "code",
   "execution_count": 14,
   "metadata": {},
   "outputs": [],
   "source": [
    "def svm_polynomial(c, X_train, Y_train, X_test, Y_test):\n",
    "    svc_polynomial = svm.SVC(C=c, kernel='poly', gamma='scale')\n",
    "    \n",
    "    A = X_train #[0:300,:]  # First 300 rows of training set.\n",
    "    B = Y_train #[0:300]  \n",
    "    C = X_test #[0:100,:]   # First 100 rows of test set.\n",
    "    D = Y_test #[0:100]\n",
    "    \n",
    "    svc_polynomial.fit(A, B)\n",
    "    \n",
    "    Yhat_svc_poly_train = svc_polynomial.predict(A)\n",
    "    \n",
    "    acc_train = svc_polynomial.score(A, B)\n",
    "    acc_train_svm_poly.append(acc_train)\n",
    "    print('Train Accuracy = {0:f}'.format(acc_train))\n",
    "    \n",
    "    Yhat_svc_poly_test = svc_polynomial.predict(C)\n",
    "\n",
    "    acc_test = svc_polynomial.score(C, D)\n",
    "    acc_test_svm_poly.append(acc_test)\n",
    "    print('Test Accuracy = {0:f}'.format(acc_test))\n",
    "    \n",
    "    c_svm_poly.append(c)    "
   ]
  },
  {
   "cell_type": "code",
   "execution_count": 15,
   "metadata": {},
   "outputs": [],
   "source": [
    "# Running the models on the datasets"
   ]
  },
  {
   "cell_type": "code",
   "execution_count": 16,
   "metadata": {},
   "outputs": [],
   "source": [
    "cVals = [0.0001, 0.001, 0.01, 0.1, 1, 10, 100]"
   ]
  },
  {
   "cell_type": "code",
   "execution_count": 17,
   "metadata": {},
   "outputs": [
    {
     "name": "stdout",
     "output_type": "stream",
     "text": [
<<<<<<< HEAD
      "Accuracy on training data = 0.582353\n",
      "Accuracy on test data = 0.553846\n",
      "Accuracy on training data = 0.582353\n",
      "Accuracy on test data = 0.553846\n",
      "Accuracy on training data = 0.582353\n",
      "Accuracy on test data = 0.553846\n",
      "Accuracy on training data = 0.694118\n",
      "Accuracy on test data = 0.661538\n",
      "Accuracy on training data = 0.700000\n",
      "Accuracy on test data = 0.676923\n",
      "Accuracy on training data = 0.711765\n",
      "Accuracy on test data = 0.676923\n",
      "Accuracy on training data = 0.711765\n",
      "Accuracy on test data = 0.676923\n"
=======
      "Accuracy on training data = 0.435294\n",
      "Accuracy on test data = 0.400000\n",
      "Accuracy on training data = 0.564706\n",
      "Accuracy on test data = 0.600000\n",
      "Accuracy on training data = 0.564706\n",
      "Accuracy on test data = 0.600000\n",
      "Accuracy on training data = 0.700000\n",
      "Accuracy on test data = 0.707692\n",
      "Accuracy on training data = 0.700000\n",
      "Accuracy on test data = 0.723077\n",
      "Accuracy on training data = 0.711765\n",
      "Accuracy on test data = 0.738462\n",
      "Accuracy on training data = 0.711765\n",
      "Accuracy on test data = 0.707692\n"
     ]
    },
    {
     "name": "stderr",
     "output_type": "stream",
     "text": [
      "/opt/anaconda3/lib/python3.7/site-packages/sklearn/linear_model/sag.py:337: ConvergenceWarning: The max_iter was reached which means the coef_ did not converge\n",
      "  \"the coef_ did not converge\", ConvergenceWarning)\n",
      "/opt/anaconda3/lib/python3.7/site-packages/sklearn/linear_model/sag.py:337: ConvergenceWarning: The max_iter was reached which means the coef_ did not converge\n",
      "  \"the coef_ did not converge\", ConvergenceWarning)\n"
>>>>>>> 8659cba73564cad36b396823c177f02a8418409d
     ]
    }
   ],
   "source": [
    "acc_train_logreg_lasso = []\n",
    "acc_test_logreg_lasso = []\n",
    "c_logreg_lasso = []\n",
    "\n",
    "for c in cVals:\n",
    "    logreg_model_lasso(c, x_train, y_train, x_test, y_test)"
   ]
  },
  {
   "cell_type": "code",
   "execution_count": 18,
   "metadata": {},
   "outputs": [
    {
     "data": {
      "text/plain": [
<<<<<<< HEAD
       "<matplotlib.legend.Legend at 0x21a6aba8e80>"
=======
       "<matplotlib.legend.Legend at 0x7fc6d42a6210>"
>>>>>>> 8659cba73564cad36b396823c177f02a8418409d
      ]
     },
     "execution_count": 18,
     "metadata": {},
     "output_type": "execute_result"
    },
    {
     "data": {
<<<<<<< HEAD
      "image/png": "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\n",
=======
      "image/png": "iVBORw0KGgoAAAANSUhEUgAAAYgAAAEWCAYAAAB8LwAVAAAABHNCSVQICAgIfAhkiAAAAAlwSFlzAAALEgAACxIB0t1+/AAAADh0RVh0U29mdHdhcmUAbWF0cGxvdGxpYiB2ZXJzaW9uMy4xLjEsIGh0dHA6Ly9tYXRwbG90bGliLm9yZy8QZhcZAAAgAElEQVR4nO3de3hU1bn48e+bhBAuAQJoUBIJKLZFBISAKGjjDdFasVWOKNa7eKNWWz3VHlSkrT/a09ZTC9pSBGmV4IVqoxUtFFO1laui3KQGBAkIYoBAgEAmeX9/rJ0wmewJk5CdkMz7eZ55Mnvt21p7Jvudvdbaa4uqYowxxkRKaOoMGGOMOTZZgDDGGOPLAoQxxhhfFiCMMcb4sgBhjDHGlwUIY4wxvixANBMiMlZE/l7PdVeLSE4DZ+mYJyLzROSGps6HaXwislFELmzqfDR3FiACEMSXU1WfV9URMez7WRH5WcS6p6lqfl32JyJZIqIiUuK9NorIg3XMdpNS1UtUdVZQ2xeRid4xGhLUPloKETlBRJ4RkS9EZK+IfCIij4lIO59lHxKRd3zSu4rIIRHp2zi5jp2I5IhIYZR554nI2yJSLCIbGzlrR8UChDmSTqraHrgKeFhELmroHYhIUkNvM2giIsD3gJ1Ao16liNNs/ndFpDPwPtAGOEtVU4GLgE7AyT6r/Bk4W0R6RqSPAVaq6qog8xuAfcAM4IGmzkidqaq9GvgFbAQujDLvNqAAd2LJA04MmzcCWAcUA08B/wRu9ebdCLznvRfgCeBLb9mPgb7AOKAMOASUAK9F5gdIBH4CrAf2AsuBTJ98ZgEKJIWlLQEeCJs+EZgL7AA+A+4Jm9cGmAXsAtYC/w0URhyjH3t5PwgkHWF7Q4BlwB5gO/AbLz0FeA4oAnYDS4F0b15+2PFLACYAm7zj9iegY0RZbwA+B74C/ucIn/G5wAHgOm/fyT6f81rvGK8BBnrpmcBfvDIWAVO89InAc9GOv1eWnwP/8vZ7CnBT2D42ALdH5GEUsMI7ZuuBkcBoYHnEcj8CXvUp4xhgWUTafUCe9/5Sr2x7gS3A/VGO1c+AlUBCHf6H/g48EpG2pPI7gQssC71j+BXwPO7HTI3/QeBZ4Gdh83Ko/l2s8/fOJ7/VthllmQuBjU11XqrPq8kz0BJfRAkQwPnel3kg0Br4HfCON6+r9yX8Lu5k+QPcyd4vQFyMO7F3wgWLbwAnePOq/TNE5gf3K2Yl8DVv3f5AF5+8ZlH9BDUU2A98x5tO8PLwCJAM9MKdpC725k/GBbg0IAMXCCIDxArcCbNNDNt7H/ie9749MNR7fzvwGtAWF/wGAR28eflhx+9mXGDu5a3/F+DPEWX9o5eX/rig9Y1aPuNngBeBVriT1HfD5o3GnTAHe8f4FKCHl7+PcMG9HS64DffWmciRA8TnwGm470cr4Fu4E6UA3/Q+n8pANAT34+Ei79h2B76O+97tDC8b8CFwpU8Z2+JO/r3D0pYCY7z3XwDneO/TKvfts51FwGN1/B8aC3waNv013A+f47zpU7yytQaOA94B/i/Kd/5ZogQI6vm988lv1TZrKVOzCxDN5jK1hRgLzFDVD1T1IPAQcJaIZOF+ja1W1b+oagh4EtgWZTtlQCruH15Uda2qfhFjHm4FJqjqOnU+UtWiWpb/SkQO4P5RngJe9dIH4/5ZJ6nqIVXdgDvBjvHm/xfwuKruUtVCrzyRnlTVzap6IIbtlQGniEhXVS1R1UVh6V2AU1S1XFWXq+oen32Nxf3626CqJbhjPyaieusxVT2gqh/hTuT9/Q6IiLTFBYHZqloGvEz1aqZbgV+q6lLvGBeo6ibcSftE3FXYPlUtVdX3/PYRxbOqulpVQ6papqp/U9X13j7+ifvVfY637C2479p8Va1Q1S2q+on3vXsBd+WDiJyGC0avR+5MVfcDfwWu8ZbtjfvO5XmLlAF9RKSD9zl/ECXfXXDBpC5eAdJF5Gxv+npgnqru8PJW4JXtoJf2G1yQrKv6fu/iggWIxnUirooDAO9EVYT7dXcisDlsngK+jV6quhCYAkwFtovINBHpEGMeMnHVDbHqivvldD/uV1IrL70HcKKI7K584aqu0r351coT8d4v7UjbuwU4FfhERJaKyGVe+p+Bt4A5IrJVRH4pIq2oqdqx994nhW0fqgfk/V65/XwHCAFveNPPA5eIyHHedLRjnAls8n4A1Ee1Yygil4jIIhHZ6R2vS3GfV215AFf1d21YO8qLXuDwMxsvQADX4qqi9nvTV3r73CQi/xSRs6Jsowg4IVqhROQnYZ0hfg9Vwekl4Hovn2O9fFeuc7yIzBGRLSKyB1fN2NVv+0dQ3+9dXLAA0bi24r6QAHg9OLrgqiO+wFXFVM6T8OlIqvqkqg7CVTmcyuEGsCMNz7sZ/4bBqLxf5r8GSoG7wrbzmap2Cnulquql3vxq5cGdsGpsOiJfUbenqp+q6jXA8cAvgJdFpJ33S/oxVe0DnA1chvu1GanasQdOwp3kt9fhUFS6ARc8PheRbbgTWSsOn0ijHePNwElRGuX34ap0KnXzWabqeIlIa1y9+a9wbS6dcAFLjpAHvF/Bh3BXG9figmw0fwe6isgAXPlmh21nqaqOwn0mr+Kq3PwsAL4TrWFdVR9X1fbe646wWbNwV6IX4a6Yw69y/h/uePRT1Q64KyLBX23Htl7fuyj7aXEsQASnlYikhL2ScP9cN4nIAO8f/HFgsapuBP4GnC4iV3jL3o3/SQIRGSwiZ3q/lPfhTtzl3uztuHrUaKYDPxWR3l5vmH4i0iXGMk0G/ltEUnANhntE5Mci0kZEEkWkr4gM9pZ9EXhIRNJEpDsw/gjbrnV7InKdiBynqhW4xmiAcq8L4ekikohrwykLOxbhcoH7RKSniLTHHfsX6vpr3ivLBbhANMB79cedPCqrmaYD94vIIO8YnyIiPbwyfgFMFpF23vdimLfOCuBcETlJRDriqsBqk4yrf98BhETkElwnh0rP4L5rF4hIgoh0F5Gvh83/E+4qNFRbNZd3fF4G/hfoDMz3jkOyuHtzOnrVbHvwP+7gqn86ALO844CXn9+ISL9ayvgu7rOeBsxR1UNh81JxHTF2e59JbT2EVgCXikhnEekG3Bs2r17fu2g7ivifT/E+/wTvf6aVW0RSRCS5lvweO7QJG0Ba6gvXQKYRr5958+7AXfrvxP0iyghbbyTwHw73YgpvILuRw43UF+AafUs43IOjvTevN+4fYjdezxRq9mKagOutsRfX6JjhU4YsavZiEmA18H1v+kTciXcbrrfSorD9tMP9Mt2N62kzAVgfcYwujNhnbdt7Dtf7qMTLwxVe+jW4nl/7cMHxSao37Ib3YnoE94txh7e9tFrKWrVuRB4fJKIXUFjey4C+YZ/zOi+/q4AzvPSTcL+2K3vfPBm2jane8SrA9YKKbKS+NWKfd3tl3u0d6zlUb4z9jvc92ett8+KweScBFcTQeIy70lBgalhaMvCm9znt8b5Hw2vZxom4rp7bvPx8AjwKtD3Cvid6+z4zIv00XONyCe77/iNqdoKo/O6k4Npd9njH4z5q9mKq0/fOJ5851PyfV1xjut+8/KY+T8XyEq9w5hjjXY4XAmNV9e2mzs/REpE7cb1f6tOQaBqYiLTBnfgGquqnTZ0fc2yyKqZjiIhcLCKdvOqnn+B+sTfLXhPi7pwd5l1efw33C++Vps6XqXInsNSCg6lNs7uDtYU7C9dOkYy7AekKdV1Am6Nk4A9AT1wVyBxctZlpYuKGexDgiibOijnGWRWTMcYYX1bFZIwxxlegVUwiMhL4La7nzHRVnRwx/wngPG+yLXC8uv7ciEg5bkgIgM9V9fLa9tW1a1fNysqqd1737dtHu3Zx070ZiL8yx1t5wcocL46mzMuXL/9KVY/znRlU9yhcUFiP65OfjBu6oE8ty38fNzRA5XRJXfY3aNAgPRpvv/32Ua3fHMVbmeOtvKpW5nhxNGUmYkDG8FeQVUxDgAJ1Y98cwjVSjqpl+WtwfZGNMcYcA4IMEN2pPnZMoZdWg3d3ZU/c8L2VUkRkmbixZqy3hTHGNLIg2yD8xkWJ1mVqDPCyqobfwn6Sqm4VkV7AQhFZqarVBh8TkXG4ZyCQnp5Ofn5+vTNbUlJyVOs3R/FW5ngrL1iZ40VQZQ4yQBRSfYC2DNyAaX7G4IYNqKKqW72/G0QkHziDiNEpVXUabpwWsrOzNScnp96Zzc/P52jWb47irczxVl6wMseLoMocZBXTUqC3NzhaMi4I5EUu5N1lm4Ybd6gyLc27mxgR6QoMw904ZowxppEEdgWhqiERGY8bqz8R10NptYhMwrWaVwaLa3AjNYZXP30D+IOIVOCC2GRVtQBhjDGNKND7IFT1DQ4/VKUy7ZGI6Yk+6/0bOD3IvB0TNi+Bje9C1jmQOaSpc2OMMdXYWExNZf3bMHs0lIcgIQnOuR+6D4Q2nSCl0+G/Sc1j2HhjTMtjAaIxHdgN6+bBmr/Cp3+Hyk5bFWXwz//nv05Sm5pBI6VjRFrH6vMr01q1BYn2kC1jjKmdBYig7d8Jn/zNBYUN+S4YdMiAPlfAJ69DRQgSW8GopyCthwsipbvhwC73t7Q4LG037CmEL1fDgWI4WFz7vhNa1RpIMrYWwQef+weX1h0suBgT5yxABKFkhzv5r/krfPaOu1Lo1AOG3ukCQ/eB7uR7tG0QFeUugPgFEr+0/Tth5wYvrZhTtBzWz/TftiREBJQoVyk1rmzS3N+ExKM7hsaYJmcBoqHs3QZrX3NBYdO/QCugcy8Y9gPoMwpO6F/zF3nmkKNrnE5IhLad3auuVHn3H/M4J/v06kHFCx6+aXu2Hk4rP1T79lt3iKgOC6sWqxFoIuZbu4sxxwQLEEejeMvhoPD5+4BC11Ndg3OfUZB+2rFbTSNCeVJb6JRJ9fsZY6AKZQeiBxK/tKorl91Qtr/27bdqG6WtJYa0Vm2O3WNuTDNjAaKudn8Oa/JcUChc4tKOPw1yHnJB4fivN23+GoMIJLd1rw4n1H390KEogSRKFdmeQti+2qUd3FP7thOTozbk99xeDMkro1eRtU614GJMGAsQsdi54XBQ2PqBS+vWD85/2AWFrr2bNn/NTVIytD/OveoqvN0lWltLeNr+r6CoAEp3c9KBYvj8pejbrtHuUsf2F2t3MS2MBYhIlQ3HnbJg12cuKGz72M07cSBc+Bj0udy1L5jGdxTtLv98+21yzhoUe3Ap3Q3FhYfnVZTVvoPKdpc2HWupDovS/mLtLuYYZAEi3OYlMPPS6ieCjCEw4ufwjW+7bqim+RKBlA7u1emkuq1b1e5SW3CJuLIpWn84LdZ2l1jbWsLTrN3FBMQCRLjVr4QFB3E9kC56rEmzZI4R1dpdTqz7+qGDYQHlSO0vxe7Kpa7tLj6BJOvLYkheFf3mSmt3MbWwABEudND9lUT3T/f1bzVtfkzLkdQa2h/vXnVVHnJB4sCu2HqO7dtR1e7S40AxbHox+rYlsXpX5Lq0v1i7S4tnASLc9lXQ5RQYcK0NoGeOHYlJR9HustC1u9TWBTkyrU7tLh29Npfagkuaf8BJbFXPA2IaiwUIT6tDu10bRM6DcM6Pmjo7xjSMqp5ZHeu+rqprO/ELJNEa978qOJwWOlD79lu1q9+9Lm06uXYXEzgLEJ4uRcsAha9d0tRZMebYIALJ7dyro+/j5GtXrd0lhuCyezOUrnRph/bWvu3E1lEDSVW7S7Tgktze2l1iZAHC06VoCXTo7u5vaCTLN+1i0YYihvbqwqAeaY22X2MaRYO1u8QQXEq+hK/+Awd206O0Lu0uMbS1hKe17nDMtbss37SL19cfIrXnrgY/j1iAACg7QOedK2DQ9wL/ZVFyMMTSjTt59cMt5H20lcrn6HVISaJVYpBPgK3pUNkhkt+d36j7bErxVl5oaWXu4L1qHxqmrKKUtKRyUtlHB0rowD7as48O6qZT2UeH0n2klu4jVUvowGZS+aRq2STKo267AmEfbdhDe/bSjj20Yy/t2Cvt2VM17c2Tdt4ybl4J7QhJw55yy8or2FMaAuD1jYt4/tahDRokLEAALJlOYsXBQG5+KzkYYtnGnby/oYhFG3ayaksx5RVKglAVHATodVw7+navRz3xUdi6ZSsndu/WqPtsSvFWXojnMtfsinwI+Mp7RaVKq4pS2pTvrXqllJe4v6HwNPc3vXwvPcq30yZUQEp5Ccl6MGxbNTd/MKENpYmpHPBepYnt3fuk1Kr0qrSI9FBC6xrbW7WlmITCpQxNWMuS8m+waENvCxANavMSWPAoCsg/JkHG4KPqvbTPu0JYtGEnizYUsdILCK0ShQGZnbgr52SG9uqCADfPWkpZqIJWSQk8fNlpjV7NlJ9fRE5Oy3+ya6V4Ky9YmRtdWWlEg371xv3WB3bTurSYjtV6jm2EfcWxtbtEtKsUtyqlXfJ7CBUcIplN7U8HTmmw4liA2PguaDkCUF7mpusQIPYdDLHMa0tYtKGIjwsPB4T+GZ2485snc9bJXRh4UhptkqvXXT5/61BrgzCmJWmV4l6p6XVftzwU9nwXvxspI9pfSrbTcdcmVCoQIEXK+XrpR8CFDVYcCxBZ54AIqookJrvpWuw7GKpqXK4MCKEKJSlB6J/pAsLQXl0Y2KMTbZNrP7yDeqRZYDDGOIlJ0K6Le8Vq8xJk1uVUhA6SEMP5q64CDRAiMhL4LZAITFfVyRHznwDO8ybbAseraidv3g3ABG/ez1R1ViCZzBwCXXqzf18J7a6dVePqYf+hwwHh/fU1A8Lt3+xVdQVwpIBgjDENKnMI3JDHxoV/otf51zf4zb2BndFEJBGYClwEFAJLRSRPVddULqOq94Ut/33gDO99Z+BRIBvX1LPcW3dXEHndp63ZWNGO4oO9CP1nB69/vJXyCmVj0X4+2ry7KiD0y+jIuHMPB4R2rS0gGGOaWOYQPu+xn14BjPwQ5BluCFCgqhsARGQOMApYE2X5a3BBAeBiYL6q7vTWnQ+MBHIbOpPLN+0iecdevtQ0bpm+uNq8U9Pbc5sXELItIBhj4kyQZ7zuwOaw6ULgTL8FRaQH0BNYWMu6NW7lFJFxwDiA9PR08vPz65zJ19cf4kZq9khLAPp1OMiZKdvQrdtYurXOmz7mlZSU1OuYNVfxVl6wMseLoMocZIDwu+PMp2cwAGOAl1W18g6VmNZV1WnANIDs7GzNycmpcyZTe+5CnlEUITlR3LOay13X02suHNyiG5Hz8/OpzzFrruKtvGBljhdBlTnIAFFI9VseM4Bov8PHAHdHrJsTsW5+A+atyqAeaRQkJdC6Qsi99SwA63pqjDEEGyCWAr1FpCewBRcEro1cSES+BqQB74clvwU8LiKVZ+gRwENBZTRRIDlJqgKCBQZjjAkwQKhqSETG4072icAMVV0tIpOAZaqa5y16DTBHVTVs3Z0i8lNckAGYVNlgHVBu8a/VMsaY+BVotxxVfQN4IyLtkYjpiVHWnQHMCCxzYQSN2jhijDHxqnGHDz1GuQBhh8IYY8LZWREQtSsIY4yJZAECsDYIY4ypyQIElVVMFiCMMSacBQjs2sEYY/xYgABA7SHmxhgTwQIEVsVkjDF+LEAA0YeIMsaY+GUBAhDFriCMMSaCBQhAqLAAYYwxESxA4HoxWYAwxpjqLEDgGqmts6sxxlRnAQIARS0+GGNMNRYgsCsIY4zxYwGCytBgAcIYY8JZgACw50EYY0wNFiCwO6mNMcaPBQjcjXJWxWSMMdVZgMC7Uc4G6zPGmGosQGC9mIwxxk+gAUJERorIOhEpEJEHoyzzXyKyRkRWi8jssPRyEVnhvfKCzCfYndTGGBMpKagNi0giMBW4CCgElopInqquCVumN/AQMExVd4nI8WGbOKCqA4LKX7W8Wh8mY4ypIcgriCFAgapuUNVDwBxgVMQytwFTVXUXgKp+GWB+orJeTMYYU1NgVxBAd2Bz2HQhcGbEMqcCiMi/gERgoqq+6c1LEZFlQAiYrKqvRu5ARMYB4wDS09PJz8+vV0bPQKmo0Hqv31yVlJTEVZnjrbxgZY4XQZU5yADh95M8si4nCegN5AAZwLsi0ldVdwMnqepWEekFLBSRlaq6vtrGVKcB0wCys7M1JyenXhndkw8JiQnUd/3mKj8/P67KHG/lBStzvAiqzEFWMRUCmWHTGcBWn2X+qqplqvoZsA4XMFDVrd7fDUA+cEZQGbUqJmOMqSnIALEU6C0iPUUkGRgDRPZGehU4D0BEuuKqnDaISJqItA5LHwasISD2PAhjjKkpsComVQ2JyHjgLVz7wgxVXS0ik4BlqprnzRshImuAcuABVS0SkbOBP4hIBS6ITQ7v/dTQhArsPghjjKkuyDYIVPUN4I2ItEfC3ivwQ+8Vvsy/gdODzFs4u4Iwxpia7E5qvPsgLD4YY0w1FiCwoTaMMcaPBQiPVTEZY0x1FiCwoTaMMcaPBQisiskYY/xYgMC7Uc6eB2GMMdVYgPBYG4QxxlRnAQJIsBvljDGmBgsQVN4oZ4wxJpwFCCABBWuDMMaYaixAVLEAYYwx4SxAqFUuGWOMHwsQVQHCriCMMSacBQivedq6uRpjTHUWILwrCLX4YIwx1ViAqOrgaofCGGPC2VlRK9wfq2IyxphqLEBUNlLbfRDGGFONBQi7h9oYY3xZgFDrxWSMMX4CDRAiMlJE1olIgYg8GGWZ/xKRNSKyWkRmh6XfICKfeq8bgsul3QdhjDF+AgsQIpIITAUuAfoA14hIn4hlegMPAcNU9TTgXi+9M/AocCYwBHhURNICyah3BXH2/n/AsmcD2YUxxjRHQV5BDAEKVHWDqh4C5gCjIpa5DZiqqrsAVPVLL/1iYL6q7vTmzQdGBpLLD58D4PjyL+D1H1iQMMYYT9KRFhCRRFUtr8e2uwObw6YLcVcE4U719vEvIBGYqKpvRlm3u0/exgHjANLT08nPz69zJvt/+GfSODzk965/zeTjkqw6b6c5Kikpqdcxa67irbxgZY4XQZX5iAECKBCRl4GZqrqmDtv2q9SP7DKUBPQGcoAM4F0R6RvjuqjqNGAaQHZ2tubk5NQhe55WY2D+hKqnUncedhM52fXYTjOUn59PvY5ZMxVv5QUrc7wIqsyxVDH1A/4DTBeRRSIyTkQ6xLBeIZAZNp0BbPVZ5q+qWqaqnwHrcAEjlnUbxoBrANiW2B0u+y1k3xjIbowxprk5YoBQ1b2q+kdVPRv4b1zj8RciMktETqll1aVAbxHpKSLJwBggL2KZV4HzAESkK67KaQPwFjBCRNK8xukRXlpg3ms/0oKDMcaEiakNAvgWcBOQBfwaeB44B3gDrx0hkqqGRGQ87sSeCMxQ1dUiMglYpqp5HA4Ea4By4AFVLfL2+1NckAGYpKo7611KY4wxdRZLG8SnwNvA/6rqv8PSXxaRc2tbUVXfwAWR8LRHwt4r8EPvFbnuDGBGDPkzxhgTgFgCRD9VLfGboar3NHB+Gp2qu4fahmIyxpjqYgkQIRG5GzgNSKlMVNWbA8tVI1K1e6iNMcZPLL2Y/gx0w9289k9cj6K9QWaqMdlQfcYY4y+WAHGKqj4M7FPVWbgG69ODzVbjUbUQYYwxfmIJEGXe393eTWwdcb2ZWgQbqs8YY/zF0gYxzbsXYQLuPob2wMOB5qoR2QWEMcb4qzVAiEgCsMcbMO8doFej5KoRqXcNYVcQxhhTXa1VTKpaAYxvpLw0CbuCMMYYf7G0QcwXkftFJFNEOle+As9ZY7NLCGOMqSaWNojK+x3uDktTWmB1kzHGmMOOGCBUtWdjZKSpVFYx2QWEMcZUF8tgfdf7pavqnxo+O41P7VY5Y4zxFUsV0+Cw9ynABcAHQAsJEB67hDDGmGpiqWL6fvi0iHTEDb/RIlQGiIJdFcxe/DnXnnlSk+bHGGOOFbH0Yoq0H/fUtxbhrx8UArDnkPKTV1Yye/HnTZwjY4w5NhwxQIjIayKS571exz0W9K/BZ61x5P9nR7Xpeau+aKKcGGPMsSWWNohfhb0PAZtUtTCg/DS6c3sfB9sPT1/S94Smy4wxxhxDYgkQnwNfqGopgIi0EZEsVd0YaM4aybf6nQDvQcdk4fGRp1sbhDHGeGJpg3gJqAibLvfSWpSvdU6w4GCMMWFiCRBJqnqocsJ7nxxclowxxhwLYgkQO0Tk8soJERkFfBXLxkVkpIisE5ECEXnQZ/6NIrJDRFZ4r1vD5pWHpefFsj9jjDENJ5Y2iDuA50VkijddCPjeXR1ORBKBqcBF3jpLRSRPVddELPqCqvqNGHtAVQfEkD9jjDEBiOVGufXAUBFpD4iqxvo86iFAgapuABCROcAoIDJAGGOMOQbFMhbT48AvVXW3N50G/EhVJxxh1e7A5rDpQuBMn+WuFJFzgf8A96lq5TopIrIM17V2sqq+6pO3ccA4gPT0dPLz849UnBpK9+1mJBAKheq1fnNWUlISV2WOt/KClTleBFXmWKqYLlHVn1ROqOouEbkU9wjS2viNbhQ5Mt5rQK6qHhSRO4BZwPnevJNUdauI9AIWishK72rm8MZUpwHTALKzszUnJyeG4lS388stsBSSkpKoz/rNWX5+flyVOd7KC1bmeBFUmWNppE4UkdaVEyLSBmhdy/KVCoHMsOkMYGv4AqpapKoHvck/AoPC5m31/m4A8oEzYtinMcaYBhJLgHgO+IeI3CIitwDzcb/0j2Qp0FtEeopIMjAGqNYbSUTCb1u+HFjrpadVBiUR6QoMw9oujDGmUcXSSP1LEfkYuBBXbfQm0COG9UIiMh54C0gEZqjqahGZBCxT1TzgHq8LbQjYCdzorf4N4A8iUoELYpN9ej8ZY4wJUCxtEADbcHdT/xfwGTA3lpVU9Q3gjYi0R8LePwQ85LPev4HTY8ybMcaYAEQNECJyKq5a6BqgCHgB1831vEbKmzHGmCZU2xXEJ8C7wLdVtQBARO5rlFwZY4xpcrU1Ul+Jq1p6W0T+KCIXYA/mNMaYuBE1QKjqK6p6NfB1XDfT+4B0EXlaREY0Uv6MMcY0kSN2c1XVfar6vKpehruXYQVQY+A9Y4wxLUudnkmtqjtV9Q+qems8VbsAABj6SURBVP6RlzbGGNOc1SlAGGOMiR8WIIwxxviyAGGMMcaXBQhjjDG+LEAYY4zxZQHCGGOMLwsQxhhjfFmAMMYY48sChDHGGF8WIIwxxviyAGGMMcaXBQhjjDG+LEAYY4zxZQHCGGOMr0ADhIiMFJF1IlIgIjWeISEiN4rIDhFZ4b1uDZt3g4h86r1uCDKfxhhjaqrtmdRHRUQSganARUAhsFRE8lR1TcSiL6jq+Ih1OwOPAtmAAsu9dXcFlV9jjDHVBXkFMQQoUNUNqnoImAOMinHdi4H53gOKdgHzgZEB5dMYY4yPIANEd2Bz2HShlxbpShH5WEReFpHMOq5rjDEmIIFVMQHik6YR068Buap6UETuAGYB58e4LiIyDhgHkJ6eTn5+fp0zWbpvNyOBUChUr/Wbs5KSkrgqc7yVF6zM8SKoMgcZIAqBzLDpDGBr+AKqWhQ2+UfgF2Hr5kSsmx+5A1WdBkwDyM7O1pycnMhFjmjnl1tgKSQlJVGf9Zuz/Pz8uCpzvJUXrMzxIqgyB1nFtBToLSI9RSQZGAPkhS8gIieETV4OrPXevwWMEJE0EUkDRnhpxhhjGklgVxCqGhKR8bgTeyIwQ1VXi8gkYJmq5gH3iMjlQAjYCdzorbtTRH6KCzIAk1R1Z1B5NcYYU1OQVUyo6hvAGxFpj4S9fwh4KMq6M4AZQebPGGNMdHYntTHGGF8WIIwxxviyAGGMMcaXBQhjjDG+LEAYY4zxZQHCGGOMLwsQxhhjfFmAMMYY48sChDHGGF8WIIwxxviyAGGMMcaXBQhjjDG+LEAYY4zxZQHCGGOMLwsQxhhjfFmAMMYY48sChDHGGF8WIIwxxviyAGGMMcaXBQhjjDG+LEAYY4zxFWiAEJGRIrJORApE5MFalrtKRFREsr3pLBE5ICIrvNfvg8ynMcaYmpKC2rCIJAJTgYuAQmCpiOSp6pqI5VKBe4DFEZtYr6oDgsqfMcaY2gV5BTEEKFDVDap6CJgDjPJZ7qfAL4HSAPNijDGmjgK7ggC6A5vDpguBM8MXEJEzgExVfV1E7o9Yv6eIfAjsASao6ruROxCRccA4gPT0dPLz8+ucydJ9uxkJhEKheq3fnJWUlMRVmeOtvGBljhdBlTnIACE+aVo1UyQBeAK40We5L4CTVLVIRAYBr4rIaaq6p9rGVKcB0wCys7M1Jyenzpnc+eUWWApJSUnUZ/3mLD8/P67KHG/lhehlLisro7CwkNLSlnfh3rFjR1JSUpo6G40qljKnpKSQkZFBq1atYt5ukAGiEMgMm84AtoZNpwJ9gXwRAegG5InI5aq6DDgIoKrLRWQ9cCqwLMD8GhM3CgsLSU1NJSsrC+//r8XYu3cvqampTZ2NRnWkMqsqRUVFFBYW0rNnz5i3G2QbxFKgt4j0FJFkYAyQVzlTVYtVtauqZqlqFrAIuFxVl4nIcV4jNyLSC+gNbAgwr8bEldLSUrp06dLigoPxJyJ06dKlzleMgV1BqGpIRMYDbwGJwAxVXS0ik4BlqppXy+rnApNEJASUA3eo6s6g8mpMPLLgEF/q83kHWcWEqr4BvBGR9kiUZXPC3s8F5gaZN2OMMbWzO6k9W0uU5Zt2NXU2jIkLRUVFDBgwgAEDBtCtWze6d+9eNX3o0KGYtnHTTTexbt26WpeZOnUqzz//fENkGYDt27eTlJTEM88802DbPJYFegXRHKzZuofhQGFJBU9MX8Tztw5lUI+0ps6WMcec5Zt2sWhDEUN7dTnq/5EuXbqwYsUKACZOnEj79u25//7qPd1VFVUlIcH/d+zMmTOPuJ+77777qPIZ6YUXXuCss84iNzeXW265pUG3HS4UCpGU1PSn56bPQRNbUbib4d77slAFizYUWYAwceWx11azZuueWpfZW1rGJ9v2UqGQIPD1bqmkpkTvLtnnxA48+u3T6pyXgoICrrjiCoYPH87ixYt5/fXXeeyxx/jggw84cOAAV199NY884mqphw8fzpQpU+jbty9du3bljjvuYN68ebRu3ZrXX3+d448/ngkTJtC1a1fuvfdehg8fzvDhw1m4cCHFxcXMnDmTs88+m3379nH99ddTUFBAnz59+PTTT5k+fToDBtQcyCE3N5cpU6YwevRotm3bRrdu3QD429/+xsMPP0x5eTnp6en8/e9/Z+/evYwfP54PPvgAEWHSpElcdtlldO3ald27dwMwZ84cFixYwPTp07nuuutIT0/ngw8+YPDgwXz3u9/lvvvuo7S0lLZt2/Lss8/Su3dvQqEQDzzwAPPnzychIYE77riDE044gdmzZ/PSSy8BMG/ePGbOnMmLL75Y588gXNwHiOGndIVlrq6tVVICQ3t1aeosGXPM2VMaosK7i6lC3XRtAeJorFmzhpkzZ/L737sh2CZPnkznzp0JhUKcd955XHXVVfTp06faOsXFxXzzm99k8uTJjB8/nhkzZvDggzWHf1NVlixZQl5eHpMmTeLNN9/kd7/7Hd26dWPu3Ll89NFHDBw40DdfGzduZNeuXQwaNIirrrqKF198kXvuuYdt27Zx55138u6779KjRw927nT9aSZOnMhxxx3HypUrUdWqoFCb9evX849//IOEhASKi4t57733SExM5M0332TChAm88MILPP3002zdupWPPvqIxMREdu7cSWJiIg8++CBFRUV06dKFmTNnctNNN9X10NcQ9wFiQKa7Wuh/XCKXf8eql0z8ieWX/vJNuxg7fRFloQpaJSXw2zFnBPa/cvLJJzN48OCq6dzcXJ555hlCoRBbt25lzZo1NQJEmzZtuOSSSwAYMGAAy5b53zL13e9+F4BBgwaxceNGAN577z1+/OMfA9C/f39OO83/eOTm5nL11VcDMGbMGO6++27uuece3n//fc477zx69OgBQOfOnQFYsGABr776KuB6EKWlpREKhWot++jRo6uq1Hbv3s3111/P+vXrqy2zYMEC7r33XhITE6v2t3fvXq699lpmz57N2LFjWb58Obm5ubXuKxZxHyAq9T0ukVMtOBjja1CPNJ6/dWiDtUHUpl27dlXvP/30U37729+yZMkSOnXqxHXXXefblz85ObnqfWJiYtQTcevWrWsso6q+y0bKzc2lqKiIWbNmAbB161Y+++wzVNW3C6lfekJCQrX9RZYlvOz/8z//w8UXX8xdd91FQUEBI0eOjLpdgJtvvpkrr7wSgKuvvroqgBwN68VkjInJoB5p3H3eKY16lb1nzx5SU1Pp0KEDX3zxBW+99VaD72P48OFVdfUrV65kzZo1NZZZs2YN5eXlbNmyhY0bN7Jx40YeeOAB5syZw7Bhw1i4cCGbNm0CqKpiGjFiBFOmTAHcSX3Xrl0kJCSQlpbGp59+SkVFBa+88krUfBUXF9O9e3cAnn322ar0ESNG8PTTT1NeXl5tf5mZmXTt2pXJkydz4403Ht1B8ViAMMYcswYOHEifPn3o27cvt912G8OGDWvwfXz/+99ny5Yt9OvXj1//+tf07duXjh07Vltm9uzZfOc736mWduWVVzJ79mzS09N5+umnGTVqFP3792fs2LEAPProo2zfvp2+ffsyYMAA3n3XjTf6i1/8gpEjR3LBBReQkZERNV8//vGPeeCBB2qU+fbbb6dbt27069eP/v37V2uIvvbaa+nZsyennnrqUR2TKpVdyZr7a9CgQVovJTtUH+2g6567v37rN2Nvv/12U2ehUcVbeVWjl3nNmjWNm5FGtGfPnjotX1ZWpgcOHFBV1f/85z+alZWlZWVlQWQtMJVlvv322/XZZ5+Nupzf544b2cL3vGptEMaYuFZSUsIFF1xAKBRCVfnDH/5wTNyDUFcDBgwgLS2NJ598ssG22fyOgjHGNKBOnTqxfPnyps7GUau88bAhWRuEMcYYXxYgjDHG+LIAYYwxxpcFCGOMMb4sQBhjGl1DDPcNMGPGDLZt2xZ1/qFDh+jcuTMPP/xwQ2Q77liAMMbEZvMSePfX7u9Rqhzue8WKFdxxxx3cd999VdPhw2YcyZECxJtvvkmfPn144YUXjjrPtTnSGEvNlXVzNSbezXsQtq2sfZmDe2D7KtAKkARI7wutO0RfvtvpcMnkemVn1qxZTJ06lUOHDnH22WczZcoUKioquOmmm1ixYgWqyrhx40hPT2fFihVcffXVtGnThiVLltQILrm5ufzwhz/kiSeeYOnSpVWDAC5evJh7772X/fv3k5KSwttvv01ycnKNYbTvuusuMjIyWLVqFZ06dWLRokVMmDCBBQsWMGHCBHbs2MGGDRvo1q0bEydO5MYbb6SkpISEhASeeuopzjzzTAAef/xxcnNzSUhI4LLLLuP666/ne9/7HkuWuGC7du1abrjhhqrpY4UFCGPMkZUWu+AA7m9pce0Bop5WrVrFK6+8wr///W+SkpIYN24cc+bM4eSTT+arr75i5UoXyHbv3k2nTp343e9+x5QpU3yf3bBv3z7++c9/MnPmTLZt20Zubi6DBw+mtLSUMWPGMHfuXAYOHEhxcTGtW7fmqaeeqjGM9pF8+OGHvPPOO6SkpLB//37mz59PSkoKn3zyCTfccAOLFy/mtddeY968eSxZsoQ2bdqwc+dOOnfuTEpKCqtWraJv374NNjx3Q7MAYUy8i+WX/uYlMOtyKD8Eiclw5XTIHNLgWVmwYAFLly4lOzsbgAMHDpCZmcnFF1/MunXr+MEPfsCll17KiBEjjritvLw8LrroIlJSUhg9ejTZ2dn86le/Yu3atZx00klVz32oHHfJbxjtIxk1ahQpKSkAHDx4kPHjx/PRRx+RlJRUNUz3ggULuPnmm2nTpk217d5yyy3MnDmTX/ziF7z00kt8+OGHdTlUjSLQACEiI4HfAonAdFX1/SaKyFXAS8BgVV3mpT0E3AKUA/eoasMP42iMiU3mELghDza+C1nnBBIcwI0Nd/PNN/PTn/60xryPP/6YefPm8eSTTzJ37lymTZtW67Zyc3NZvHgxWVlZAHz55Ze88847dOjQIebhuQGSkpKoqHBXT7UNz/3rX/+azMxMnnvuOcrKymjfvn2t2x09ejSPP/44w4YN46yzzqJTp061lqcpBNZILSKJwFTgEqAPcI2I9PFZLhW4B1gcltYHGAOcBowEnvK2F5i0nR82SOObMS1W5hA450eBBQeACy+8kBdffJGvvvoKcL2dPv/8c3bs2IGqMnr06KpHkAKkpqayd+/eGtvZtWsXixcvprCwsGp47ieffJLc3FxOO+00Nm3aVLWNPXv2UF5eHnUY7aysrKqhOObOnRs178XFxZxwwgmICLNmzap67sOIESN45plnOHDgQLXttm3blvPPP5/x48cfk9VLEGwvpiFAgapuUNVDwBxglM9yPwV+CYSH5lHAHFU9qKqfAQXe9hreFvcl6Vq0zF1CW5AwpsmcfvrpPProo1x44YX069ePESNGsH37djZv3sy5557LgAEDuO2223j88ccBuOmmm7j11ltrdI+dO3cuF110Ea1aHX4s6hVXXMErr7xCQkICubm53HnnnfTv358RI0Zw8ODBqMNoT5w4kbvuuotzzjmn1h5W48ePZ/r06QwdOpRNmzZVPZzosssuY+TIkWRnZzNgwACeeOKJqnXGjh1Lq1atuOCCCxr0ODYUqYxyDb5hV200UlVv9aa/B5ypquPDljkDmKCqV4pIPnC/qi4TkSnAIlV9zlvuGWCeqr4csY9xwDiA9PT0QXPmzKlzPnt8NpusTS8gQAUJbOw5ls97XFWfIjc7JSUlVZfB8SDeygvRy9yxY0dOOeWUJshR8MrLyxvkaWqN4Te/+Q0HDx7koYceOqrtxFrmgoICiouLq6Wdd955y1U122/5INsgala6QVU0EpEE4AngxrquW5WgOg2YBpCdna05OTl1z+XJbWFWHhWhgyQktabX+dfTK8BL6GNJfn4+9TpmzVS8lReil3nt2rWkpqY2foYawd69e5tF2b797W+zefNmFi5ceNT5jbXMKSkpnHHGGTFvN8gAUQhkhk1nAFvDplOBvkC+14DTDcgTkctjWLfheI1vGxf+iV7nXx9o/aoxxlR67bXXmjoLRxRkG8RSoLeI9BSRZFyjc17lTFUtVtWuqpqlqlnAIuByrxdTHjBGRFqLSE+gNxBc40DmEFetZMHBxJGgqpfNsak+n3dgAUJVQ8B44C1gLfCiqq4WkUneVUJt664GXgTWAG8Cd6tqeVB5NSbepKSkUFRUZEEiTqgqRUVFVfdsxCrQ+yBU9Q3gjYi0R6IsmxMx/XPg54Flzpg4lpGRQWFhITt27GjqrDS40tLSOp8Im7tYypySkkJGRkadtmt3UhsTh1q1akXPnj2bOhuByM/Pr1NDbEsQVJltNFdjjDG+LEAYY4zxZQHCGGOMr8DupG5sIrID2HQUm+gKfNVA2Wku4q3M8VZesDLHi6Mpcw9VPc5vRosJEEdLRJZFu928pYq3MsdbecHKHC+CKrNVMRljjPFlAcIYY4wvCxCH1f70kZYp3socb+UFK3O8CKTM1gZhjDHGl11BGGOM8WUBwhhjjK+4DxAiMlJE1olIgYg82NT5CYKIZIrI2yKyVkRWi8gPvPTOIjJfRD71/qY1dV4bmogkisiHIvK6N91TRBZ7ZX7BG4q+xRCRTiLysoh84n3eZ7X0z1lE7vO+16tEJFdEUlra5ywiM0TkSxFZFZbm+7mK86R3TvtYRAbWd79xHSBEJBGYClwC9AGuEZE+TZurQISAH6nqN4ChwN1eOR8E/qGqvYF/eNMtzQ9ww81X+gXwhFfmXcAtTZKr4PwWeFNVvw70x5W9xX7OItIduAfIVtW+QCLu2TMt7XN+FhgZkRbtc70E9wyd3rhHMj9d353GdYAAhgAFqrpBVQ8Bc4BRTZynBqeqX6jqB977vbiTRndcWWd5i80CrmiaHAZDRDKAbwHTvWkBzgcqn23eososIh2Ac4FnAFT1kKrupoV/zrhRqduISBLQFviCFvY5q+o7wM6I5Gif6yjgT+osAjqJyAn12W+8B4juwOaw6UIvrcUSkSzgDGAxkK6qX4ALIsDxTZezQPwf8N9AhTfdBdjtPcwKWt7n3QvYAcz0qtWmi0g7WvDnrKpbgF8Bn+MCQzGwnJb9OVeK9rk22Hkt3gOE+KS12H6/ItIemAvcq6p7mjo/QRKRy4AvVXV5eLLPoi3p804CBgJPq+oZwD5aUHWSH6/efRTQEzgRaIerYonUkj7nI2mw73m8B4hCIDNsOgPY2kR5CZSItMIFh+dV9S9e8vbKS0/v75dNlb8ADAMuF5GNuKrD83FXFJ28qghoeZ93IVCoqou96ZdxAaMlf84XAp+p6g5VLQP+ApxNy/6cK0X7XBvsvBbvAWIp0Nvr8ZCMa9zKa+I8NTiv7v0ZYK2q/iZsVh5wg/f+BuCvjZ23oKjqQ6qaoapZuM91oaqOBd4GrvIWa2ll3gZsFpGveUkX4J7r3mI/Z1zV0lARaet9zyvL3GI/5zDRPtc84HqvN9NQoLiyKqqu4v5OahG5FPfLMhGY4T0Lu0URkeHAu8BKDtfH/wTXDvEicBLuH220qkY2hDV7IpID3K+ql4lIL9wVRWfgQ+A6VT3YlPlrSCIyANconwxsAG7C/RBssZ+ziDwGXI3rrfchcCuuzr3FfM4ikgvk4Ib13g48CryKz+fqBcopuF5P+4GbVHVZvfYb7wHCGGOMv3ivYjLGGBOFBQhjjDG+LEAYY4zxZQHCGGOMLwsQxhhjfFmAMCaCiHQTkTkisl5E1ojIGyJyatj8HBF5P2KdJBGpunEpynYnisj9QebdmIZkAcKYMF4f8leAfFU9WVX74O4ZSQ9b7B0gwxvXqtKFwKr63pBkzLHIAoQx1Z0HlKnq7ysTVHWFqr4bNl0BvIS7OavSGCAXQERuE5GlIvKRiMwVkbaROxGRfBHJ9t539YYEqXx+xf96638sIrd76SeIyDsissJ77sE5DV90Y6qzAGFMdX1xo4EeSS4uKCAirYFLcWNdAfxFVQerauXzGOryLIJbcEMjDAYGA7eJSE/gWuAtVR2Ae87Dijps05h6STryIsaYSKq6VETae+MefQNYpKq7vNl9ReRnQCegPfBWHTY9AugnIpXjCHXEPfhlKTDDG3TxVVW1AGECZwHCmOpWc3iQtyoi8nPcw4fwfsWDG+tnDC5A5IYt/ixwhap+JCI34sbQiRTi8BV8SviugO+rao2gIiLnenn4s4j8r6r+KeZSGVMPVsVkTHULgdYicltlgogMBv6uqgPCggO4oHAdbijx8FGAU4EvvF/7Y6PsZyMwyHsfHpDeAu701kVEThWRdiLSA/d8iz/iRuat93OGjYmVXUEYE0ZVVUS+A/yfiDwIlOJO5vf6LLtGRPYDy1V1X9ish3Ej5W7CjaCb6rOrXwEvisj3cEGp0nQgC/jA61G1A/coyRzgAREpA0qA64+imMbExEZzNcYY48uqmIwxxviyAGGMMcaXBQhjjDG+LEAYY4zxZQHCGGOMLwsQxhhjfFmAMMYY4+v/A/WEVr0unM7iAAAAAElFTkSuQmCC\n",
>>>>>>> 8659cba73564cad36b396823c177f02a8418409d
      "text/plain": [
       "<Figure size 432x288 with 1 Axes>"
      ]
     },
     "metadata": {
      "needs_background": "light"
     },
     "output_type": "display_data"
    }
   ],
   "source": [
    "plt.plot(c_logreg_lasso, acc_train_logreg_lasso, '.-')\n",
    "plt.plot(c_logreg_lasso, acc_test_logreg_lasso, '.-')\n",
    "plt.xlabel('C-Values')\n",
    "plt.ylabel('Accuracy')\n",
    "plt.title(\"Logistic Regression Accuracy vs C-Values L1\")\n",
    "plt.grid()\n",
    "\n",
    "plt.legend(['Training Accuracy', 'Test Accuracy'], loc='lower right')"
   ]
  },
  {
   "cell_type": "code",
   "execution_count": 19,
   "metadata": {},
   "outputs": [
    {
     "name": "stdout",
     "output_type": "stream",
     "text": [
<<<<<<< HEAD
      "Accuracy on training data = 0.582353\n",
      "Accuracy on test data = 0.553846\n",
      "Accuracy on training data = 0.582353\n",
      "Accuracy on test data = 0.553846\n",
      "Accuracy on training data = 0.641176\n",
      "Accuracy on test data = 0.615385\n",
      "Accuracy on training data = 0.705882\n",
      "Accuracy on test data = 0.661538\n",
      "Accuracy on training data = 0.705882\n",
      "Accuracy on test data = 0.676923\n",
      "Accuracy on training data = 0.711765\n",
      "Accuracy on test data = 0.676923\n",
      "Accuracy on training data = 0.717647\n",
      "Accuracy on test data = 0.676923\n"
=======
      "Accuracy on training data = 0.564706\n",
      "Accuracy on test data = 0.600000\n",
      "Accuracy on training data = 0.564706\n",
      "Accuracy on test data = 0.600000\n",
      "Accuracy on training data = 0.647059\n",
      "Accuracy on test data = 0.707692\n",
      "Accuracy on training data = 0.694118\n",
      "Accuracy on test data = 0.723077\n",
      "Accuracy on training data = 0.717647\n",
      "Accuracy on test data = 0.738462\n",
      "Accuracy on training data = 0.717647\n",
      "Accuracy on test data = 0.738462\n",
      "Accuracy on training data = 0.711765\n",
      "Accuracy on test data = 0.707692\n"
>>>>>>> 8659cba73564cad36b396823c177f02a8418409d
     ]
    }
   ],
   "source": [
    "acc_train_logreg_ridge = []\n",
    "acc_test_logreg_ridge = []\n",
    "c_logreg_ridge = []\n",
    "\n",
    "for c in cVals:\n",
    "    logreg_model_ridge(c, x_train, y_train, x_test, y_test)"
   ]
  },
  {
   "cell_type": "code",
   "execution_count": 20,
   "metadata": {},
   "outputs": [
    {
     "data": {
      "text/plain": [
<<<<<<< HEAD
       "<matplotlib.legend.Legend at 0x21a6ac8dfd0>"
=======
       "<matplotlib.legend.Legend at 0x7fc6d4394f10>"
>>>>>>> 8659cba73564cad36b396823c177f02a8418409d
      ]
     },
     "execution_count": 20,
     "metadata": {},
     "output_type": "execute_result"
    },
    {
     "data": {
<<<<<<< HEAD
      "image/png": "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\n",
=======
      "image/png": "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\n",
>>>>>>> 8659cba73564cad36b396823c177f02a8418409d
      "text/plain": [
       "<Figure size 432x288 with 1 Axes>"
      ]
     },
     "metadata": {
      "needs_background": "light"
     },
     "output_type": "display_data"
    }
   ],
   "source": [
    "plt.plot(c_logreg_ridge, acc_train_logreg_ridge, '.-')\n",
    "plt.plot(c_logreg_ridge, acc_test_logreg_ridge, '.-')\n",
    "plt.xlabel('C-Values')\n",
    "plt.ylabel('Accuracy')\n",
    "plt.title(\"Logistic Regression Accuracy vs C-Values L2\")\n",
    "plt.grid()\n",
    "\n",
    "# Use the following function to have a legend\n",
    "plt.legend(['Training Accuracy', 'Test Accuracy'], loc='upper right')"
   ]
  },
  {
   "cell_type": "code",
   "execution_count": 21,
   "metadata": {},
   "outputs": [
    {
     "name": "stdout",
     "output_type": "stream",
     "text": [
<<<<<<< HEAD
      "Train Accuracy = 0.582353\n",
      "Test Accuracy = 0.553846\n",
      "Train Accuracy = 0.582353\n",
      "Test Accuracy = 0.553846\n",
      "Train Accuracy = 0.670588\n",
      "Test Accuracy = 0.676923\n",
      "Train Accuracy = 0.717647\n",
      "Test Accuracy = 0.661538\n",
      "Train Accuracy = 0.723529\n",
      "Test Accuracy = 0.676923\n",
      "Train Accuracy = 0.717647\n",
      "Test Accuracy = 0.676923\n",
      "Train Accuracy = 0.717647\n",
      "Test Accuracy = 0.676923\n"
=======
      "Train Accuracy = 0.564706\n",
      "Test Accuracy = 0.600000\n",
      "Train Accuracy = 0.564706\n",
      "Test Accuracy = 0.600000\n",
      "Train Accuracy = 0.694118\n",
      "Test Accuracy = 0.707692\n",
      "Train Accuracy = 0.705882\n",
      "Test Accuracy = 0.707692\n",
      "Train Accuracy = 0.705882\n",
      "Test Accuracy = 0.692308\n",
      "Train Accuracy = 0.711765\n",
      "Test Accuracy = 0.692308\n",
      "Train Accuracy = 0.711765\n",
      "Test Accuracy = 0.692308\n"
>>>>>>> 8659cba73564cad36b396823c177f02a8418409d
     ]
    }
   ],
   "source": [
    "acc_train_svm_linear = []\n",
    "acc_test_svm_linear = []\n",
    "c_svm_linear = []\n",
    "\n",
    "for c in cVals:\n",
    "    svm_linear(c, x_train, y_train, x_test, y_test)"
   ]
  },
  {
   "cell_type": "code",
   "execution_count": 22,
   "metadata": {},
   "outputs": [
    {
     "data": {
      "text/plain": [
<<<<<<< HEAD
       "<matplotlib.legend.Legend at 0x21a6acf1250>"
=======
       "<matplotlib.legend.Legend at 0x7fc6d462eb10>"
>>>>>>> 8659cba73564cad36b396823c177f02a8418409d
      ]
     },
     "execution_count": 22,
     "metadata": {},
     "output_type": "execute_result"
    },
    {
     "data": {
<<<<<<< HEAD
      "image/png": "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\n",
=======
      "image/png": "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\n",
>>>>>>> 8659cba73564cad36b396823c177f02a8418409d
      "text/plain": [
       "<Figure size 432x288 with 1 Axes>"
      ]
     },
     "metadata": {
      "needs_background": "light"
     },
     "output_type": "display_data"
    }
   ],
   "source": [
    "plt.plot(c_svm_linear, acc_train_svm_linear, '.-')\n",
    "plt.plot(c_svm_linear, acc_test_svm_linear, '.-')\n",
    "plt.xlabel('C-Values')\n",
    "plt.ylabel('Accuracy')\n",
    "plt.title(\"SVM-Linear Accuracy vs C-Values\")\n",
    "plt.grid()\n",
    "\n",
    "plt.legend(['Training Accuracy', 'Test Accuracy'], loc='upper right')"
   ]
  },
  {
   "cell_type": "code",
   "execution_count": 23,
   "metadata": {},
   "outputs": [
    {
     "name": "stdout",
     "output_type": "stream",
     "text": [
<<<<<<< HEAD
      "Train Accuracy = 0.582353\n",
      "Test Accuracy = 0.553846\n",
      "Train Accuracy = 0.582353\n",
      "Test Accuracy = 0.553846\n",
      "Train Accuracy = 0.582353\n",
      "Test Accuracy = 0.553846\n",
      "Train Accuracy = 0.652941\n",
      "Test Accuracy = 0.584615\n",
      "Train Accuracy = 0.752941\n",
      "Test Accuracy = 0.692308\n",
      "Train Accuracy = 0.770588\n",
      "Test Accuracy = 0.738462\n",
      "Train Accuracy = 0.829412\n",
=======
      "Train Accuracy = 0.564706\n",
      "Test Accuracy = 0.600000\n",
      "Train Accuracy = 0.564706\n",
      "Test Accuracy = 0.600000\n",
      "Train Accuracy = 0.564706\n",
      "Test Accuracy = 0.600000\n",
      "Train Accuracy = 0.688235\n",
      "Test Accuracy = 0.646154\n",
      "Train Accuracy = 0.764706\n",
      "Test Accuracy = 0.661538\n",
      "Train Accuracy = 0.782353\n",
      "Test Accuracy = 0.753846\n",
      "Train Accuracy = 0.841176\n",
>>>>>>> 8659cba73564cad36b396823c177f02a8418409d
      "Test Accuracy = 0.692308\n"
     ]
    }
   ],
   "source": [
    "acc_train_svm_rbf = []\n",
    "acc_test_svm_rbf = []\n",
    "c_svm_rbf = []\n",
    "\n",
    "for c in cVals:\n",
    "    svm_rbf(c, x_train, y_train, x_test, y_test)"
   ]
  },
  {
   "cell_type": "code",
   "execution_count": 24,
   "metadata": {},
   "outputs": [
    {
     "data": {
      "text/plain": [
<<<<<<< HEAD
       "<matplotlib.legend.Legend at 0x21a6ad5e340>"
=======
       "<matplotlib.legend.Legend at 0x7fc6d468d7d0>"
>>>>>>> 8659cba73564cad36b396823c177f02a8418409d
      ]
     },
     "execution_count": 24,
     "metadata": {},
     "output_type": "execute_result"
    },
    {
     "data": {
<<<<<<< HEAD
      "image/png": "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\n",
=======
      "image/png": "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\n",
>>>>>>> 8659cba73564cad36b396823c177f02a8418409d
      "text/plain": [
       "<Figure size 432x288 with 1 Axes>"
      ]
     },
     "metadata": {
      "needs_background": "light"
     },
     "output_type": "display_data"
    }
   ],
   "source": [
    "plt.plot(c_svm_rbf, acc_train_svm_rbf, '.-')\n",
    "plt.plot(c_svm_rbf, acc_test_svm_rbf, '.-')\n",
    "plt.xlabel('C-Values')\n",
    "plt.ylabel('Accuracy')\n",
    "plt.title(\"SVM-RBF Accuracy vs C-Values\")\n",
    "plt.grid()\n",
    "\n",
    "plt.legend(['Training Accuracy', 'Test Accuracy'], loc='lower right')"
   ]
  },
  {
   "cell_type": "code",
   "execution_count": 25,
   "metadata": {},
   "outputs": [
    {
     "name": "stdout",
     "output_type": "stream",
     "text": [
<<<<<<< HEAD
      "Train Accuracy = 0.582353\n",
      "Test Accuracy = 0.553846\n",
      "Train Accuracy = 0.582353\n",
      "Test Accuracy = 0.553846\n",
      "Train Accuracy = 0.588235\n",
      "Test Accuracy = 0.553846\n",
      "Train Accuracy = 0.635294\n",
      "Test Accuracy = 0.584615\n",
      "Train Accuracy = 0.711765\n",
      "Test Accuracy = 0.661538\n",
      "Train Accuracy = 0.741176\n",
      "Test Accuracy = 0.661538\n",
      "Train Accuracy = 0.758824\n",
      "Test Accuracy = 0.676923\n"
=======
      "Train Accuracy = 0.564706\n",
      "Test Accuracy = 0.600000\n",
      "Train Accuracy = 0.564706\n",
      "Test Accuracy = 0.600000\n",
      "Train Accuracy = 0.564706\n",
      "Test Accuracy = 0.600000\n",
      "Train Accuracy = 0.629412\n",
      "Test Accuracy = 0.692308\n",
      "Train Accuracy = 0.711765\n",
      "Test Accuracy = 0.707692\n",
      "Train Accuracy = 0.729412\n",
      "Test Accuracy = 0.753846\n",
      "Train Accuracy = 0.764706\n",
      "Test Accuracy = 0.738462\n"
>>>>>>> 8659cba73564cad36b396823c177f02a8418409d
     ]
    }
   ],
   "source": [
    "acc_train_svm_poly = []\n",
    "acc_test_svm_poly = []\n",
    "c_svm_poly = []\n",
    "\n",
    "for c in cVals:\n",
    "    svm_polynomial(c, x_train, y_train, x_test, y_test)"
   ]
  },
  {
   "cell_type": "code",
   "execution_count": 26,
   "metadata": {},
   "outputs": [
    {
     "data": {
      "text/plain": [
<<<<<<< HEAD
       "<matplotlib.legend.Legend at 0x21a6adc66a0>"
=======
       "<matplotlib.legend.Legend at 0x7fc6d4792890>"
>>>>>>> 8659cba73564cad36b396823c177f02a8418409d
      ]
     },
     "execution_count": 26,
     "metadata": {},
     "output_type": "execute_result"
    },
    {
     "data": {
<<<<<<< HEAD
      "image/png": "iVBORw0KGgoAAAANSUhEUgAAAYgAAAEWCAYAAAB8LwAVAAAABHNCSVQICAgIfAhkiAAAAAlwSFlzAAALEgAACxIB0t1+/AAAADh0RVh0U29mdHdhcmUAbWF0cGxvdGxpYiB2ZXJzaW9uMy4yLjIsIGh0dHA6Ly9tYXRwbG90bGliLm9yZy+WH4yJAAAgAElEQVR4nO3deXxU5b348c83M9kTQLaIgIKKoihLiWxFZSkWq4JUW0VwverlXvUWrbVa76tqt5+1trcuVYqKiCJQUZRWREWNUmWRKCKLC0KQgOxLFjLJZOb7++OcCZNhkkxCJhOS7/v1mldmzvo8M/B8n+Wc54iqYowxxkRKSnQCjDHGNE8WIIwxxkRlAcIYY0xUFiCMMcZEZQHCGGNMVBYgjDHGRGUBwhwTROR+EXkh0ekwjUdERohIYaLTYWpmAaKVEpHhIvKRiBwUkX0i8qGInCMiQ0WkVESyo+zzqYjcKiI9RERF5JOI9R1FpEJECmo57/0i4heREhE54KZhaByyGHneTPeci+J9rmOdiKS4v9PX7r+FAhGZISI9IrZLc3/DUVGO8X8iMr+p0mziwwJEKyQibYB/AY8B7YGuwANAuaouAwqByyL2OQs4E5gTtjjTXR5yFbA5hiTMU9UsoBPwb+AVEZEGZidWlwPlwAUi0iXO56pGRLxNeb5GMB8Yh/N7tgX6AfnA6PCNVNUHzAOuCV8uIh5gIvBcUyTWxI8FiNbpNABVnaOqAVUtU9W3VHWNu/45Iv7Tu59fV9W9YcueB66N2GZWrIlQVb97ruOBDiJygogsdFs0G0Xkpmj7icjrInJbxLI1InJpLae7FpgGrAEmRewbak0dEJGtInKduzxdRP4sIlvclta/3WVHdI24tewfuO/vF5H5IvKCiBQB14nIIBFZ5p7jOxF5XERSwvbvIyJvu3nfKSK/EpHjReSQiHQI226giOwWkeSI858gImUi0j5s2QAR2SMiySJyqoi87+Zjj4jMq+G7/QEwBhivqh+raqWqHlTVv6nqM1F2eQ64TEQywpb9EKdseUNErheRDSJSLCKbROQ/a/qB3FbpqWGfZ4rI78I+Xywiq8Nann3D1v1SRLa55/lSREZHHt/UnwWI1ukrICAiz4nIhSJyXMT654FzReREABFJwqlNRhb+LwBXiohHRM4AsoEVsSZCRFKB64BCVd2D0zopBE7AqfH/oYb/6M8Bk8OO0w+nFRS1+8jNxwhgtvu6JmLdGzitqU5Af2C1u/phYCAwDKeldRcQjDF743Fq4u3ccwaA24GOwFCc2vh/u2nIBpYAi928nwq8o6o7gDzgp2HHnQzMdYNrFVXdDiyjesvvKmC+u+1vgbeA44Bubn6j+QGwUlW3xpJJVf0I+A74cdjiq4EXVbUS2AVcDLQBrgf+T0S+F8uxw7n7zAD+E+gA/B1YKCKpInI6cCtwjqpm4wSogvqewxzJAkQrpKpFwHBAgaeA3W7NPcddvxV4n8OF8GggDXg94lCFwJc4hcq1xN56+KmIHAC24hTAl4pIdzdNv1RVn6quBp7GKWwivQb0EpFe7uercbqtKmo43zXAGlVdjxOE+ojIAHfdJGCJ25ryq+peVV3tBsUbgJ+p6ja3pfWRqpbHmMdlqvqqqgbdFlq+qi53a+QFOAXc+e62FwM7VPXPbt6LVTUUaKuCYVjXzfM1nPNFdz1ul92V7jIAP3AScIJ7jn/XcIwOOAV+fczCDbpu9+V4N92o6uuq+o063scJUufW8/gANwF/V9UV7m/xHE6X4RCc4JsKnCkiyapaoKrfNOAcJoIFiFZKVTeo6nWq2g04C6fm+tewTcK7mUI1Qj9HmoXTCpiI06KoIiKTxBkYLhGRN8JW/UNV26lqZ1Udpar57vn3qWpx2HZbcFoGkWkvB/4BTHYL8toKTdx8zHb33Y4T/EJdY92BaIVJR5yg2NCCploNXEROE5F/icgOt9vpD+45aksDOMHwTBE5Gafr56Cqrqxh2/nAUBE5ATgPpwKw1F13FyDAShFZJyI31HCMvUCNYzQicm7Yb7rOXTwLGCkiXXFafhtV9VN3+wtFZLnbdXYA+FFYvuvjJODnbvfSAfdY3XEC3kZgKnA/sEtE5rrfgTlKFiAMqvoFMBMnUIS8AnQVkZE43Qc1tQ5eBi4CNqnqlojjzlbVLPd1YR3J2A60l+pXT50IbKth++dwav+jgUPu4PoRRGQY0Au4xy2cdwCDgYniDB5vBU6JsusewFfDulKgqs/drdl3itgmcprkJ4EvgF6q2gb4FU6BTS1pCA0E/8PN69XUEghV9QBODf2nON1Lc9SdrllVd6jqTap6Ak43zRPh/f1hlgCDRKRbDedYGvab9nGXfYsTiEJpnAVVXYgv43TV5ahqO5xuwJouSDhE2PeKMzYVshX4vVuxCL0yVHWOm4YXVXU4TiBR4I81fU8mdhYgWiER6S0iPw8VAm73zkRgeWgbVS3FqZE+C2xR1VXRjuVuNwq48WjS5HZrfQT8P3Eun+wL/AduzT/K9stwxgP+TO2th2uBt3GuwOrvvs7CKYgudI//AxH5qYh4RaSDiPRX1SBOn/df3AFgjziXAKfijOGkichF7mDx/+J0cdQmGygCSkSkN/BfYev+BRwvIlPdPvVsERkctj7UShtHRCstihdxWkyXcbh7CRH5SVihvx+nEA1E7qyqS3C+rwXugLjXTc+UWlod4ATsW4Hvc/g3S8H5XnYDlSJyIXBBLcdYDVzlftdjOdwFB05X6BQRGSyOTPf7zxaR00VklPvb+ICyaHkz9WcBonUqxqlFrxCRUpzAsBb4ecR2z+HUyGodW1DVVY3U5zsR6IHTmlgA3Keqb9ey/SzgbGooNEUkDac2/Zhbgw69NuNegeXWfn+Ek/d9OIVUP/cQdwKfAx+76/4IJKnqQZwB5qdxWjilOOMxtbkTp1ZfjFPYVV1F5HarjQEuAXYAXwMjw9Z/iBMMP3HHL2qzEKfFtFNVPwtbfg7O713ibvMz93uI5nKcmv484CDOv41cnNZFTebjDIC/o6rfheXrf3BaQPvd/C+s5Rg/w/kODuC0Rl4NrXArKDcBj7vH2ogTNMEJQg/itPp2AJ1xWmjmKInaA4PMMUpErgFudrsWWjQReRdnHOjpRKfFtB7H2g08xgAgznX3/w08kei0xJuInAN8D+fqIGOajHUxmWOOiPwQp197J2H97C2RiDyH07UzNeIKL2PizrqYjDHGRGUtCGOMMVG1qDGIjh07ao8ePRq0b2lpKZmZmY2boGbO8tzytbb8guW5vvLz8/eoauR9PEALCxA9evRg1aqol+vXKS8vjxEjRjRugpo5y3PL19ryC5bn+hKRLTWtsy4mY4wxUVmAMMYYE5UFCGOMMVG1qDEIY0z9+P1+CgsL8fl8iU5Ko2nbti0bNmxIdDKaVCx5TktLo1u3biQnJ9e6XTgLEMa0YoWFhWRnZ9OjRw8k7k99bRrFxcVkZx/xSPUWra48qyp79+6lsLCQnj17xnxc62IyphXz+Xx06NChxQQHE52I0KFDh3q3FC1AGNPKWXA4tpWWV3LAF6S0vLLW7RryO1sXkzHGNGOqiioEVAkEnVfQfV/mD7CnuAJFObinlJ4dM8lMbbxi3QKEMSZh9u7dy+jRowHYsWMHHo+HTp2cm3pXrlxJSkpKjfuuWrWKWbNm8eijj9Z6jmHDhvHRRx81Wpp/9rOfMX/+fLZu3UpSUt2dMNEK+PBCPhDUKOuoti6WOfNUldLySgsQxpiWoUOHDqxevRqA+++/n6ysLO68886q9ZWVlXi90Yup3NxccnNz6zzH0QYH1cMFdmUgwCuvLOCErt14/a13GDr8PIJRCviAKsEgMRfwSSIkJQkeETxJAhokPdnjLAu95PD7JPd9RWWQb/cdQlURkUYNDmBjEMaYesrfsp+/vbeR/C3743L86667jjvuuIORI0fyy1/+kpUrVzJs2DAGDBjAsGHD+PLLLwFneomLL74YcILLDTfcwIgRI+jbt2+1VkVWVhaBoPL2O+9y3vnnc+mPL+O000/nJ1dMZHexj51FPp7/xwJO7XU65wwZxrU3/Rcjx4zlix1FrN9+kLXbili3/SBf7Chi9oJF9Oh1OuMnXsdzL8xm+4EydhT5+HJzIddddQU/PG8IF40YymerVpKe7OHt1+ZxxQXDmXjhefzuF//Nie0z+OM9/8PnS9/ktJxszujShmG9u3FW17bs+vITpkwcx6+n3sy4kUM4sUMmt15/FRePGs7IIQN5+cXnaJeRQnZaMkvfW8Kwwedw7pBcbp08gTbJyqXn53KoyPlNgsEgp556Knv27Dmq38JaEMYYAB745zrWby+qdZtin58vdhQTVEgS6H18NtlpNV9Xf+YJbbjvkj71TstXX33FkiVL8Hg8HDx4kPfy8pAkD2+/vYS77r6HWS/Oo7jMT0VlkJ1FPop9ftasXc+Lry5i3/4DXHhuLiMnTCLJ4yWosG77Qb7dd4hPP/2UV95ZRqecLlw7YSyvv/0effoO4BdTb+P5BYs4qUdPfj7lBkSEjBSvW2vHqbUnCUsXv8bVk69i3LjxDHz4d/TqmE5qagoTf/6fXPzD0UydOpVAIEBJSQmFhZt54q8P8+GHH9KxY0f27dtHu4wUkj1JpCZ7SEv2HJHvlStXsnbt2qpLUWfMmEH79u0pKyvjnHPO4bLLLiMYDHLTTTfxwQcf0LNnT/bt20dysperr57M7NmzmTp1KkuWLKFfv3507Nix3t99OAsQxpiYFfkqCbq9JUF1PtcWIMDponG6XEJdMNEHXA+W+amQCop9fs694GK+3lVKQJVthVt58Nd38+3mbxARKisr2bK3lF0l5fgqA+ws8lFWEeD7o8aAJ5n27TvQoWMnyg7so2v3bohAl7bpdMpKITf3HIacfRqeJGFw7veQkt14ir/j9F6nMGZwXwBuuv5qpk+fzontM6rlo6KigiVvLeZvjz1CdnY2gwcP5t13lnDRRRfx7rvvMmuW8+h2j8dD27ZtmTVrFpdffnlVId2+ffs6v99BgwZVu0/h0UcfZcGCBQBs3bqVr7/+mt27d3PeeedVbde+fXuKi4u54YYbGD9+PFOnTmXGjBlcf/31MfyitbMAYYwBqLGmr3q4Xz2/YD83zPwYfyCI15PEA+P60Kdr27DC/3B/fGjZ59sO1nlujwj+yiApbvTJzsoiM9WLJ0n4zV//yA9GjWLKLa9QuLWAS354Ab06Z7GjfTrZqV7O7tqWzm3SyMrK4rScbIqLi0lLSaZzdjJd26UjQKfsVNqkp5CZkV4V0FKSvWgwSKwXfy5evJiDBw9y9tlnA3Do0CEyMjK46KKLavzeol1a6vV6CQaDVdtUVFRUrQufsjsvL48lS5awbNkyMjIyGDFiBD6fr8bjdu/enZycHN59911WrFjB7NmzY8xZzeIaIERkLPAI4AGeVtUHI9b/ApgUlpYzgE6quk9ECoBiIABUqmrdo1HGmCP4A0GKfZUU+/wUlVVS5PNTVOanyOenp7eSHQd9ETX8iEI+bIA1K83Lb8b34fNtRZzdtQ2dslPZVeSrGkQNDaqmeJLwJB85qOpsxxHLRYSO2alkZaWyMy2Zzm3S6O7W4CvKSjj9lJNon5nCo3NfRATSU7ykeDyIyFHfx9G7d282bdpEQUEBPXr0YN68eVG3mzNnDk8//TQTJ04EnGcw9OzZk0OHDjF69GiefPLJqi6m0tJSRo8ezYQJE7j99tvp0KED+/bto3379vTo0YP8/Hx++tOf8tprr+H3+6Oe7+DBgxx33HFkZGTwxRdfsHz5cgCGDh3KLbfcwubNm8O6mJygd+ONNzJ58mSuvvpqPJ4ju7DqK24BQkQ8wN+AMUAh8LGILFTV9aFtVPVPwJ/c7S8BblfVfWGHGamqRzfKYswxrqIy6BTuvsqqgj28oC/2hRf61bfZX+qjfPEbNR77qXFd2F3sO3y1jFtgp3qSIgr1w4X/yZ2yuKRf18N9841QSNfmrrvu4tprr+Uvf/kLo0aNavTjp6en88QTTzB27Fg6duzIoEGDjtjm0KFDvPnmm/z973+vWpaZmcnw4cP55z//ySOPPMLNN9/MM888g8fj4cknn2To0KHce++9nH/++Xg8HgYMGMDMmTO56aabGD9+PIMGDWL06NE1Puhn7NixTJs2jb59+3L66aczZMgQADp16sT06dP58Y9/TDAYpHPnzrzyyisAjBs3juuvv75Rupcgjs+kFpGhwP2q+kP38z0Aqvr/atj+ReA9VX3K/VwA5NYnQOTm5qo9MCh2luemUV4ZqKFAr16br/75cI2/zB+o9fieJCE7zUubtGTapLt/3fcH9+ygT6+TaZPmpU26szw79D49mQPbN3PmGWe0qLupGzIXU0lJCVlZWagqt9xyC7169eL222+PUwobXyjPq1at4vbbb2fp0qVRt9uwYQNnnHFGtWUikl9TD008u5i6AlvDPhcCg6NtKCIZwFjg1rDFCrwlIgr8XVWn17DvzcDNADk5OeTl5TUosSUlJQ3e91hleY5NRUA5VKkc8uP+VQ5V4v49vLwscrn73h+s/fgegQwvZCQLGV4hIxnaeYUT2ggZ7YWM5GR3uRyxXYZXSPWET6MQcF/OnDslaX6yPNvAj/MqgjKc106cWUBLSkrq9X00d4FAgOLi4nrt8/jjjzNnzhwqKiro27cv9913X72PkUiBQIAHHniAZ555hqeffrrGtPt8vnr9+49nC+InwA9V9Ub389XAIFW9Lcq2VwCTVfWSsGUnqOp2EekMvA3cpqof1HZOa0HUT2vIs6ri8werauZ5H63k1DPOdj7X0GVT5KukOLTcV0lFZe0lfLJHaJueTHZacrWaelVtPj05eg3e3SY92RO3Gnxdv3G0GuWxzmZzrVlzakEUAt3DPncDttew7ZXAnPAFqrrd/btLRBYAg4BaA4RpeVSd+Wbq6o4JLS+uen94mT8QUQla8XG1jymeJLfLxSnQ26Yn0/249CgF+uGCvW1Y4Z/qTWpRXTTGhMQzQHwM9BKRnsA2nCBwVeRGItIWOB+YHLYsE0hS1WL3/QXAb+KYVhMnqkppRaB6wX5EYR5W4Ecp/APB2lu5aclJVYV1dpqXdhkpnNghM2ptvuCr9QwfPNCp7bvLot2wZIyJY4BQ1UoRuRV4E+cy1xmquk5Eprjrp7mbTgDeUtXSsN1zgAVurcwLvKiqi+OVVlOzYFApqag8XJhHuVImsmZfXF59eR3lO+nJnmrdMR2zUji5U2ZVwZ6dVnOXTXaal1Rv7AV83v6vGHDicUf5rRjTOsT1PghVXQQsilg2LeLzTGBmxLJNQL94pq21CAaV4vLoBfonBX5WL/mq1u6b4vJK6hqmykzxVOuO6ZydxqmdauqLDy/0nb8pXpsSzJjmyO6kTqD8LftZvmkvQ07uwMCTotdqA0GtfoNTLf3v0S6lLKmrgP/ia7JSvdW6Y05ol0bvtOwjauqRhXwoIHg9VsCbhjma6b7BGYRPSUlh2LBhNW4zfvx4du3axbJlyxov4a2EBYgEyd+yn6ueWk5FZZCkJGH4qR1I9iQdUfiX1PGUKCCi8PbS7biMGq+gCR+I/WzVCsaOPt8KeJMwdU33XZe8vDyysrJqDBAHDhzgk08+ISsrq+rO43iobVryY1nLy9Ex4o2131HuXj4ZCCqffnugqmA/sX1G1Jp6tC6bLHe+mob4JkUsOJj627oSCpZCj3Oh+5F3HR+t/Px87rjjDkpKSujYsSMzZ86kS5cuPProo0ybNg2v18uZZ57Jgw8+yLRp0/B4PLzwwgs89thjnHvuudWO9fLLL3PJJZeQk5PD3LlzueeeewDYuHEjU6ZMYffu3Xg8Hl566SVOOeUUHnroIZ5//nmSkpK48MILefDBBxkxYgQPP/wwubm57Nmzh9zcXAoKCpg5cyavv/46Pp+P0tJSFi5cyPjx49m/fz9+v5/f/e53jB8/HoBZs2bx8MMPIyL07duXJ554gr59+/LVV1+RnJxMUVERffv25euvv66aNqM5sACRAFv3HWLBJ9sAZ8rkFG8Sz14/qMZuJmOaxBt3w47Pa9+mvAh2rgUNgiRBzlmQ2qbm7Y8/Gy58sOb1EVSV2267jddee41OnToxb9487r33XmbMmMGDDz7I5s2bSU1N5cCBA7Rr144pU6bU2uqYM2cO9913Hzk5OVx++eVVAWLSpEncfffdTJgwAZ/PRzAY5I033uDVV19lxYoVZGRksG/fvqjHDLds2TLWrFlD+/btqaysZMGCBbRp04Y9e/YwZMgQxo0bx/r16/n9739fbdrv7OxsRowYweuvv86ll17K3Llzueyyy5pVcAALEE3uu4NlXPX0ciqDyp9/0o8dRb5axyCMaVZ8B53gAM5f38HaA0Q9lZeXs3btWsaMGQM4dwh36dIFgL59+zJp0iQuvfRSLr300jqPtXPnTjZu3Mjw4cMREbxeL2vXruWkk05i27ZtTJgwAYC0tDQAlixZwvXXX09GhjNJYCzTc48ZM6ZqO1XlV7/6FR988AFJSUls27aNnTt38u6770ad9vvGG2/koYce4tJLL+XZZ5/lqaeeqs9X1SQsQDShXcU+Jj21ggOlfmbfNJi+3dolOknGHBZLTX/rSnhuHAQqwJMClz3dqN1MqkqfPn2iDii//vrrfPDBByxcuJDf/va3rFu3rtZjzZs3j/3791eNOxQVFTF37lzuuuuuGs9d1/TcPp+v2rrwifZmz57N7t27yc/PJzk5mR49etQ6Pff3v/99CgoKeP/99wkEApx11lm15icRrAO6iewtKWfSUyvYUeRj5g3nWHAwx6bug+DahTDqXudvI49BpKamsnv37qoA4ff7WbduHcFgkK1btzJy5EgeeughDhw4QElJCdnZ2TXOOzRnzhwWL15MQUEBBQUF5OfnM3fuXNq0aUO3bt149dVXAafVcujQIS644AJmzJjBoUOHAKq6mELTcwPMnz+/xrQfPHiQzp07k5yczHvvvceWLVsAGD16NP/4xz/Yu3dvteMCXHPNNUycOLHRZl9tbBYgmsDBQ36ufmYl3+47xDPXnsPAk+puuhrTbHUfBOf+PC4D1ElJScyfP59f/vKX9OvXj/79+/PRRx8RCASYPHkyZ599NgMGDOD222+nXbt2XHLJJSxYsID+/ftXm8G0oKCAb7/9tmqKbICePXvSpk0bVqxYwfPPP8+jjz5K3759GTZsGDt27GDs2LGMGzeO3Nxc+vfvz8MPPwzAnXfeyZNPPsmwYcNqfcbzpEmTWLVqFbm5ucyePZvevXsD0KdPn6ppv/v168cdd9xRbZ/9+/dXPWOi2VHVFvMaOHCgNtR7773X4H1rU1RWoeMe/7f2+tUiff/LXXE5R0PFK8/NWWvLc135Xb9+fdMkpAkVFRUlOgkxe+mll3Ty5MlHfZxY8xzt9wZWaQ1lqo1BxNGhikpumPkx67YdZNrkgZx3WqdEJ8kY00zcdtttvPHGGyxatKjujRPEAkSc+PwBbnxuFflb9vPYxO/xgzNzEp0kY0wz8thjjyU6CXWyMYg4KK8M8J/P57Ns017+/NN+XNS3S6KTZEyNNE7PhDHNS0N+ZwsQjcwfCHLri5/y/le7efDHZzNhQLdEJ8mYGqWlpbF3714LEi2cqrJ3796qez5iZV1MjSgQVG6ft5q31+/kN+P7cMU5JyY6ScbUqlu3bhQWFrJ79+5EJ6XR+Hy+eheEx7pY8pyWlka3bvWrsFqAaCTBoPKL+Z/xrzXf8asf9eaaoT0SnSRj6pScnBy3CewSJS8vjwEDBiQ6GU0qXnm2LqZGoKrc++paXvlkG3eMOY2bzzsl0UkyxpijZgHiKKkqD/xzPXNWfsstI0/htlGnJjpJxhjTKCxAHAVV5Y+Lv2TmRwX8x/Ce3HnB6fbwemNMi2EB4ig88s7XTHv/GyYPOZH/vegMCw7GmBbFAkQDPZn3DX9d8jU/GdiN34w7y4KDMabFsQDRADP+vZk/Lv6Ccf1O4MHL+pLUwCe6GWNMc2YBop5eXPEtv/nXesb2OZ6//LRfgx/3aYwxzZ0FiHqYn1/Iva9+zqjenXl04gB7nrMxpkWzEi5G//xsO3fN/4zvn9KRJyZ9jxSvfXXGmJbNSrkYvLluB1PnrSa3R3umXzOQtGRPopNkjDFxZwGiDu99uYtbX/yEvt3aMuO6c8hIsdlJjDGtgwWIWny4cQ9Tns/n9OOzmXn9ILJSLTgYY1oPCxA1WLl5Hzc+t4oeHTJ5/obBtE1PTnSSjDGmSVmAiGL11gPcMPNjurRL44UbB3NcZkqik2SMMU3OAkSEl1Zt5Yq/LyMzxcOLNw6hU3ZqopNkjDEJYQEiTP6W/dw1fw3llUEOlPnZdqAs0UkyxpiEsQARZvmmvYQevFgZCLJ8096EpscYYxLJAkSYIT3bAyBAsjeJISd3SGyCjDEmgey6zTBnd2sHwPBeHZn6g9MYeNJxCU6RMcYkjrUgwpT5AwCcf1onCw7GmFbPAkSYcjdApKfYVBrGGGMBIkyoBZHmtQBhjDEWIML4/EHAWhDGGAMWIKqpakEk29dijDFxLQlFZKyIfCkiG0Xk7ijrfyEiq93XWhEJiEj7WPaNB19VgLAWhDHGxC1AiIgH+BtwIXAmMFFEzgzfRlX/pKr9VbU/cA/wvqrui2XfeCizAGGMMVXi2YIYBGxU1U2qWgHMBcbXsv1EYE4D920UVVcxWYAwxpi43ijXFdga9rkQGBxtQxHJAMYCtzZg35uBmwFycnLIy8trUGJLSkpYs30dAJ99soqdmS1/HKKkpKTB39exqrXlubXlFyzPjSmeAUKiLNMoywAuAT5U1X313VdVpwPTAXJzc3XEiBH1TKYjLy+Pnp1PhjWfM2L4MI5vm9ag4xxL8vLyaOj3daxqbXlubfkFy3Njimc1uRDoHva5G7C9hm2v5HD3Un33bTRlFXYVkzHGhMSzJPwY6CUiPUUkBScILIzcSETaAucDr9V338bmq7RBamOMCYlbF5OqVorIrcCbgAeYoarrRGSKu36au+kE4C1VLa1r33ilNcRXEUAEUr3WgjDGmLjO5q6ESU4AABgkSURBVKqqi4BFEcumRXyeCcyMZd9481UGSfN6EIk2BGKMMa2LVZXDlFUEbPzBGGNcVhqG8fkDdg+EMca4LECEKfMHbIDaGGNcFiDC+PxBCxDGGOOyABHG57cxCGOMCbHSMIzPH7BnQRhjjMsCRJgyf8CeJmeMMS4LEGF8/gBp1oIwxhjAAkQ1Pn/QWhDGGOOyABHGGYOwr8QYY8ACRDU2BmGMMYdZgHCpql3FZIwxYSxAuCoVgmpTfRtjTIgFCJf7rCALEMYY47IA4aoIOE80tTupjTHHlK0rOXHLfNi6stEPHdfnQRxL/EHnr83maoxpNoIBqCiB8mIoD/0tcv8Ww8618PHT9AxWwnPz4dqF0H1Qo52+zgAhIhcDi1Q12GhnbYbKrYvJGNNYKsuPLMxrfbnbVQWD4sOfYyAAgQooWNq0AQLnedCPiMjLwLOquqHRzt6M+N0uJmtBGNNKBYPVC+iKkhoK+KKw2nwNhXygou7ziQdSsyG1DaRmOe/Tj4N2J4Ytz4YUd134stBrz1cwdxLBynKSPCnQ49xG/UrqDBCqOllE2gATgWdFRIFngTmqWtyoqUmgUAsi1cYgjDm2VFZUK6DbHlgHX/rcwrqW2npkIV8RY3HmTa9eSKdmu4V6VsTyiMI8Jav6suR0ONrHG7frDtcupODdWZw86ppGbT1AjGMQqlrktiDSganABOAXIvKoqj7WqClKEH/QWhDGNJlgEPylYQV0LbX1yG6XatuVQKC82qEHAKyOOJ8kuYV0WIGd1hbadosozGuprYf29zSzodvug/j2pEOc3MjBAWIbg7gEuAE4BXgeGKSqu0QkA9gAtIgAYWMQxsSgsqKWrpd69K2XFwNa9/m8aUfWytt2j+h2qV6Yr/7iG/oPGh5RW884+tp6KxRLKPwJ8H+q+kH4QlU9JCI3xCdZTc+uYjItlipUhNXW69PtEhkIImrr0Un1fvXQq80Jsfeth9Z7U+qd3QM786DrwHrvZ44US4C4D/gu9EFE0oEcVS1Q1XfilrImdvg+CAsQppkI+GuuldfV7eK+H166H94vg1guQvSkHlkrryrUa+hbj+xXD9XWk2wsryWIJUC8BAwL+xxwl50TlxQlSOhOamtBmKOiCv5DDex2iSjkK8tiOKFEqY1nQ/bxkNqGHbsP0u2U3nX3q6dmgTc17l+PObbEEiC8qlp1zZaqVohI/dt9zVyoBWFXMbVSgcpaul5qKcirFfLu8lhq60nJkNamesGddTx06FVDYZ4VvYBPzqy1tr4xL49uI0Y03vdkWpVYAsRuERmnqgsBRGQ8sCe+yWp6FUFnDCvVawHimKEK/rJ69a2ftW0zFDx85HYx1daJMjiaDVmdY+xXD+uOsdq6OQbEEiCmALNF5HGcG/a2AtfENVUJUBFQ0rwexK50iL9goIF96+H966HaeqDu8yV5qwrmNH8SZB7vFOodTqmlX72G69itb920IrHcKPcNMEREsgBpSTfHhasIYM+CqI0qVPrq7levqdsl/OU/FNs5kzOPrK1ndortmvWUiNq6G/hX5eUxwrpcjIlJTHd8iMhFQB8gLVTDVtXfxDFdTa4iCGktsXup2mRf1Qvt47/Lh2Xray7II693D1bWfT7xhPWtt3EK6oyOcFzP+vWtp2RBkgVsYxIplhvlpgEZwEjgaeByoPHnlU2wioCSluJxpswtWOrMaRKHOxOrqelcqtUn+4rpksYablzyl9Z4+t4AX7ofkjOi1NZ7RL9CJtqVMKGXN81uSDKmhYilBTFMVfuKyBpVfUBE/gy8Eu+ENbWKAPTnK3j2HqemLEnQfYgzeVY8lO2HrcudK14kCdr1cPrTq2rr/rqPUW2yL7c2ntEejjsppn71ZZ+uY+j5Y5x1zW36AGNMwsVSKvjcv4dE5ARgL9AzfklKjIqg8j1Zd7gbRYOw7xvI7ByfE5buOnw5pAbBkwwnnFN7Tb2RJ/sqT9sF6e0aKUPGmJYmlgDxTxFpB/wJ+ARnApWn4pqqBKgIwNfZ/aAEQJyukiteiF8309aV8Nw4Z1pgTwqMfzz+XVrGGFMPtQYIEUkC3lHVA8DLIvIvIE1VDzZJ6ppQRQC2Z54Ju4Ge58Go/41vgd19kPP0p6Ya7zDGmHqqNUCoatAdcxjqfi4HYpmt65hTEVSyve419aeObpoCu/sgCwzGmGYrlus63xKRy6SF30FWEYBsjzv+4E1PbGKMMaYZiGUM4g4gE6gUER/O3dSqqm3imrIm5g8oWR53yqlkCxDGGBPLndTZTZGQRCsPQnaSe2mpBQhjjInpRrnzoi2PfIDQsUxV8QcgMynUxZSW2AQZY0wzEEsX0y/C3qcBg4B8YFRdO4rIWOARwAM8raoPRtlmBPBXIBnYo6rnu8sLgGKc509UqmpuDGltkPLKIApkJFkXkzHGhMTSxXRJ+GcR6Q48VNd+IuIB/gaMAQqBj0VkoaquD9umHfAEMFZVvxWRyLvSRqpq3KcWL3efN5oh1sVkjDEhDZmdrhA4K4btBgEbVXWT+8ChucD4iG2uAl5R1W8BVHVXA9Jz1Mr8zuWtGWItCGOMCYllDOIxnLunwQko/YHPYjh2V5xnR4QUAoMjtjkNSBaRPCAbeERVZ7nrFOcSWwX+rqrTa0jfzcDNADk5OeTl5cWQtOp2ljotiL3bNwOw8tPPOfRVi7sX8AglJSUN+r6OZa0tz60tv2B5bkyxjEGsCntfCcxR1Q9j2C/afRMa8dkLDARGA+nAMhFZrqpfAd9X1e1ut9PbIvJFtIFxN3BMB8jNzdWGzPW/4bsiWLqUU7t2hB0waNj5zoR3LVxeK3w2QmvLc2vLL1ieG1MsAWI+4FN1Ht0lIh4RyVDVup76Ugh0D/vcDdgeZZs9qloKlIrIB0A/4CtV3Q5Ot5OILMDpsorLlVM+t4spFRuDMMaYkFjGIN7Bqd2HpANLYtjvY6CXiPQUkRTgSmBhxDavAeeKiFdEMnC6oDaISKaIZAOISCZwAbA2hnM2SFlVgLAxCGOMCYmlBZGmqiWhD6pa4hbmtVLVShG5FXgT5zLXGaq6TkSmuOunqeoGEVkMrAGCOJfCrhWRk4EF7uweXuBFVV1c79zFKHQVU4q6M5vbVBvGGBNTgCgVke+p6icAIjIQKIvl4Kq6CFgUsWxaxOc/4UwlHr5sE05XU5MItSBStNx5wL09PMcYY2IKEFOBl0QkNH7QBbgifklqeqExiJRgufPoTWOMMTHdKPexiPQGTse5MukLVY3heZjHjlALwhsst2k2jDHGVecgtYjcAmSq6lpV/RzIEpH/jn/Smo7PHYPwBnw2QG2MMa5YrmK6yX2iHACquh+4KX5JanqhLiZP0AKEMcaExBIgksIfFuTOsZQSvyQ1PZ8/gABJlRYgjDEmJJZB6jeBf4jINJw7oacAb8Q1VU2srCJAigek0meXuBpjjCuWAPFLnLmO/gtnkPpTnCuZWoyt+w+hCiWlxWS16ZDo5BhjTLNQZxeTqgaB5cAmIBdn3qQNcU5Xk8nfsp8l63dREYRtu/ax3+9JdJKMMaZZqLEFISKn4UyPMRHYC8wDUNWRTZO0prF8014C6swhmKrl7PYJxyU4TcYY0xzU1sX0BbAUuERVNwKIyO1NkqomNOTkDiQJBBXSpYKstu0SnSRjjGkWautiugzYAbwnIk+JyGiiT+F9TBt40nEM7tme7BTokBqk43FtE50kY4xpFmoMEKq6QFWvAHoDecDtQI6IPCkiFzRR+ppE2/QU2qSI3ShnjDFhYhmkLlXV2ap6Mc4zHVYDd8c9ZU1IUZI0CIFyu8zVGGNc9XomtaruU9W/q+qoeCUoEYIKaWIPCzLGmHD1ChAtlSqk2cOCjDGmGgsQgKqSJhYgjDEmnAUInPlDqloQNgZhjDGABQgAgqqkqrUgjDEmnAUInDGIdCl3PiTbA4OMMQYsQABOCyLFupiMMaYaCxCudLuKyRhjqrEAgTsGYQHCGGOqsQABBIOQRmgMwgKEMcaABQjAmWrDLnM1xpjqLEDgTLVhl7kaY0x1FiAAFFLtTmpjjKnGAgRhN8olecGTnOjkGGNMs2ABgtBUGzbVtzHGhLMAQehGOb/dRW2MMWEsQBCa7rvcxh+MMSaMBQic6b5TtMK6mIwxJowFCJwxiFQqrAVhjDFhLEAQNtWGBQhjjKliAQJnqo1UtTEIY4wJZwECp4spBRuDMMaYcBYgcAapU/FbC8IYY8JYgMC5zNXpYrL7IIwxJsQCBGFPlEvOSHRSjDGm2bAAgXuZq5aD11oQxhgTEtcAISJjReRLEdkoInfXsM0IEVktIutE5P367NtYNBhwp9qwMQhjjAnxxuvAIuIB/gaMAQqBj0VkoaquD9umHfAEMFZVvxWRzrHu25hS1O+8sQBhjDFV4tmCGARsVNVNqloBzAXGR2xzFfCKqn4LoKq76rFvo0lWn/PGLnM1xpgqcWtBAF2BrWGfC4HBEducBiSLSB6QDTyiqrNi3BcAEbkZuBkgJyeHvLy8eic0WFYEwJebvuU7X/33P1aVlJQ06Ps6lrW2PLe2/ILluTHFM0BIlGUa5fwDgdFAOrBMRJbHuK+zUHU6MB0gNzdXR4wYUe+ETl/+PPjg9LP6c3rf+u9/rMrLy6Mh39exrLXlubXlFyzPjSmeAaIQ6B72uRuwPco2e1S1FCgVkQ+AfjHu22hS7HnUxhhzhHiOQXwM9BKRniKSAlwJLIzY5jXgXBHxikgGTjfShhj3bTQpWu68sTEIY4ypErcWhKpWisitwJuAB5ihqutEZIq7fpqqbhCRxcAaIAg8raprAaLtG6+0WgvCGGOOFM8uJlR1EbAoYtm0iM9/Av4Uy77xkhpqQdhUG8YYU8XupMa6mIwxJhoLEEAqoRaEBQhjjAmxAEF4F5MFCGOMCbEAAaTaILUxxhzBAgTgDTpTbXyy3ZfglBhjTPPR6gNE/pb9JAV8VGoSVz2bT/6W/YlOkjHGNAutPkAs37SXNCrwkYK/Ulm+aW+ik2SMMc1Cqw8QQ07uQDd2A8o53o0MOblDopNkjDHNQlxvlDsWDEz6mkrPJ3gkyIspfyApaSjObOPGGNO6tfoWBAVLSSLoTB8b8EPB0kSnyBhjmoVWHyDeKu2FkoQqlKuHt0p7JTpJxhjTLLT6Lqbnt+WQHTydU2Q7U/y3k7kthwsSnShjjGkGWn0L4sKzulBEJntpyyd6Ghee1SXRSTLGmGah1QeIqwafSJ8uWaR4k/jDhLO5avCJiU6SMcY0C62+iwmgW9tUig95LDgYY0yYVt+CAECDqNhXYYwx4axUBNAAOBe6GmOMcVmAAGtBGGNMFFYqAgQDFiCMMSaClYoAqlgXkzHGVGcBAqyLyRhjorBSEWyQ2hhjorAAAdaCMMaYKKxUBAsQxhgThZWKAEHrYjLGmEgWIMBaEMYYE4WViuBe5mpfhTHGhLNSEUADqFgXkzHGhLMAAdbFZIwxUVipCKBBbJDaGGOqswABNheTMcZEYaUiuC0I+yqMMSaclYpgg9TGGBOFBQgAVetiMsaYCFYqgnUxGWNMFFYqgjtIbV1MxhgTzgIEWAvCGGOisFIRwFdEp11L4e37Ep0SY4xpNryJTkDCvX0fBHzOF/HhX51lYx5IZIqMMaZZiGsLQkTGisiXIrJRRO6Osn6EiBwUkdXu69dh6wpE5HN3+aq4JXLDQud8EZ+NMaa1i1sLQkQ8wN+AMUAh8LGILFTV9RGbLlXVi2s4zEhV3ROvNAJwxjj48K8obpA4Y1xcT2eMMceKeHYxDQI2quomABGZC4wHIgNEYrndSWX588gYeIV1LxljjCueXUxdga1hnwvdZZGGishnIvKGiPQJW67AWyKSLyI3xzGdMOYBVg6ZZsHBGGPCxLMFEe3GAo34/AlwkqqWiMiPgFeBXu6676vqdhHpDLwtIl+o6gdHnMQJHjcD5OTkkJeX16DElpSUNHjfY5XlueVrbfkFy3NjimeAKAS6h33uBmwP30BVi8LeLxKRJ0Sko6ruUdXt7vJdIrIAp8vqiAChqtOB6QC5ubk6YsSIBiU2Ly+Phu57rLI8t3ytLb9geW5M8exi+hjoJSI9RSQFuBKodomQiBwv4tzCLCKD3PTsFZFMEcl2l2cCFwBr45hWY4wxEeLWglDVShG5FXgT8AAzVHWdiExx108DLgf+S0QqgTLgSlVVEckBFrixwwu8qKqL45VWY4wxR4rrjXKqughYFLFsWtj7x4HHo+y3CegXz7QZY4ypnU21YYwxJipRjbyw6NglIruBLQ3cvSMQ35vymh/Lc8vX2vILluf6OklVO0Vb0aICxNEQkVWqmpvodDQly3PL19ryC5bnxmRdTMYYY6KyAGGMMSYqCxCHTU90AhLA8tzytbb8guW50dgYhDHGmKisBWGMMSYqCxDGGGOiavUBoq6n3rUEItJdRN4TkQ0isk5EfuYuby8ib4vI1+7f4xKd1sYmIh4R+VRE/uV+btF5FpF2IjJfRL5wf++hrSDPt7v/rteKyBwRSWtpeRaRGSKyS0TWhi2rMY8ico9bpn0pIj9s6HlbdYAIe+rdhcCZwEQROTOxqYqLSuDnqnoGMAS4xc3n3cA7qtoLeMf93NL8DNgQ9rml5/kRYLGq9saZrmYDLTjPItIV+B8gV1XPwpn37UpaXp5nAmMjlkXNo/t/+0qgj7vPE25ZV2+tOkAQ9tQ7Va0AQk+9a1FU9TtV/cR9X4xTaHTFyetz7mbPAZcmJoXxISLdgIuAp8MWt9g8i0gb4DzgGQBVrVDVA7TgPLu8QLqIeIEMnMcKtKg8u8/C2RexuKY8jgfmqmq5qm4GNuKUdfXW2gNErE+9azFEpAcwAFgB5Kjqd+AEEaBz4lIWF38F7gKCYctacp5PBnYDz7rdak+70+W32Dyr6jbgYeBb4DvgoKq+RQvOc5ia8tho5VprDxCxPPWuxRCRLOBlYGr4w5paIhG5GNilqvmJTksT8gLfA55U1QFAKcd+10qt3H738UBP4AQgU0QmJzZVCddo5VprDxB1PvWupRCRZJzgMFtVX3EX7xSRLu76LsCuRKUvDr4PjBORApyuw1Ei8gItO8+FQKGqrnA/z8cJGC05zz8ANqvqblX1A68Aw2jZeQ6pKY+NVq619gBR51PvWgL3qX3PABtU9S9hqxYC17rvrwVea+q0xYuq3qOq3VS1B87v+q6qTqZl53kHsFVETncXjQbW04LzjNO1NEREMtx/56Nxxthacp5DasrjQuBKEUkVkZ5AL2Blg86gqq36BfwI+Ar4Brg30emJUx6H4zQx1wCr3dePgA44Vz987f5tn+i0xin/I4B/ue9bdJ6B/sAq97d+FTiuFeT5AeALnMcSPw+ktrQ8A3Nwxlj8OC2E/6gtj8C9bpn2JXBhQ89rU20YY4yJqrV3MRljjKmBBQhjjDFRWYAwxhgTlQUIY4wxUVmAMMYYE5UFCGOiEJHjRWSuiHwjIutFZJGInBa2fnPY/QahZX8VkbtqOWaBiHSMZ7qNaUwWIIyJ4N5wtQDIU9VTVPVM4FdATthmc3FuwAvtkwRcDsxryrQaE08WIIw50kjAr6rTQgtUdbWqLg3bZg5hAQJnFtUCVd0iIq+KSL77jIKbIw8uIj0i5vW/U0Tud9+fIiKL3f2Xikhvd/lP3OcdfCYiHzRudo2JzpvoBBjTDJ0F1DrJn6quEZGgiPRT1c9wgsUcd/UNqrpPRNKBj0XkZVXdG+O5pwNTVPVrERkMPAGMAn4N/FBVt4lIuwblyph6sgBhTMPNwZnzZh3OjKK/dpf/j4hMcN93x5kLp84A4c62Owx4yenlApxpIwA+BGaKyD9wJqQzJu4sQBhzpHU44wnViMjvcR5AhKr2xwkQbwHvA2tUdZeIjMCZYXSoqh4SkTwgLeJQlVTv3g2tTwIOuMeuRlWnuC2Ki4DVItK/Hq0SYxrExiCMOdK7QKqI3BRaICLnAG+pav9QAa6q3+C0DB7kcPdSW2C/Gxx64zziNdJOoLOIdBCRVOBi93hFwGYR+Yl7ThGRfu77U1R1har+GthD9emcjYkLCxDGRFBnBssJwBj3Mtd1wP1En1N/DtAb56ongMWAV0TWAL8Flkc5vh/4Dc5T/f6FMxNpyCTgP0TkM5yWTOgRuH8Skc/dwe0PgM+OKpPGxMBmczXGGBOVtSCMMcZEZQHCGGNMVBYgjDHGRGUBwhhjTFQWIIwxxkRlAcIYY0xUFiCMMcZE9f8BturPHN3S14gAAAAASUVORK5CYII=\n",
=======
      "image/png": "iVBORw0KGgoAAAANSUhEUgAAAY4AAAEWCAYAAABxMXBSAAAABHNCSVQICAgIfAhkiAAAAAlwSFlzAAALEgAACxIB0t1+/AAAADh0RVh0U29mdHdhcmUAbWF0cGxvdGxpYiB2ZXJzaW9uMy4xLjEsIGh0dHA6Ly9tYXRwbG90bGliLm9yZy8QZhcZAAAgAElEQVR4nOzdeXxU1d348c93JjtbEtCgJAIKqEAFISJuNbgg9rFiH9w3xIXS1j61PqVia11o6w/7tNWq1GpVxA1cqIoVtW5xRxBFZRFBBBMJa0IWss7M9/fHvZNMJjPDBDKEJN/36zVm7rnn3nvOjNzvnOXeK6qKMcYYEy9PexfAGGNMx2KBwxhjTKtY4DDGGNMqFjiMMca0igUOY4wxrWKBwxhjTKtY4DAdlogMEBEVkaT2Lotpe+53O6i9y2FassBhGonIiSLygYiUi0ipiLwvIseIyHEisktEekTY5lMRuTbkJP5J2Po+IlIvIhtiHPdWEWkQkSoR2emW4bgEVDHSsR8REZ+IHLwvjteRicgQEXlGRLa7/498LiLXi4g3Qt77ReTRCOlHiUidiGTvm1KbRLDAYQAQkZ7Av4F7gGygH3AbUKeqHwLFwKSwbYYDQ4F5Icnd3PSgi4Fv4ijCU6raHTgAeA/4l4jIHlYnLiLSDadO5cAliTxWhGN3qFaSiBwGfAQUAd9T1V7AeUA+0OIHBfAI8N/uZxzqcuDfqlqawOKaBLPAYYKGAKjqPFX1q2qNqv5HVT9318/F+Ucf6nLgJVXdEZL2GDA5LE+LX57RqGqDe6y+QG8R8YjITSKyUUS2isijItIrfDsROU9EloWl/a+IPB/jcJOAncDMsDIjIl4R+Y2IfC0ilSKyTETy3HXDROQ1t1W2RUR+46Y/IiJ/CNlHgYgUhyxvEJEbRORzYJeIJInIjJBjrBKRH4WV4xoRWR2yfpSITBeRBWH57hGRuyJ8LjNE5NmwtL+JyN3u+ytEZL27/29EJFoAvQ34QFWvV9USAFVdo6oXq+rO8Mzuj43vCPmx4bZMLsb5fhGRMSLyodvKLBGRe0UkJdLBRaRQRK4OWb5CRN4LWT4i5DtZIyLnh6z7gfvZVYrIdyLyqyh1NPFSVXvZC6AnsAPnH/WZQFbY+jygATjEXfbgtELOcZcHAOr+LQK8wJHAGuA0YEOMY98KPO6+TwX+Dyhyl68E1gGHAt2BfwGPhR0zyd2uFDgyZL+fApNiHPcN4E9ADuADRoWsmw58ARwOCDAC6I3z67oE+F8gzV0+1t3mEeAPIfsoAIpDljcAy93PMt1NOw842P08LwB2AQeFrPsOOMYtwyCgP3CQmy/TzZcEbAVGR6hjf6Aa6Okue93yjwW6ARXA4e66g4BhUT6rzcCUVv4/9Vvg9ZDlM4BtQLK7PNotR5L7Xa4GrgvJr8Ag930hcHXIuiuA99z33XD+n5vi7msUsD1YF7e+J7nvs0K/Z3vt2ctaHAYAVa0ATsT5x/pPYJuILBSRHHd9EfA2cKm7yak4J86XwnZVTFOwmEz8rY3zRWQnzglgNHCOm34J8FdVXa+qVcCNwIXhXT2qWgc8FSyfiAzDORn9O9LBROQQYBzwpKpuwQkioa2Oq4Gb1PlVrar6mTotq7OAzar6F1WtVdVKVf0ozjoC3K2qRapa45b7GVXdpKoBVX0KWAuMCSnDn1R1qVuGdaq6UZ1f/O/gBBaACcB2VV0WfjBV3Qh8QtPneQpQraqL3eUAMFxE0lW1RFVXRil3b5wTcGs8BpwsIrnu8uU4n3eDW7ZlqrpYVX2qugG4Hzi5lccA5zvZoKpz3H19AiwAznXXNwBDRaSnqpa5681esMBhGqnqalW9QlVzgeE4v4RDuz9Cu6suI+QkEOZRnF+EFwGPh64QkUvcQfAqEXk5ZNXTqpqpqgeq6ikhJ8GDgY0h+Tbi/KrMiXDcucDF7tjIZe4+66JU9zJgtaoud5efcLdNdpfzgK8jbBctPV5FoQsicrmILHe7a3bifO594jjWXJqC+KU4J+lonsT5LsDpKnoSQFV34bRypgElIvKSiBwRZR87cFokEYnIP0K+19+4+/8WJ8BdKiLdcYLX3JBthojIv0Vks4hUALfTVPfW6A8cG/wM3c/xEpzuTnC6y34AbBSRt2UfTbzozCxwmIhU9UucrpfQge5/Af1EZBzw30RvTSwA/gtY7/7iDd3vE6ra3X2dGUdRNuGcGIIOwelW2hKhzIuBeuAknBNkrJPp5cCh7klrM/BXnJNWsExFwGERtouWDk73UUbIct8IeRpvRy0i/XFad9cCvVU1E1iB0y21u2M9DxzlTkQ4CyfwRfMMUOD+8v8RbuAAUNVXVfV0nKDwpVueSF4nbHJEs0qpTgv5Xm8PWRX8sTEJ+Cbs1/597jEHq2pP4Dc01T1crM+2CHjb/eERfHVX1Z+4ZVuqqhOBA3E+t6ej1cPExwKHARoHF/832K3gDgRfBAS7NIK/UJ8F5gAbVfXjSPty852C09Wyt+YBvxSRge6v1ttxZmD5ouR/FLgX8Knqe5EyuL84D8PpEhrpvobjnFCD3VUPAr8XkcHiOEpEeuN0ffUVketEJFVEeojIse42y4EfiEi2iPQFrttN3brhBJJtbrmm0DxQPwj8SkRGu2UY5AYbVLUW57t4Elji/rqPSFW34YwRzME5ea92j5cjImeLM/OpDqgC/FF2cwtwvIj8n1s33PI8LiKZMeq4AKfldBshrQ1XD5wxliq3pfOTGPtZjjNLK0OcazuuCln3b2CIiFwmIsnu6xgROVJEUtxWbi+3dVwRo44mXu09yGKv/eOFM/32aZzB2F3u3/txB1VD8hXgnOxuCEsf4KYnRdh33IPjEdZ5gJtxflVuw+n6yop2TJwWSQC4Lcbx/gEsiJA+BucEmo0ziHwTzlTiSmApkOvmG44zJlKGM2g8w01PwxlnqQA+B35Jy8Hx08KO+UecQf3tOK2et2k+CDwNZ8yoCqc1cnTIuuCY1G4HrXG65hSYHpJ2kHu8cpzZZYXA0Bj7OByn9bLD3eYznODo3c2xH8E5WR8clv59nBZHFfAuzuy290LWhw6O9wH+434X77v/z7wXVraX3P9HdgBv4vwgSAFecb+rCvd7PLG9/7119Je4H7oxnYKIpOPMMBqlqmvbuzyJ5A7wfwn0VWdygzH7hHVVmc7mJ8DSLhA0PMD1wHwLGmZf61BXrxoTizi3NRGapp52Su6YxBacGWYT2rk4pguyripjjDGtYl1VxhhjWqVLdFX16dNHBwwYsEfb7tq1i27dwu/T1rlZnbsGq3Pnt7f1XbZs2XZVPSA8vUsEjgEDBvDxxxEvOditwsJCCgoK2rZA+zmrc9dgde789ra+IrIxUrp1VRljjGkVCxzGGGNaxQKHMcaYVukSYxzGmPg1NDRQXFxMbW1texelzfXq1YvVq1e3dzH2mXjrm5aWRm5uLsnJybvNCxY4jDFhiouL6dGjBwMGDEAS+/Tefa6yspIePSI96bZziqe+qsqOHTsoLi5m4MCBce3XuqqMMc3U1tbSu3fvThc0TGQiQu/evVvVwrTAYYxpwYJGx7erzsfO2gC76qI9gaBJa79v66oyxphOIqBKgy9ARa2PzRW1qCrl23cxsE83uqW23eneWhzGmP3Gjh07GDlyJCNHjqRv377069evcbm+vj6ufUyZMoU1a9bEzDN79myeeCLWQxNbZ8uWLSQlJfHQQw+12T4jUVXqfX6qahso3VXP5vJaikqr+XprFatLKljxXTlrtlRSUl4TfE4JqhpXq6M1rMVhjNlv9O7dm+XLncfA33rrrXTv3p1f/epXzfIEHybk8UT+3TtnzpzdHudnP/vZ3hc2xFNPPcVxxx3HvHnzuOqqq3a/QRSqis+v1PsD1PsCjX8b3L81dQ14k7yN+QVI9npITvLQPTWJlCQPyV4PqkpJudPiEJE2bW2AtTiMMW1g2cYyZr+1jmUbyxKy/3Xr1jF8+HCmTZvGqFGjKCkpYerUqeTn5zNs2DBmzpzZmPfEE09k+fLl+Hw+MjMzmTFjBiNGjOC4445j27ZtANx0003cddddjflnzJjBmDFjOPzww/nggw8A5z5PkyZNYsSIEVx00UXk5+c3BrVw8+bN46677mL9+vVs3ry5Mf2ll15i1KhRjBgxgvHjx6OqlO4s55JLL2PosOEMHf49Hnz8Kb4q2UnPXpms2FTB6s0V3PvgXK66+mq2VNTy02um8Mebb2TK+T/kwTv/SMnaz7l60gQuP2sc0y74L7xVWzjsgO4c1DOFWbfcyPePHcW444/htQWP8tn7b/K7/7mqMXC8/PLLnH/++Xv9fViLwxgT1W0vrmTVptjPiaqsbeDLzZUEFDwCR/TtQY+06NcDDD24J7f8cFiry7Jq1SrmzJnDP/7xDwBmzZpFdnY2Pp+PcePGce655zJ06NBm25SXl3PyyScza9Ysrr/+eh577DFuueWWFvtWVZYsWcLChQuZOXMmr7zyCvfccw99+/ZlwYIFfPbZZ4waNSpiuTZs2EBZWRmjR49m0qRJzJv/FNN++jOKijfx42nTWPDS6xx4cC7btm1n5aYK/nTbb0nqlsn8V99DVamurCDgdiv16Z5CitfDgT1S6ZWezPCDe9ErPZkdJUW8//ZbeDweysvL+fCD9/F6vbzyyivcdNNNPPXUU9x3331s2rSJzz77DK/XS2lpKV6vl9/ffCM7duygd+/ezJkzhylTprT6sw9ngcMYs1cqan0E3Mf6BNRZjhU49tRhhx3GMccc07g8b948HnroIXw+H5s2bWLVqlUtAkd6ejpnnnkmAKNHj+bNN9+MuO///u//bsyzYcMGAN577z1uuOEGAEaMGMGwYU6w8we0WffR/Q8/yhk//BFfbalkzKln8YffTufUcyfzxhvvMGrsiXTv0xefP0DOgX1I9nr45MN3ePLpZxmS04NkrwevJwufz4dH4KBe6U65U5LwegSPx5ntdN555zV2ze3cuZPLL7+cr7/+ulkdXn/9da677jq8XqcrKzs7m8rKSi6++GKefPJJLrnkEpYtW8a8efP27AsIYYHDGBNVPC2DZRvLuOTBxTT4AiQnefjbhUczun9Wm5cl9Pbga9eu5W9/+xtLliwhMzOTSy+9NOJ1CCkpKY3vvV4vPl/kQeLU1NRmeWob/DT4A5RX11NSXuOMN/gCfL21Es+m8mbbLnjmKcp3lrHgqScRYMvmErRyK317pZKZkcKwg3s1y+8R6JmeQlpy01iFx+Mh9KF64XUJrftvf/tbzjjjDH7605+ybt06JkxwHgIZHM8Id+WVVzJp0iQALrjggsbAsjdsjMMYs1dG98/iiavHcv34w3ni6rEJCRrhKioq6NGjBz179qSkpIRXX3017m0Dqvj8AWob/OzYVUe9P0DJzhrWba1izeZK6n0BvtpSyREj8nli/lNsr6rns8+/YN1XX9IjLYm+vdI4JDuDQQd2h7Jikj2wpWQTxd9upOjbjUyfPp1Fzy/glJO/T+Fbb7Fxo3Nn8tLSUgDGjx/PvffeCzgn+7KyMjweD1lZWaxdu5ZAIMBzzz0Xtfzl5eX069cPgEceeaQxffz48dx33334/f5mx8vLy6NPnz7MmjWLK664Iu7PKRYLHMaYvTa6fxY/GzdonwQNgFGjRjF06FCGDx/ONddcwwknnNBsfYPPT1WtDwU2VzhTVreU17KrQVnxXTmlu+op3VXPd2U1+PxKrc+PR6BHqhevR8jLzuA306+nZuc2LjnzJP419x8MHz6cwXl9ObBHGpkZKWSkJPH0U/P50Y9+1OzYkyZN4sknnyQnJ4f77ruPiRMnMmLECC655BIAbrnlFrZs2cLw4cMZOXIk7777LgB33HEHEyZM4NRTTyU3Nzdq3W+44QamT5/eos4//vGP6du3L0cddRQjRozg6aefblx38cUXM3DgQIYMGbI3H3ujLvHM8fz8fLUHOcXP6tw1RKvz6tWrOfLII/d9geLUbMpqcLpqcOqqP0CDT1Gan9eSvR5SvB5E/XRLT3WWkzykeIVkrydiF4/P58Pn85GWlsbatWsZP348a9euJSmp4/TwB+9VNW3aNI477jgmT54cNW+k711ElqlqfnjejvMJdCVFS2DDuzDgJMgb096lMWafUlV8AW0cfG68psEXoMENGOE/eJPcwJCRnERKupCc5CwHr2vwuIHBOZGmxVWOqqoqTj31VHw+H6rK/fff36GCRtDIkSPJysri7rvvbrN9drxPobMrWgJzzwJfHYgH+p8IWf0htSek9nBeaSHvG9PdvyndIcqFUcbsL3x+d1aSP0C9T92WQlOQCIQHBo8TDNKSPfRMTyLFvegtxQ0YwdlHbSkzM5Nly5a1+X73tWjXnuwNCxz7m2/edYIGgAZg6yrYsRbqKqG+Kr59pIQHl9AgE5ae1rNFAPL6qiEQsABk9pg/0DIYBFsPDf4A/kDzwOCVplZC8Aro0ODgTUBgMHsuoYFDRCYAfwO8wIOqOits/Z3AOHcxAzhQVTPddX7gC3fdt6p6tps+EJgPZAOfAJepanw3sekIJHiyFkhKg4vmNXVXBfxO8KitcAJJ46vCfYWlBfPVVkD5d015dhOATgJ4DycAtWjhBF+9dhOA3PfWAuqUAgENGVMINLtFRoMvgC8sMHhEGruOuqUmuS0FaexK8nrE7sjbgSQscIiIF5gNnA4UA0tFZKGqrgrmUdVfhuT/OXB0yC5qVHVkhF3fAdypqvNF5B/AVcB9iajDPldfDR8/BFkDYOSlcOjJzcc4PF5I6+W89kYwAAWDSrMAVMm6VZ8yKPfAZmnUVoQEIDe9NS2giN1ssVpBYWkpPSwA7UMBbRpjaBpr0Mbg4PMHmuUXNzAke4X09OTGFkOw1ZBkgaFTSWSLYwywTlXXA4jIfGAisCpK/ouAlvcCCCHO/3mnABe7SXOBW+ksgePdv0B5EVyxCAacsPv8eyo0AEWIQcWV/RkUzwyj0ADULAi1DEbN0poFoEqor4yv3Ck9orRyogSg1J4tA5UFIMDpStpRE2Dx+h0UlVZTXFZDUZnz9ycj0vB9V95sXpIgJLsthJ6pSU4XUkhwSPJaYOhKEhk4+gFFIcvFwLGRMopIf2AgEHo/gDQR+RjwAbNU9XmgN7BTVYOXfxa7x4m0z6nAVICcnBwKCwv3qBJVVVV7vG1rpFdv4pild7E1p4AvNzTAhsQfM5q9q3MSTi9itrMoQJr7ikb9eP21JPmq8fprSPJVu++rm6V5/btI8tU46dXVeCu/I8kXkuaviauEPm86fm8GvqTg3wyGkELJl/eEpHXD703Hl5TRmLd5WhrI3l+BmygBVcrrlO01yrYaZXtNwHlf7fwtrVX8Cry9GHC+pqw0oU+6kCQ59EoVkjxCkgfnJcGH/Sjgd15+57dDWz6ZfMeOHZx99tmAc6tyr9dLnz59AHjrrbeaXQkey2OPPcb48ePJyclplu73+6msrKS+vp5BgwZxzTXX8Lvf/a4Na7B/CdY3HrW1tXH/u09k4Ij08yPaRSMXAs+qqj8k7RBV3SQihwJvisgXQKS7rUXcp6o+ADwAznUcezpHf5/M71eFxydBSgZ9L32Avj1ydr9NAnXYaxoCAaf1Em2sx30l1VWSVFdOakjartJNdPMVt7IF1D2OyQYRZr6FtoJSujstwFZSVUp31Te2FIpKayguq6aozPlbXFZLva95d1Kf7qnkZnVnbF4GeVnpVG8r4tSxI8nLyuCgzDRS3dt1r169mkMO2Mvu0D3Uo0cPPv/8cyD6bdXj8eSTT3L88cczaNCgZunB6xoWLlzIsGHDeP755/nTn/7UJmWPxOfztesU3tY8Yz0tLY2jjz569xlJbOAoBvJClnOBTVHyXgg0u0G+qm5y/64XkUKc8Y8FQKaIJLmtjlj77Di+/Dd8/Qac8f+gnYNGh+bx7PEY0NLQYBkIuF1wEbrcdjcxobKkKc/eBKDUHtQn9aBC09jpT2NHQwpb6lP5riaJol1eNlR52d6QSqVmUEU6u0ijZ0YqeVkZHJ7Tg9OOzCE3K528rAzystPpl5lBekrzAFVYuJmTBh/Q6s8qon1w7dHcuXOZPXs29fX1HH/88dx7770EAgGmTJnC8uXLUVWmTp1KTk4Oy5cv54ILLiA9PZ0lS5a0aKnMmzeP66+/njvvvJOlS5c23jzxo48+4rrrrqO6upq0tLTGVs706dN57bXX8Hg8TJs2jZ/+9Kfk5uayYsUKMjMzWbx4MTfddBOvv/46N910E9u2bWP9+vX07duXW2+9lSuuuIKqqio8Hg9///vfOfZYp/Pl9ttvZ968eXg8Hs466ywuv/xyLrvsMpYsWQI4QXzy5MmNy/uLRAaOpcBgdxbUdzjB4eLwTCJyOJAFfBiSlgVUq2qdiPQBTgD+pKoqIm8B5+LMrJoMvJDAOiRefTW8ciMcOAzGTG3v0hhwA5A7PrI3GgNQ5LGeul07qdxZSnVlGbVV5fhqytHSCjz1m0j27yJDq+lBDYOkhkHh+/YAqWFpSd2hvgfs7Ak1PWB7jLGe1J5k79gA36Y3by2ldG++z5dnwOYviKmuArascKaPiwdyhjvHjKbv9+DMWdHXR7BixQqee+45PvjgA5KSkpg6dSrz58/nsMMOY/v27XzxhVPGnTt3kpmZyT333MO9997LyJEt59fs2rWLt99+mzlz5rB582bmzZvHMcccQ21tLRdeeCELFixg1KhRlJeXk5qayt///vcWtyvfnU8//ZR33nmHtLQ0qquree2110hLS+PLL79k8uTJfPTRR7z44ou8/PLLLFmyhPT0dEpLS8nOziYtLY0VK1YwfPjwNrsNeltLWOBQVZ+IXAu8ijMd92FVXSkiM4GPVXWhm/UiYL42vxT0SOB+EQng/BOZFTIb6wZgvoj8AfgUSOyzGhMtOCA+5WXw2mU1nUmtX/mu0kNRaTLFZRkUlUFxWRLFpWkUlXWndFdv4LDG/GnJHnKzMsg7MN35m+3+zUwjr3uAXp4apK6qZSsn1sSEypLm+UJ6do+CpgnvoSY8C5v9TgCtKYOGGrfjWaBxADzkfU2ZEzTA+Vtb7gSiiL3Ve+b1119n6dKl5Oc7d7+oqakhLy+PM844gzVr1vCLX/yCH/zgB4wfP363+1q4cCGnn346aWlpnHfeeeTn5/PnP//Z6aI75JDG52706tWr8djhtyvfnYkTJ5KW5gzs1dXVce211/LZZ5+RlJTUeDv0119/nSuvvJL09PRm+73qqquYM2cOd9xxB8888wyffvppaz6qfSKhZypVXQQsCku7OWz51gjbfQB8L8o+1+PM2Or4tq+DD+6Goy6A/se3d2lMKzX4A5TsrHVnIznjDMGZSUWl1WytrGuWP9kr9MtMJy87gzMO7ukGh4zGLqU+3VMSOzOpWQuokk8+fJtRww4L63qrhJRuTusj4IeTpzvbqTsSru77UFtWwr+vh0ADeJLh5F9DzjCn9SFeJwCJt/n78uLmyx53vXia3mvAGf/DGdO58sor+f3vf9+iWp9//jkvv/wyd999NwsWLOCBBx6I+THMmzePjz76iAEDBgCwdetW3nnnHXr27Bnx8492u/KkpCQCASdgxroN+l/+8hfy8vJ4/PHHaWhooHv37jH3e95553H77bdzwgkncNxxx5GZmRmzPu3BfuK2F1V4+dfORX6nt/zHYNqfP6Bsce+sGhx0Dg5CF5fVUFJeQ+h1bsEH8eRlp3PykAOatxqy08npkZaQW2PELawLrqLXZhhU0DLf6tWQeUj0/ag6J/WA3wkifYZAz36w8X3IHQMHj3QDTWjAcZd9DdEDULiqLaCVUPIZp43sz7nX3M0vLvkv+vTpw46d5eyqqSM9oxtpaRmcd+b3Gdg3i2m/mA61FfTolkFl2Xbw1YcELqGsrIyPPvqI4uJikpOdh03985//ZN68edx9991s3LiRTz75hFGjRlFRUUG3bt0ab1d+0kknNXZVZWdnM2DAAJYtW8bpp5/OggULolajvLycQYMGISLMnTu38T5b48eP54477mgciwnuNyMjg1NOOYVrr72WuXPnxv6M2okFjvYSHBCfMMsGxNuJqrKtso6isho+3ORj5Vvr3CDhBIZNO2to8DdFBhHI6ZFGblY6YwZmN7YUcrOdv317pZHs7QLXiIg0tRKCDhvnvFojPACFvg/43QkD6ZDRh+8dncUtv/4Fp503hYA/QHJyEv+443d4Rbjqf29p/PV+x2//B0q/ZsqPTuXqq68mPS2VJS89RkpKMoiHV55+jtNPGkPyzvWNLZ5zCkbz29/cyL23/5Z5D83mJz++htq6OtLT0nnz1Zf48ZWXs3bNlxx11FEkJSXxk5/8hGnTpnHrrbdyzTXX0LdvX8aMid4Jcu2113Luuecyb948TjvttMaHRp111ll89tln5Ofnk5yczA9/+MPGFtUll1zCokWLOPXUU1v99ewLdlv13UjI1NT6XTD7WOcfxo/f2e/GNjrsdNwwqkpZdUNYN1LzVkNdiymrKfTLcqarhnYj5Wal0y8rvXHKamfQUW+r3kIwAIV2p4W2crTpfX19LSleT4QWURwtoKBYXXCeKMuhXXAhLaBoZs2aRV1dXcTno7dGa6bj2m3V93c2IN5mKmobmq58dv+GBodd9c1PBr3Sk8nLTmfwgT045YgDG7uRStat5Efjv09Gin0fHU6wBYTXmYYTQ11lJSnRTqTNAlCEbjb1t00XXGO5IwegH148laLvSnjzxWec7rqIASgkEEULQPW7SKkrg1SPM27Vhuxfyb62fR28fzccdaENiMehut7XLBiE3x6jvKahWf5uKV7ysp1gcNxhvZu3GrLT6ZmWHPE4hZtXW9Do6loRgGLaywD04iN3udvXQUUcl6kFA1BoMEGhvooUgO2l0GdwmwYP+5eyL6nCy9MhOR1On9nepdkv1Pn8fFdW02LwuaishuLSanbsan7j49QkjxMIsjM4+pBMtxvJCRR5WRlkZiTbPZPaQLQZPyYO+0MA8jsz+pxvUJtmy0U9VOuGLCxw7EurX4Sv34QJd3SZAfEGf4DN5bXNWgqh77dUtJyyenCmEwROH1dBuHQAACAASURBVJrT2GIIBocDuqfaCS3B0tLS2LFjB71797bPuj3tTQCq3wXb16EEEDzudTWRqSo7duxovO4kHhY49pX6Xc4V4jnD4Zir27s0bcYfULZW1kboRnJaD5sraps9tCc4ZTU3K52TBh/QbPA5LzuDnJ5p9tCedpabm0txcTHbtm1r76K0udra2ladIDs0n+KrrSYprRuUfxsza1paGrm5uXHv2gLHvvLuX6CiGCb9s0MNiKsq26rqog4+fxc2ZRUgp2cquVkZHDMgq1k3Uq57M70uMWW1A0tOTmbgwIHtXYyEKCwsjPtGfp1BYWEhBcdEeqzR3uk4Z7COLDggPuKi/W5AXFXZWd3QrBvpo1V1PPLNksYgUdvQfMpq724p5GalM6xfLyYMP6ixtZCblU6/zHTSkjvPlFVjTEsWOBJtPxgQr6xtaHHb7dBrGarqfM3yZyTBwAPrOOyAbhQMOaAxMORlZ9AvM51uqfa/jTFdmZ0BEm31wqYB8e4HJuQQNfV+Nyg0v54huLyzuvmU1YwUb+O4wthDezcbfM7NyuDTj96noOCkhJTVGNPxWeBIpPpd8MpvWj0gvmxjGYvX72Dsob0Z3T+LOp+fTTsjz0wqLqtme1XzKaspwSmrWRmMyM1sdi1DXnYGWTZl1RizFyxwJNI7f3YHxB+Me0B82cYyLv7nYup8AUQgKz2Fspp6QqdZJ3ncKavZ6Zx6RI4z+NzsLqup7XszPWNMp2aBI1G2r4UP7nEHxI+La5M6n58//2dN4/2TVOGgzDQuO65/U2DIzqCvTVk1xrSjhAYOEZkA/A3n8pUHVXVW2Po7geAtNTOAA1U1U0RGAvcBPQE/8EdVfcrd5hHgZKDc3e4KVV2eyHq0WvCW6a0YEF+6oZQZCz7n62278IhzxWdykoeZE4czun9WYstrjDGtkLDAISJeYDZwOs7zx5eKyMKQJ/mhqr8Myf9znOeKA1QDl6vqWhE5GFgmIq+q6k53/XRVfTZRZd9rwQHxM/+02wHxitoGZr38JU9+9C39MtN5ZMox9EhLbjbGYYwx+5NEtjjGAOvcJ/YhIvOBicCqKPkvAm4BUNWvgomquklEtgIHADujbLv/CL1CPP+qmFlfWVHCzS+sZHtVHVefOJDrxw9pvNGeBQxjzP4qYc/jEJFzgQmqerW7fBlwrKpeGyFvf2AxkKva/J7EIjIGmAsMU9WA21V1HFAHvAHMUNW6sF0iIlOBqQA5OTmj58+fv0f1qKqqanzUYzwGrn+U/t8u4NOR/4/yzKER85TVBnhsVT2fbPVzSA8PU4anMLDX/nPRXGvr3BlYnbuGrlbnva3vuHHjIj6PA1VNyAs4D2dcI7h8GXBPlLw3RFoHHASsAcaGpQmQihNQbt5dWUaPHq176q233oo/87avVG/rrfqvaRFX+/0BffTDDTr85ld0yG8X6X2F67Te59/jsiVKq+rcSVidu4auVue9rS/wsUY4pyayq6oYyAtZzgWi3Vz+QuBnoQki0hN4CbhJVRcH01W1xH1bJyJzgF+1WYn3hiosmg7JGXD6bS1Wr91SyY3/+oKPN5ZxwqDe3P6j79G/d9s+XMUYY/aFRAaOpcBgERkIfIcTHC4OzyQihwNZwIchaSnAc8CjqvpMWP6DVLVEnCvYzgFWJK4KrbDqBVj/VosB8Tqfn7+/9TV/L1xHt9Qk/nzeCCaN6mcX4BljOqyEBQ5V9YnItcCrONNxH1bVlSIyE6f5s9DNehEw320WBZ0PfB/oLSJXuGnBabdPiMgBON1Vy4FpiapD3Op3wau/gZzvNRsQX7qhlBv/9QXrtlYxceTB/O6sofTpntqOBTXGmL2X0Os4VHURsCgs7eaw5VsjbPc48HiUfZ7ShkVsG+/8H1R8B+c+DN4kKmobuOPlL3nCnWI7Z8oxjDs8MfepMsaYfc2uHN9b276CD+6FkZfAIWN5ZcVmblm4gm2VdVx14kCuP32I3U3WGNOp2BltbzTeMj2DrWNv5HePfcyrK7dw5EE9eeCyfEbkZbZ3CY0xps1Z4Ngbq16A9YUsOfJGrrpvFfX+ADdMOIKrTxpoT7kzxnRaFjj2VF0VDYtmUJx0KBd9OpSxg3rZFFtjTJdggWMP1Pn8fP7YjRyzq4Rb5Q/MOvdozh2da1NsjTFdggWOVvp4Qymzn3mZ+6ueYHGvCfxl6lSbYmuM6VIscMTp3bXb+Mt/1rC8aCfPZNyPpGQwduq9YEHDGNPFWOCIw7KNZVwxZyn+gHKWdwnHBD6DCX+G7ge0d9GMMWafs6k/cVi8fgf+gJJBLb9Neoxt3Q+H/Cvbu1jGGNMuLHDEYeyhvfEI/DzpOQ6SUnZ8/3bw7D+3QTfGmH3JAkccRvfP4pqsT5ia9G925p7CEWNOa+8iGWNMu7HAEY+iJfy6+q94UDI3fwBFS9q7RMYY024scMRjw7t4CCAA/gbY8G57l8gYY9qNBY545I4BcEKHNwUGnNTOBTLGmPZjgSMeKd0Q4LNep8LkhZA3pr1LZIwx7cYCRzy2rATg3X7XWNAwxnR5CQ0cIjJBRNaIyDoRmRFh/Z0istx9fSUiO0PWTRaRte5rckj6aBH5wt3n3bIvbhC1ZSXVmkp199yEH8oYY/Z3CbtyXES8wGzgdKAYWCoiC1V1VTCPqv4yJP/PgaPd99nALUA+oMAyd9sy4D5gKrAY5+mCE4CXE1UPAN2ygq80l5TklEQexhhjOoREtjjGAOtUdb2q1gPzgYkx8l8EzHPfnwG8pqqlbrB4DZggIgcBPVX1Q/cZ5Y8C5ySuCjgPa9qyklWBQ0hLtp49Y4xJ5L2q+gFFIcvFwLGRMopIf2Ag8GaMbfu5r+II6ZH2ORWnZUJOTg6FhYWtrgBAQ1kxUlPKl3oIDRu+obCwePcbdXBVVVV7/Hl1VFbnrqGr1TlR9U1k4Ig09qBR8l4IPKuq/t1sG/c+VfUB4AGA/Px8LSgoiFnYaD5f8FcAvgwcwsQjh1BwbP892k9HUlhYyJ5+Xh2V1blr6Gp1TlR9E9n3UgzkhSznApui5L2Qpm6qWNsWu+/j2Web6LZrAwBfah5pSXZ/KmOMSWTgWAoMFpGBIpKCExwWhmcSkcOBLODDkORXgfEikiUiWcB44FVVLQEqRWSsO5vqcuCFBNaB7lUbaOh+MBV0J9XGOIwxJnGBQ1V9wLU4QWA18LSqrhSRmSJydkjWi4D57mB3cNtS4Pc4wWcpMNNNA/gJ8CCwDviaBM+o6rZrAzVZRwBYi8MYY0jwg5xUdRHOlNnQtJvDlm+Nsu3DwMMR0j8GhrddKWPw1ZFRXczmQ/8LwFocxhiDXTke24p/4VE/9SQDkJZsLQ5jjLHAEU3REnjx5wDkrbyPUfKVdVUZYwwWOKLb8C74fQBIwMdYz2rrqjLGGCxwRDfgJPA4Q0DqSWZx4EhrcRhjDBY4ossbA8f+GIC3R/6FT3SI3XLEGGOwwBFb1gAASroPBSDVWhzGGGOBIx61DQHApuMaYwxY4IjNvSax3ufcQis1yT4uY4yxM2FMTuCo8ympSR72xTOjjDFmf2eBIxa3xVHrC9jFf8YY47LAEZMbOBrUuqmMMca127Oh+wjYLq3Oby0OY4wJiudn9DoR+T8RGZrw0uxv3K6quoaAXcNhjDGueM6GRwFfAQ+KyGIRmSoiPRNcrv2E21XlD9g1HMYY49pt4FDVSlX9p6oeD/wauAUoEZG5IjIo4SVsT9o0xmEtDmOMccQ1xiEiZ4vIc8DfgL8AhwIvEvasjc6q1mctDmOMCYrnZ/RaYCLwf6p6tKr+VVW3qOqzwCuxNhSRCSKyRkTWiciMKHnOF5FVIrJSRJ5008aJyPKQV62InOOue0REvglZN7J1VW6N4HUcNsZhjDFB8TwB8ChVrYq0QlX/J9pG7mys2cDpQDGwVEQWquqqkDyDgRuBE1S1TEQOdPf7FjDSzZON85jY/4TsfrobuBKr8ToOP6k2q8oYY4D4AodPRH4GDAPSgomqeuVuthsDrFPV9QAiMh+n5bIqJM81wGxVLXP3uTXCfs4FXlbV6jjK2saCs6rsOg5jjAmKJ3A8BnwJnAHMBC4BVsexXT+gKGS5GDg2LM8QABF5H/ACt6pqePfXhcBfw9L+KCI3A28AM1S1LvzgIjIVmAqQk5NDYWFhHEVuLu/brzkMqKyppXTblj3aR0dUVVXVZeoaZHXuGrpanRNV33gCxyBVPU9EJqrqXHcc4tU4tot0YyeNcPzBQAGQC7wrIsNVdSeAiBwEfC/seDcCm4EU4AHgBpyA1vxAqg+468nPz9eCgoI4ihzmveWwHgKSxMBDcikoGNb6fXRAhYWF7NHn1YFZnbuGrlbnRNU3nv6XBvfvThEZDvQCBsSxXTGQF7KcC2yKkOcFVW1Q1W+ANTiBJOh84DlVDZYBVS1RRx0wB6dLLEHsXlXGGBMunsDxgIhkATcBC3HGKO6IY7ulwGARGSgiKThdTgvD8jwPjAMQkT44XVfrQ9ZfBMwL3cBthSDOrWrPAVbEUZY9E7ytuh97bKwxxrhidlWJiAeocAev38G5fiMuquoTkWtxupm8wMOqulJEZgIfq+pCd914EVkF+HFmS+1wjz0Ap8XydtiunxCRA3C6wpYD0+ItU+s19azZQ5yMMcYRM3CoasA9+T+9JztX1UWEXSSoqjeHvFfgevcVvu0GnAH28PRT9qQseyvNZlUZYwwQX1fVayLyKxHJE5Hs4CvhJdsfuF1VitgYhzHGuOKZVRW8XuNnIWlKK7qtOq6mwGFdVcYY49ht4FDVgfuiIPslbfpjg+PGGOPYbeAQkcsjpavqo21fnP2TtTiMMaZJPF1Vx4S8TwNOBT4BukDgaJpVZS0OY4xxxNNV9fPQZRHphXMbks5PQ8c4LHAYYwzEN6sqXDXNr+7uxLTxv3aTQ2OMccQzxvEiTX02HmAoe3hdR0dl03GNMaZJPGMcfw557wM2qmpxgsqzf9GQMQ4bHDfGGCC+wPEtUKKqtQAiki4iA9wruzu5YOAQe3SsMca44vkZ/QwQCFn2u2mdn7U4jDGmhXjOhkmqWh9ccN+nJK5I+xMl4D5WxFocxhjjiCdwbBORs4MLIjIR2J64Iu1/PALJ3kjPpTLGmK4nnjGOaTi3Mr/XXS4GIl5N3um4XVVpyV6cx38YY4yJ5wLAr4GxItIdEFWtTHyx9hfqXPxn13AYY0yj3Z4RReR2EclU1SpVrRSRLBH5Qzw7F5EJIrJGRNaJyIwoec4XkVUistJ9nnkw3S8iy93XwpD0gSLykYisFZGn3KcLJoaqXcNhjDFh4vkpfaaq7gwuuE8D/MHuNhIRLzAbOBPnosGLRGRoWJ7BwI3ACao6DLguZHWNqo50X2eHpN8B3Kmqg4Ey4Ko46rBXrMVhjDFN4jkjekUkNbggIulAaoz8QWOAdaq63p2JNR+YGJbnGmC2G4xQ1a2xdug+Z/wU4Fk3aS7Oc8cTRJ1bqluLwxhjGsUTOB4H3hCRq0TkKuA1nBP27vQDikKWi2n5KNghwBAReV9EFovIhJB1aSLysZseDA69gZ2q6ouxz7ajCnaDQ2OMaSaewfE/icjnwGmAAK8A/ePYd6RpSBq2nIRzw8QCIBd4V0SGu11jh6jqJhE5FHhTRL4AKuLYp3NwkanAVICcnBwKCwvjKHJzh377LX0Raqsq9mj7jqqqqqpL1Reszl1FV6tzouobz3RcgM04V4+fD3wDLIhjm2IgL2Q5F9gUIc9iVW0AvhGRNTiBZKmqbgJQ1fUiUggc7R43U0SS3FZHpH3ibvcA8ABAfn6+FhQUxFHkMA1vUlcEOQf0pqBgTOu376AKCwvZo8+rA7M6dw1drc6Jqm/UrioRGSIiN4vIauBenG4nUdVxqnpvtO1CLAUGu7OgUoALgYVheZ4HxrnH64PTdbXenbmVGpJ+ArBKVRV4CzjX3X4y8EKcdW294HUcNjhujDGNYp0Rv8R52t8PVfVEVb0H5z5VcXFbBNcCrwKrgadVdaWIzAy5Ev1VYIeIrMIJCNNVdQdwJPCxiHzmps9S1VXuNjcA14vIOpwxj4fiLVPrqT3EyRhjwsTqqpqE00p4S0RewZkV1arLp1V1EbAoLO3mkPcKXO++QvN8AHwvyj7X48zYSrzgdRzW4jDGmEZRz4iq+pyqXgAcARQCvwRyROQ+ERm/j8rX7lQh1e6Ma4wxjXZ7RlTVXar6hKqehTMYvRyIeBV4Z6RAmt0Z1xhjGrXqp7Sqlqrq/ap6SqIKtD9RDdgtR4wxJoz1wcQQULvJoTHGhLMzYgx+f8BuOWKMMWEscMTgDzi3HLHHxhpjTBM7I8bgCziXrdhjY40xpokFjhj8fufuuDYd1xhjmtgZMQZ/IOAOjluLwxhjgixwxOAPBJ8AaB+TMcYE2RkxBn8gANisKmOMCWWBI4bgdFy7jsMYY5rYGTGG4BiHtTiMMaaJBY4YdlbXowjrtla2d1GMMWa/YYEjimUby1j5XTkAv3rmc5ZtLGvnEhljzP7BAkcUi9fvQNW5jsPnD7B4/Y72LpIxxuwXEho4RGSCiKwRkXUiEvFW7CJyvoisEpGVIvKkmzZSRD500z4XkQtC8j8iIt+IyHL3NTIRZR97aG88AiAkeT2MPbR3Ig5jjDEdTqwnAO4VEfECs4HTgWJgqYgsDHkELCIyGLgROEFVy0TkQHdVNXC5qq4VkYOBZSLyqqrudNdPV9VnE1V2gNH9s5C+3dGtwn2XjmJ0/6xEHs4YYzqMRLY4xgDrVHW9qtbjPHp2Yliea4DZqloGoKpb3b9fqepa9/0mYCtwQALLGlH3lCQUGJGbua8PbYwx+62EtTiAfkBRyHIxcGxYniEAIvI+4AVuVdVXQjOIyBggBfg6JPmPInIz8AYwQ1Xrwg8uIlOBqQA5OTkUFha2ugLdynfSC/jggw/okdKqx613aFVVVXv0eXVkVueuoavVOVH1TWTgiHSm1QjHHwwU4DyW9l0RGR7skhKRg4DHgMmqGnC3uRHYjBNMHgBuAGa2OJDqA+568vPztaCgoNUV+OqrR9BK4cQTTiCrW0qrt++oCgsL2ZPPqyOzOncNXa3OiapvIruqioG8kOVcYFOEPC+oaoOqfgOswQkkiEhP4CXgJlVdHNxAVUvUUQfMwekSSxDnXlXSdRobxhizW4kMHEuBwSIyUERSgAuBhWF5ngfGAYhIH5yuq/Vu/ueAR1X1mdAN3FYIIiLAOcCKRFVA3ZdEbDwZY0zXlLCuKlX1ici1wKs44xcPq+pKEZkJfKyqC91140VkFeDHmS21Q0QuBb4P9BaRK9xdXqGqy4EnROQAnK6w5cC0RNUBdXvWLG4YY0yjRI5xoKqLgEVhaTeHvFfgevcVmudx4PEo+zyl7UsamVhXlTHGtGBXjseiTuDwWOQwxphGFjhiCE4Bs7BhjDFNLHDE5IQOa3AYY0wTCxyxqKIqNqvKGGNCWOCIybk7rrU4jDGmiQWOWNzBcWOMMU0scMTBWhzGGNPEAkcsbovDxjiMMaaJBY6YbIzDGGPCWeCIKdjiMMYYE2SBIxbFrhw3xpgwFjhisgsAjTEmnAWOWDQYOCxyGGNMkAWOmOw6DmOMCWeBYzcscBhjTHMWOGLR8EekG2OMSWjgEJEJIrJGRNaJyIwoec4XkVUislJEngxJnywia93X5JD00SLyhbvPuyWhAxCKhQ5jjGkuYYFDRLzAbOBMYChwkYgMDcszGLgROEFVhwHXuenZwC3AscAY4BYRyXI3uw+YCgx2XxMSVYfeu9bRn83w2i2JOoQxxnQ4iWxxjAHWqep6Va0H5gMTw/JcA8xW1TIAVd3qpp8BvKaqpe6614AJInIQ0FNVP3QfO/socE5CSv/aLfSuKyJF/PD+XRY8jDHGlchnjvcDikKWi3FaEKGGAIjI+4AXuFVVX4mybT/3VRwhvQURmYrTMiEnJ4fCwsJWFX7MsqdIx7mGQ4GaZU+xJHlcq/bRUVVVVbX68+rorM5dQ1erc6Lqm8jAEWnsIXzIIAmnu6kAyAXeFZHhMbaNZ59OouoDwAMA+fn5WlBQEFehGzVcgL5/F6pO8MgYfQGt3kcHVVhY2GXqGmR17hq6Wp0TVd9EdlUVA3khy7nApgh5XlDVBlX9BliDE0iibVvsvo+1z7Zx+m182PcyNmgOnHAdnH5bQg5jjDEdTSIDx1JgsIgMFJEU4EJgYVie54FxACLSB6fraj3wKjBeRLLcQfHxwKuqWgJUishYdzbV5cALiarAW3k/5Qz/nRY0jDEmRMK6qlTVJyLX4gQBL/Cwqq4UkZnAx6q6kKYAsQrwA9NVdQeAiPweJ/gAzFTVUvf9T4BHgHTgZfeVoDpE7hszxpiuLJFjHKjqImBRWNrNIe8VuN59hW/7MPBwhPSPgeFtXtgIog2qGGNMV2ZXjsdgF44bY0xLFjhiUNRuqW6MMWEscMRgLQ5jjGnJAsduWIPDGGOas8ARg6p1VRljTDgLHDFYT5UxxrRkgSMGVfuAjDEmnJ0XYwjYFYDGGNOCBY4Y7AJAY4xpyQJHDM50XAsdxhgTygJHTDaryhhjwlngiMGGOIwxpiULHDHYlePGGNOSBY4YFLUWhzHGhLHAEUPwsbHGGGOaWOCIwXqqjDGmpYQGDhGZICJrRGSdiMyIsP4KEdkmIsvd19Vu+riQtOUiUisi57jrHhGRb0LWjUxU+W1w3BhjWkrYEwBFxAvMBk4HioGlIrJQVVeFZX1KVa8NTVDVt4CR7n6ygXXAf0KyTFfVZxNV9sZy2HRcY4xpIZEtjjHAOlVdr6r1wHxg4h7s51zgZVWtbtPSxcFaHMYY01IinzneDygKWS4Gjo2Qb5KIfB/4CvilqhaFrb8Q+GtY2h9F5GbgDWCGqtaF71REpgJTAXJycigsLGx1BTZvrkU1sEfbdmRVVVVW5y7A6tz5Jaq+iQwckX6sh483vwjMU9U6EZkGzAVOadyByEHA94BXQ7a5EdgMpAAPADcAM1scSPUBdz35+flaUFDQ6go8t/lTvi4vYU+27cgKCwutzl2A1bnzS1R9E9lVVQzkhSznAptCM6jqjpDWwj+B0WH7OB94TlUbQrYpUUcdMAenSywhrKvKGGNaSmTgWAoMFpGBIpKC0+W0MDSD26IIOhtYHbaPi4B5kbYREQHOAVa0cbkb2XRcY4xpKWFdVarqE5FrcbqZvMDDqrpSRGYCH6vqQuB/RORswAeUAlcEtxeRATgtlrfDdv2EiByA0xhYDkxLYB2sxWGMMWESOcaBqi4CFoWl3Rzy/kacMYtI227AGWAPTz+lZe7EsLuqG2NMS3bleCw2xmGMMS1Y4IjBbnJojDEtWeCIYXVJBVuqlVmLwsfsjTGm60roGEdHNmvRar7Z7lys/o931gMw4wdHtmeRjDFmv2AtjiheWbk55rIxxnRVFjiimDCsb8xlY4zpqqyrKopgt9RzH3/Dj/IHWjeVMca4LHDEMOMHRzI2YwsFBRY0jDEmyLqqjDHGtIoFDmOMMa1igcMYY0yrWOAwxhjTKhY4jDHGtIoFDmOMMa0iqp3/cUUisg3YuIeb9wG2t2FxOgKrc9dgde789ra+/VX1gPDELhE49oaIfKyq+e1djn3J6tw1WJ07v0TV17qqjDHGtIoFDmOMMa1igWP3HmjvArQDq3PXYHXu/BJSXxvjMMYY0yrW4jDGGNMqFjiMMca0igWOGERkgoisEZF1IjKjvcvT1kQkT0TeEpHVIrJSRH7hpmeLyGsistb9m9XeZW1rIuIVkU9F5N/u8kAR+cit81MiktLeZWxLIpIpIs+KyJfu931cZ/+eReSX7v/XK0RknoikdbbvWUQeFpGtIrIiJC3i9yqOu93z2eciMmpPj2uBIwoR8QKzgTOBocBFIjK0fUvV5nzA/6rqkcBY4GduHWcAb6jqYOANd7mz+QWwOmT5DuBOt85lwFXtUqrE+RvwiqoeAYzAqXun/Z5FpB/wP0C+qg4HvMCFdL7v+RFgQlhatO/1TGCw+5oK3LenB7XAEd0YYJ2qrlfVemA+MLGdy9SmVLVEVT9x31finEz64dRzrpttLnBO+5QwMUQkF/gv4EF3WYBTgGfdLJ2qziLSE/g+8BCAqtar6k46+feM86C6dBFJAjKAEjrZ96yq7wClYcnRvteJwKPqWAxkishBe3JcCxzR9QOKQpaL3bROSUQGAEcDHwE5qloCTnABDmy/kiXEXcCvgYC73BvYqao+d7mzfdeHAtuAOW733IMi0o1O/D2r6nfAn4FvcQJGObCMzv09B0X7XtvsnGaBIzqJkNYp5y6LSHdgAXCdqla0d3kSSUTOAraq6rLQ5AhZO9N3nQSMAu5T1aOBXXSibqlI3H79icBA4GCgG05XTbjO9D3vTpv9f26BI7piIC9kORfY1E5lSRgRScYJGk+o6r/c5C3BJqz7d2t7lS8BTgDOFpENON2Pp+C0QDLdLg3ofN91MVCsqh+5y8/iBJLO/D2fBnyjqttUtQH4F3A8nft7Dor2vbbZOc0CR3RLgcHuLIwUnIG1he1cpjbl9u0/BKxW1b+GrFoITHbfTwZe2NdlSxRVvVFVc1V1AM53+qaqXgK8BZzrZutsdd4MFInI4W7SqcAqOvH3jNNFNVZEMtz/z4N17rTfc4ho3+tC4HJ3dtVYoDzYpdVaduV4DCLyA5xfo17gYVX9YzsXqU2JyInAu8AXNPX3/wZnnONp4BCcf4DnqWr4AFyHJyIFwK9U9SwRORSnBZINfApcqqp17Vm+tiQiI3EmA6QA64EpOD8cO+33LCK3ARfgzB78FLgap0+/03zPIjIPKMC5ffoW4BbgeSJ8r24AvRdnFlY1MEVVP96j41rgMMYY0xrWVWWMMaZVLHAYY4xpFQscxhhjWsUChzHGmFaxwGGM+f/t3T1IVXEcxvHvA4JRSg1BBUFFlyV68gAAAmRJREFUIBQSQt2xMIiGptqkN4KQaAgaClqChppsaAyKiBqMopcpsCHEhoJLoVFuQU0NDS0VgdGv4f8/ejDF8zeFhuczXc/rPct9vId7np9ZEQeHWQFJ6yXdk/RB0qSkp5J6auv7Jb2ctU+HpOmHsuY57iVJ55bzvZstFQeHWUP5d/CPgdGI2BoR20nPvayrbTYGbMzdX5V9wLvFPmxl9r9xcJg1txeYiojr1YKIGI+IF7W/fwMPSA+eVQaAYQBJg5LakiYkPZS0cvZJJI1K2pVfr831KNUMkaG8/1tJp/LyDZLGJI3n2RO7l/7SzWY4OMya6yU1rC5kmBQWSOoEDpD6wAAeRUQrIqqZGCXzIE6SaiJaQAsYlLQFOAyMREQfadbGeMExzYp1LLyJmZWIiLakrtwNtQ14FRFf8+peSZeBNUAXMFJw6P3ADklV19Jq0lCeNnArF1Y+iQgHhy0rB4dZc++ZKcibJukKaTAU+b9+SH1IA6TgGK5tfhs4GBETkk6QeoZm+8XM3YAV9VMBZyLir7CRtCe/h7uShiLiTuOrMivkW1VmzT0HOiUNVgsktYBnEdFXCw1IYXGUVNteb1XuBj7nbwdH5jnPR2Bnfl0PqhHgdN4XST2SVknaRJoxcoPUdrzoWdJmTfgbh1lDERGSDgHXJF0AfpI+5M/Ose2kpB/A64j4Xlt1kdQ+/InUStw9x6muAvclHSOFVeUmsBl4k3/h9YU0FrQfOC9pCvgGHP+HyzRbkNtxzcysiG9VmZlZEQeHmZkVcXCYmVkRB4eZmRVxcJiZWREHh5mZFXFwmJlZkT/EvhTH7uWJjAAAAABJRU5ErkJggg==\n",
>>>>>>> 8659cba73564cad36b396823c177f02a8418409d
      "text/plain": [
       "<Figure size 432x288 with 1 Axes>"
      ]
     },
     "metadata": {
      "needs_background": "light"
     },
     "output_type": "display_data"
    }
   ],
   "source": [
    "plt.plot(c_svm_poly, acc_train_svm_poly, '.-')\n",
    "plt.plot(c_svm_poly, acc_test_svm_poly, '.-')\n",
    "plt.xlabel('C-Values')\n",
    "plt.ylabel('Accuracy')\n",
    "plt.title(\"SVM-Poly Accuracy vs C-Values\")\n",
    "plt.grid()\n",
    "\n",
    "# Use the following function to have a legend\n",
    "plt.legend(['Training Accuracy', 'Test Accuracy'], loc='upper right')"
   ]
  },
  {
   "cell_type": "code",
   "execution_count": 27,
   "metadata": {},
   "outputs": [],
   "source": [
    "# Neural Networks"
   ]
  },
  {
   "cell_type": "code",
   "execution_count": 28,
   "metadata": {},
   "outputs": [],
   "source": [
    "#The activation function and its derivative\n",
    "# def f(z):\n",
    "#     return 1 / (1 + np.exp(-z))\n",
    "\n",
    "def f(z):\n",
    "    return(np.exp(z)-np.exp(-z))/(np.exp(z)+np.exp(-z))\n",
    "    \n",
    "# def f(z):\n",
    "#     for i in range(len(z)):\n",
    "#         z[i] = max(0,z[i])\n",
    "#     return z\n",
    "\n",
    "# def f4(z):\n",
    "#     for elem in z:\n",
    "#         elem = max(0.3*elem,elem)\n",
    "#     return z\n",
    "    \n",
    "# def f_deriv(z):\n",
    "#     return f(z) * (1 - f(z))\n",
    "\n",
    "def f_deriv(z):\n",
<<<<<<< HEAD
    "    return (1 - (f(z)**2))\n",
=======
    "    return 1 - (f(z)**2)\n",
>>>>>>> 8659cba73564cad36b396823c177f02a8418409d
    "    \n",
    "# def f_deriv(z):\n",
    "#     for i in range(len(z)):    \n",
    "#        if z[i] < 0:\n",
    "#            z[i] = 0\n",
    "#        else:\n",
    "#            z[i] = 1\n",
    "#     return z\n",
    "\n",
    "# def f4_deriv(z):\n",
    "#     for elem in z:    \n",
    "#        if elem < 0:\n",
    "#            elem = 0.3\n",
    "#        else:\n",
    "#            elem = 1\n",
    "#     return z"
   ]
  },
  {
   "cell_type": "code",
   "execution_count": 29,
   "metadata": {},
   "outputs": [],
   "source": [
    "def setup_and_init_weights(nn_structure):\n",
    "    W = {} #creating a dictionary i.e. a set of key: value pairs\n",
    "    b = {}\n",
    "    for l in range(1, len(nn_structure)):\n",
    "        W[l] = r.random_sample((nn_structure[l], nn_structure[l-1])) #Return “continuous uniform” random floats in the half-open interval [0.0, 1.0). \n",
    "        b[l] = r.random_sample((nn_structure[l],))\n",
    "    return W, b"
   ]
  },
  {
   "cell_type": "code",
   "execution_count": 30,
   "metadata": {},
   "outputs": [],
   "source": [
    "def init_tri_values(nn_structure):\n",
    "    tri_W = {}\n",
    "    tri_b = {}\n",
    "    for l in range(1, len(nn_structure)):\n",
    "        tri_W[l] = np.zeros((nn_structure[l], nn_structure[l-1]))\n",
    "        tri_b[l] = np.zeros((nn_structure[l],))\n",
    "    return tri_W, tri_b"
   ]
  },
  {
   "cell_type": "code",
   "execution_count": 31,
   "metadata": {},
   "outputs": [],
   "source": [
    "def feed_forward(x, W, b):\n",
    "    a = {1: x} # create a dictionary for holding the a values for all levels\n",
    "    z = { } # create a dictionary for holding the z values for all the layers\n",
    "    for l in range(1, len(W) + 1): # for each layer\n",
    "        node_in = a[l]\n",
    "        z[l+1] = W[l].dot(node_in) + b[l]  # z^(l+1) = W^(l)*a^(l) + b^(l)\n",
    "        a[l+1] = f(z[l+1]) # a^(l+1) = f(z^(l+1))\n",
    "    return a, z"
   ]
  },
  {
   "cell_type": "code",
   "execution_count": 32,
   "metadata": {},
   "outputs": [],
   "source": [
    "def calculate_out_layer_delta(y, a_out, z_out):\n",
    "    # delta^(nl) = -(y_i - a_i^(nl)) * f'(z_i^(nl))\n",
    "    return -(y-a_out) * f_deriv(z_out) \n",
    "\n",
    "\n",
    "def calculate_hidden_delta(delta_plus_1, w_l, z_l):\n",
    "    # delta^(l) = (transpose(W^(l)) * delta^(l+1)) * f'(z^(l))\n",
    "    return np.dot(np.transpose(w_l), delta_plus_1) * f_deriv(z_l)"
   ]
  },
  {
   "cell_type": "code",
   "execution_count": 33,
   "metadata": {},
   "outputs": [],
   "source": [
    "def train_nn(nn_structure, X, y, iter_num=3000, alpha=0.25):\n",
    "    W, b = setup_and_init_weights(nn_structure)\n",
    "    cnt = 0\n",
    "    N = len(y)\n",
    "    avg_cost_func = []\n",
    "    print('Starting gradient descent for {} iterations'.format(iter_num))\n",
    "    while cnt < iter_num:\n",
    "        if cnt%1000 == 0:\n",
    "            print('Iteration {} of {}'.format(cnt, iter_num))\n",
    "        tri_W, tri_b = init_tri_values(nn_structure)\n",
    "        avg_cost = 0\n",
    "        for i in range(N):\n",
    "            delta = {}\n",
    "            # perform the feed forward pass and return the stored a and z values, to be used in the\n",
    "            # gradient descent step\n",
    "            a, z = feed_forward(X[i, :], W, b)\n",
    "            # loop from nl-1 to 1 backpropagating the errors\n",
    "            for l in range(len(nn_structure), 0, -1):\n",
    "                if l == len(nn_structure):\n",
    "                    delta[l] = calculate_out_layer_delta(y[i,:], a[l], z[l])\n",
    "                    avg_cost += np.linalg.norm((y[i,:]-a[l]))\n",
    "                else:\n",
    "                    if l > 1:\n",
    "                        delta[l] = calculate_hidden_delta(delta[l+1], W[l], z[l])\n",
    "                    # triW^(l) = triW^(l) + delta^(l+1) * transpose(a^(l))\n",
    "                    tri_W[l] += np.dot(delta[l+1][:,np.newaxis], np.transpose(a[l][:,np.newaxis]))# np.newaxis increase the number of dimensions\n",
    "                    # trib^(l) = trib^(l) + delta^(l+1)\n",
    "                    tri_b[l] += delta[l+1]\n",
    "        # perform the gradient descent step for the weights in each layer\n",
    "        for l in range(len(nn_structure) - 1, 0, -1):\n",
    "            #W[l] += -alpha * (1.0/N * tri_W[l])\n",
    "            W[l] += -alpha * ((1.0/N * tri_W[l]) + ((.001/2)*(W[l]))) #with regularization term\n",
    "            b[l] += -alpha * (1.0/N * tri_b[l])\n",
    "        # complete the average cost calculation\n",
    "        avg_cost = 1.0/N * avg_cost\n",
    "        avg_cost_func.append(avg_cost)\n",
    "        cnt += 1\n",
    "    return W, b, avg_cost_func\n",
    "\n",
    "\n",
    "def predict_y(W, b, X, n_layers):\n",
    "    N = X.shape[0]\n",
    "    y = np.zeros((N,))\n",
    "    for i in range(N):\n",
    "        a, z = feed_forward(X[i, :], W, b)\n",
    "        y[i] = np.argmax(a[n_layers])\n",
    "    return y"
   ]
  },
  {
   "cell_type": "code",
<<<<<<< HEAD
   "execution_count": 49,
=======
   "execution_count": 34,
>>>>>>> 8659cba73564cad36b396823c177f02a8418409d
   "metadata": {},
   "outputs": [
    {
     "name": "stdout",
     "output_type": "stream",
     "text": [
      "Starting gradient descent for 1000 iterations\n",
      "Iteration 0 of 1000\n"
     ]
    }
   ],
   "source": [
    "x = np.array(df2[['M/F', 'Age', 'eTIV', 'nWBV', 'ASF']])\n",
    "y = np.array(df2['CDR'])\n",
    "\n",
    "for entry in x:\n",
    "    if entry[0] == 'F':\n",
    "        entry[0] = 0\n",
    "    else:\n",
    "        entry[0] = 1\n",
    "        \n",
    "X_scale = preprocessing.StandardScaler()\n",
    "x = X_scale.fit_transform(x)\n",
    "\n",
    "x_train, x_test, y_train, y_test = train_test_split(x, y, test_size=0.275)\n",
    "\n",
    "y_vect = np.zeros((len(y_train), 5))\n",
    "for i in range(len(y_train)):\n",
    "    y_vect[i, int(y_train[i]*2)] = 1\n",
    "y_train = y_vect\n",
    "\n",
    "y_test2 = np.zeros((len(y_test),))\n",
    "for i in range(len(y_test)):\n",
    "    y_test2[i] = y_test[i]*2\n",
    "y_test = y_test2\n",
    "\n",
    "nn_structure = [5, 6,4,6,4,6, 5]\n",
    "\n",
    "# train the NN\n",
    "W, b, avg_cost_func = train_nn(nn_structure, x_train, y_train, 1000)"
   ]
  },
  {
   "cell_type": "code",
<<<<<<< HEAD
   "execution_count": 50,
=======
   "execution_count": 35,
>>>>>>> 8659cba73564cad36b396823c177f02a8418409d
   "metadata": {},
   "outputs": [
    {
     "data": {
<<<<<<< HEAD
      "image/png": "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\n",
=======
      "image/png": "iVBORw0KGgoAAAANSUhEUgAAAYIAAAEGCAYAAABo25JHAAAABHNCSVQICAgIfAhkiAAAAAlwSFlzAAALEgAACxIB0t1+/AAAADh0RVh0U29mdHdhcmUAbWF0cGxvdGxpYiB2ZXJzaW9uMy4xLjEsIGh0dHA6Ly9tYXRwbG90bGliLm9yZy8QZhcZAAAgAElEQVR4nO3de3hddZ3v8fd333K/9JJWmraUS0GrtAUjinjpgEhFBX3kKDCjo0enOoOO43Eu6njUcc6Z42U8cjyo2HGwg0dRRHTQB8EbBW8IKbSl5VJKCzRtIWnTps117yTf88daSXdDLjtt1t5J1uf1PHn2uu21vtlp88lv/db6LXN3REQkvhKlLkBEREpLQSAiEnMKAhGRmFMQiIjEnIJARCTmUqUuYLLmz5/vy5YtK3UZIiIzyqZNmw64e8No62ZcECxbtozm5uZSlyEiMqOY2dNjrdOpIRGRmFMQiIjEnIJARCTmFAQiIjGnIBARiTkFgYhIzCkIRERiLjZB8PizR/nXux6nvStb6lJERKaV2ATB7gOdXH/3TvZ39JS6FBGRaSU2QVBbkQagoydX4kpERKaXyILAzJaY2d1m9qiZbTezD4+yjZnZV8xsp5ltNbPzoqqnviIDQEe3gkBEJF+UYw31Ax919wfNrAbYZGa/cPdH8rZ5A7A8/Ho58PXwdcrVVapFICIymshaBO6+390fDKePAo8CjSM2uwK4yQP3AfVmdkoU9dSHp4YOqUUgInKcovQRmNky4FzgjyNWNQJ78uZbeH5YYGbrzKzZzJrb2tpOqIaqshQLa8vY8dzRE3q/iMhsFXkQmFk18EPgb9z9yMjVo7zFn7fAfb27N7l7U0PDqMNpF+Scxjq2thw+4feLiMxGkQaBmaUJQuA77n7bKJu0AEvy5hcD+6KqZ8WiOnYd6KKvfyCqQ4iIzDhRXjVkwL8Dj7r7/x5js9uBd4VXD70C6HD3/VHVtLi+AndoPdIX1SFERGacKK8auhB4J/CwmW0Ol30CWArg7jcAdwCXATuBbuA9EdbDC+rKAdjf0cuSuZVRHkpEZMaILAjc/beM3geQv40D10ZVw0iL6oMg2HdYdxeLiAyJzZ3FAEvmVpJJJnhk/8g+axGR+IpVEJSlkryksZYHnz5U6lJERKaNWAUBwEtPncPWvR1k+wdLXYqIyLQQuyA4b+kcsv2DbN/XUepSRESmhdgFwaol9QBs26d+AhERiGEQvKC2nPJ0gqcPdJW6FBGRaSF2QZBIGMvmVfHUQQWBiAjEMAgAGusr2He4t9RliIhMC7EMggW1ZbQe1TATIiIQ0yBoqC6jvauPgcHnDXQqIhI78QyC2nIGHQ52qlUgIhLPIKguA9DpIRERYhoEteXBWHudff0lrkREpPRiGQQVmSQAPVk9oEZEJJZBUJkJWgTdCgIRkbgGQdAi6M7q1JCISJSPqrzRzFrNbNsY6+vM7CdmtsXMtptZpE8nyzd8aiinFoGISJQtgg3A2nHWXws84u6rgDXAl8wsE2E9w8rTQRD0KghERKILAne/F2gfbxOgJnzIfXW4bVHO1aQSwRM0cwO6oUxEpJR9BNcDLwL2AQ8DH3b3UZ8WY2brzKzZzJrb2tpO+sDpZPBt5wb0cBoRkVIGwaXAZmARsBq43sxqR9vQ3de7e5O7NzU0NJz0gZMJI5kw+tUiEBEpaRC8B7jNAzuB3cALi3XwVMLUIhARobRB8AxwMYCZLQTOBnYV6+CZZEJ9BCIiQCqqHZvZzQRXA803sxbg00AawN1vAP4Z2GBmDwMG/IO7H4iqnpFSSbUIREQgwiBw96snWL8PeH1Ux59IOplQEIiIENM7i2EoCHRqSEQkxkGgU0MiIhDrINCpIRERiH0Q6NSQiEiMg0CnhkREINZBkKB/UEEgIhLrIMj169SQiEhsgyCVNLI6NSQiEt8gyOjUkIgIEOMgSCVNp4ZERIh1EKhFICICcQ6ChDEwqBaBiEhsgyCZMN1QJiJCjINALQIRkUB8gyCZoF9BICIS4yBIGAPqLBYRiS4IzOxGM2s1s23jbLPGzDab2XYzuyeqWkajh9eLiASibBFsANaOtdLM6oGvAZe7+4uB/xJhLc+T1qkhEREgwiBw93uB9nE2uQa4zd2fCbdvjaqW0STVWSwiApS2j+AsYI6ZbTSzTWb2rrE2NLN1ZtZsZs1tbW1TcvBUwsipj0BEpKRBkAJeCrwRuBT472Z21mgbuvt6d29y96aGhoapOXgigTsMqlUgIjGXKuGxW4AD7t4FdJnZvcAqYEcxDp5KGgD9g04mYcU4pIjItFTKFsF/Aq82s5SZVQIvBx4t1sGT4S9/9ROISNxF1iIws5uBNcB8M2sBPg2kAdz9Bnd/1MzuBLYCg8A33X3MS02nWioMgtzgIBUki3VYEZFpJ7IgcPerC9jmi8AXo6phPENBMKB7CUQk5mJ7Z3EyGXzrupdAROIutkEw1CLQMwlEJO4UBDo1JCIxF98gSOqqIRERiHEQJBPqIxARgRgHQVp9BCIiQIyDIKk+AhERIMZBoD4CEZFAbIPgWB+BTg2JSLzFNgjSOjUkIgLEOAg06JyISCC2QZA/DLWISJzFNwjURyAiAsQ4CHT5qIhIILZBoMtHRUQC8Q2C8NRQTkEgIjEXWRCY2Y1m1mpm4z51zMxeZmYDZnZlVLWMZvjBNOojEJGYG/MJZWb2E2CsP5f7gCeBr7r7njG22QBcD9w0zjGSwOeBuwopdiqpj0BEJDDeoyr/dYL3vRi4BbhgtA3c/V4zWzbB8T8E/BB42QTbTTn1EYiIBMYMAne/Z4L3/srMVp7ogc2sEXgrcBETBIGZrQPWASxduvRED3kc9RGIiAROqo/A3d93Em+/DvgHdx8o4Djr3b3J3ZsaGhpO4pDHHHt4vfoIRCTexjs1FLUm4HtmBjAfuMzM+t39x8U4eFJ3FouIAJMIAjOrcveuqTqwu5+Wt+8NwE+LFQIAaT2hTEQEKODUkJm90sweAR4N51eZ2dcKeN/NwB+As82sxczea2YfMLMPnHTVU0CDzomIBAppEXwZuBS4HcDdt5jZayZ6k7tfXWgR7v7uQredKildPioiAhTYWTzKvQITdvBOd4mEkTDdUCYiUkiLYI+ZvRJwM8sAf014mmimSyUSunxURGKvkBbBB4BrgUagBVgdzs94yYSpj0BEYm/CFoG7HwD+tAi1FF0qYeojEJHYmzAIzOwroyzuAJrd/T+nvqTiSSVND6YRkdgr5NRQOcHpoCfCr5XAXOC9ZnZdhLVFLplI6D4CEYm9QjqLzwQucvd+ADP7OvBz4BLg4Qhri1wqYQzo1JCIxFwhLYJGoCpvvgpYFI4R1BdJVUUSnBpSEIhIvBXSIvgCsNnMNgIGvAb4FzOrAn4ZYW2RSyXURyAiUshVQ/9uZncA5xMEwSfcfV+4+u+iLC5qyYRaBCIihQ5D3QvsB9qBMwsZYmImSCcT6iMQkdgr5PLR9wEfBhYDm4FXEAwmd1G0pUUvqVNDIiIFtQg+TPAEsafd/U+Ac4G2SKsqkpRODYmIFBQEve7eC2BmZe7+GHB2tGUVh4aYEBEp7KqhFjOrB34M/MLMDgH7JnjPjJBKJjTEhIjEXiFXDb01nPyMmd0N1AF3RlpVkaQSRk7PLBaRmBv31JCZJcxs29C8u9/j7re7e3aiHZvZjWbWmv/+Eev/1My2hl+/N7NVky//5OjyURGRCYLA3QeBLWa29AT2vQFYO8763cBr3X0l8M/A+hM4xklJJxPqIxCR2Cukj+AUYLuZ3Q8MP7ze3S8f703ufq+ZLRtn/e/zZu8juDy1qJIJI6c+AhGJuUKC4J8irwLeC/xsrJVmtg5YB7B06Yk0TkaXSpgeVSkisVdIZ/E9ZnYqsNzdf2lmlUByqgowsz8hCIJXjVPDesJTR01NTVP2J3wqqWGoRUQmvI/AzP4CuBX4RriokeBS0pNmZiuBbwJXuPvBqdjnZKR0H4GISEE3lF0LXAgcAXD3J4AFJ3vgsAP6NuCd7r7jZPd3IpJ6VKWISEF9BH3unjUzAMwsBUz429PMbgbWAPPNrAX4NJAGcPcbgE8B84Cvhfvud/emE/geTpiGoRYRKSwI7jGzTwAVZnYJ8FfATyZ6k7tfPcH69wHvK6jKiKSSOjUkIlLIqaGPEQwy9zDwfuAO4JNRFlUsqURCl4+KSOwV0iK4ArjJ3f8t6mKKTYPOiYgU1iK4HNhhZt82szeGfQSzQjqZINuvPgIRibcJg8Dd3wOcCfwAuAZ40sy+GXVhxVBTniI7MKgwEJFYK+hRle6eI7jz93vAJoLTRTNedVnQuOns6y9xJSIipVPIDWVrzWwDsBO4kuAGsFMirqsohoOgV0EgIvFVyPn+dxO0BN7v7n3RllNc1eXBt3+0L1fiSkRESqeQsYauyp83swuBa9z92siqKpIatQhERApqEWBmqwk6it9O8ByB26IsqlhqytMAHFUQiEiMjRkEZnYWcBVwNXAQ+D5g7v4nRaotcnUVQRC0d0/4wDURkVlrvBbBY8BvgDe7+04AM/tIUaoqkoV1ZZjB/sO9pS5FRKRkxrtq6G3As8DdZvZvZnYxYMUpqzjKUkkaqsvYd7in1KWIiJTMmEHg7j9y93cALwQ2Ah8BFprZ183s9UWqL3KNcyrYfbBr4g1FRGapQu4s7nL377j7mwieK7yZYCC6WWHV4nq2thwmN6C7i0Ukngq6s3iIu7e7+zfc/aKoCiq2ly2bS29ukK0tHaUuRUSkJCYVBLPRK8+YR8Lgnh1tpS5FRKQkIgsCM7vRzFrNbNsY683MvmJmO81sq5mdF1Ut45lTlWHVknoFgYjEVpQtgg3A2nHWvwFYHn6tA74eYS3jeu1ZDWxtOUxHj4aaEJH4iSwI3P1eoH2cTYYeeOPufh9Qb2YlGcxu+YIa3NFlpCISS6XsI2gE9uTNt4TLnsfM1plZs5k1t7VN/SmcuVUZANq7dIexiMRPKYNgtJvTRn1upLuvd/cmd29qaGiY8kIqM0kAenMDU75vEZHprpRB0AIsyZtfDOwrRSEVYRD0KAhEJIZKGQS3A+8Krx56BdDh7vtLUUhFOgyCrIJAROInsgfRm9nNwBpgvpm1AJ8G0gDufgNwB3AZwZPPuoH3RFXLRCp0akhEYiyyIHD3qydY78C0eLjNUIugWy0CEYmh2N9ZDEEQJBOmB9SISCwpCIBEwphTmeFg16x6JLOISEEUBKH51Rn26QE1IhJDCoLQq5fP57c7D/Do/iOlLkVEpKgUBKEPvPYM5lZl+PD3HtKzCUQkVhQEoXnVZfzLW89hx3Od/OihvaUuR0SkaBQEeV73ogUsnlPB3Y+1lroUEZGiURDkMTPOWljD0we7S12KiEjRKAhGOKWunGeP6OohEYkPBcEI1eUpOvt0Y5mIxIeCYITqTIps/yDZfl05JCLxoCAYoaosGH6pS60CEYkJBcEIVWXhAHQaiVREYkJBMEJFJmgRdKtFICIxoSAYoSqjIalFJF4UBCNUhi2CrqxaBCISD5EGgZmtNbPHzWynmX1slPVLzexuM3vIzLaa2WVR1lOIoQfZd/epRSAi8RBZEJhZEvgq8AZgBXC1ma0YsdkngVvc/VzgKuBrUdVTqKHOYrUIRCQuomwRnA/sdPdd7p4FvgdcMWIbB2rD6TpgX4T1FKSxvpLqshTr793FrrbOUpcjIhK5KIOgEdiTN98SLsv3GeDPwofb3wF8KMJ6ClKRSfLld6zmmfZu1l73Gz73s8d0p7GIzGpRBoGNssxHzF8NbHD3xcBlwLfN7Hk1mdk6M2s2s+a2trYISj3eJSsW8quPvpY3r1rEDfc8ydrr7qX1qMYfEpHZKcogaAGW5M0v5vmnft4L3ALg7n8AyoH5I3fk7uvdvcndmxoaGiIq93gLasr50ttXccv7L6D1SB//91c7i3JcEZFiizIIHgCWm9lpZpYh6Ay+fcQ2zwAXA5jZiwiCIPo/+Sfh/NPmctELF3D343pGgYjMTpEFgbv3Ax8E7gIeJbg6aLuZfdbMLg83+yjwF2a2BbgZeLe7jzx9VHKrltTTcqiHo725UpciIjLlUlHu3N3vIOgEzl/2qbzpR4ALo6xhKjTOqQBgf0cvNeXpElcjIjK1dGdxARrrywHYe6inxJWIiEw9BUEBlsypBKDlkB5hKSKzj4KgAA01ZZSlEjzTriAQkdlHQVAAM+PUeZU88NQhPblMRGYdBUGB3vmKU9m85zCv/Nyv+fydj/Gkhp8QkVki0quGZpN3XrCM0xuq+dbvdvONe57k6xufZPWSet720sVcvnIRdZW6mkhEZiabhpftj6upqcmbm5tLWkPrkV5+vHkvP9y0l8efO0ommeB1KxbwtvMW89qzGkgl1dASkenFzDa5e9Oo6xQEJ87d2b7vCLduauH2Lfto78oyvzrDFasbedt5i1mxqHbinYiIFIGCoAiy/YNsfLyVHz7Ywq8fayU34Kw4pZarzl/CFasadepIREpKQVBk7V1ZfrJlHz/YtIdte49QlkrwuhULufiFC1hz9gLmVmVKXaKIxIyCoIS27e3g+w/s4WfbnuVAZx9mcPbCGs47dQ7nLqnnvFPncNq8KhKJ0UbtFhGZGgqCaWBw0Nm2r4O7H2uj+el2Nu85zNHe4IE3teUpVi+dw+ol9Zy7pJ7VS+qZo1aDiEyh8YJAl48WSSJhrFxcz8rF9UAQDE+2dfLgM4fYvOcwDz1zmOt//QSDYS5fff4S/sdbziGploKIRExBUCKJhLF8YQ3LF9bwjpctBaCrr5+tLR3c8fB+vn3f05y7dA5vb1oywZ5ERE6OLnifRqrKUlxwxjw+e8WLOaOhils3tZS6JBGJAQXBNGRmvPGcU7h/d9CXICISJQXBNPW2ly6mvjLNW776O679zoM8/uzRUpckIrNUpEFgZmvN7HEz22lmHxtjm7eb2SNmtt3MvhtlPTPJqfOq2Pi3a/jQRWdyz442Lr3uXv7ipmYeeuZQqUsTkVkmsstHzSwJ7AAuAVoIHmZ/dfh4yqFtlgO3ABe5+yEzW+Du4z4lfqZePnoyDndn+dbvnmLD75+ioyfHOY11vPXcRt68ahENNWWlLk9EZoCS3EdgZhcAn3H3S8P5jwO4+//K2+YLwA53/2ah+41jEAzp6uvnB817uPXBFrbtPYIZrGysY83ZC1hzdgPnNNZpwDsRGVWpguBKYK27vy+cfyfwcnf/YN42PyZoNVwIJAmC485R9rUOWAewdOnSlz799NOR1DyT7HjuKHdte5aNO9p46JlDDDpUZZKcd+ocXn7aXM4/bR4rF9dRnk6WulQRmQZKdUPZaHdCjUydFLAcWAMsBn5jZi9x9+MulXH39cB6CFoEU1/qzHPWwhrOWljDhy5ezqGuLL978gD3727n/t3t/OvPdwCQSSV48aJazmmsC74W13FmQ7VaDSJynCiDoAXIvxtqMbBvlG3uc/ccsNvMHicIhgcirGvWmVOV4U0rF/GmlYuAoE/hgacOcf/ug2zZ08EPN7Vw0x+CVlR5OsGZC6o5o6Ga0+dXc8aCKk6fX82y+ZVUZnR/oUgcRfk//wFguZmdBuwFrgKuGbHNj4GrgQ1mNh84C9gVYU2xUF+Z4ZIVC7lkxUIgGM5i14Eutu3t4OG9HTzR2smmpw9x+5Z95J8ZnFuVYVF9OY31FTTWV9I4p4LG+goW1ZezsLaceVUZtSZEZqHIgsDd+83sg8BdBOf/b3T37Wb2WaDZ3W8P173ezB4BBoC/c/eDUdUUV4mEceaCas5cUM1bzm0cXt6THWD3gS6ebOvkmfZu9h7uYe+hHp5s6+LeHQfoyQ0cvx+DuVVlLKgpY2FtGQtqyllQG8w31JSzsLaM+dVlzKvOqHUhMoNo9FEZlbtzqDvHvsM97D3cQ+vRPtqO9NJ6tI/Wo308F04f7OwbHigvX3k6wbyqIBTmVgVf86oyzK0qC18zzK0Ols2rLqMqk8RMA+yJREWjj8qkmdnwL/CXNNaNuV3/wCDtXVmeO9JH69FeDnT2cbArS3tnlvauLAe7shzszPLEc50c7OqjNzc46n4yqQT1FWnqK9PUV2SoHZ4OXusq0tRVZqivCKaHtqspT+lZDiInSUEgJyWVTLCgtpwFteXA2IExpDvbz8HOICDau/o4GAZGe1eWw905OnpyHO7J0nKom0f25Tjck6M7OzDm/sygtjwIhtryNNVlKWrKU1SXp6gpC1/zlteUp6guO36+qixFWn0fEmMKAimqykyKyrkplsytLPg92f5BOnpydPTkhUV3EBIdPTk6urMc7slxpCdHZ18/z7R3c7S3n86+4GtgtHNXI5SnE9SUp6kpS1FZlgzqzCSpGnotC16DrxRVeduMnK/KBPtQuMhMoSCQaS+TStBQU3ZCw2m4Oz25ATp7+zna1x8ERG8/nX05jgxP93O0NwiRI7399GQH6OoLWi57st10h/Pd2QH6CwiV4bqTiSBU0kkqy1JUZfLCoywVLj8WLkMhUpFJUlWWpCI9FEJJKjLB+ysySTLJhPpTZEopCGRWM7Pwl2yKBVOwv2z/IN3ZfrqyA3SH4dCV7ae7L3jtyQ4Mr+vKDtCdDbbpzvbT1Re8PnskNxwsPeH7J5EvpBIWhMVwqCSpTKeGQ6UinQrDI2+bzPEtmqFth4IneJ867ONKQSAyCZlUgkwqQ33hZ7Ym5O709Q8Oh8JwmIQB0507FjrHgmVgOJB6wun2riwth8JtcwN09w2QHRi9c340ZlCRHhkawWmxinT4mkmGLZMUteWpoFO/Ik19ZWa4c7+uMk1ZSkObzCQKApESMzPK00nK00nmVGWmdN+5gcHjWh5Dp72GgqI7209PboCuvgF6hlo6I1oynX39tB7pozsXBlN24Hn3mIxUkU4OX+01dIXXsau/js3XV6SpDa8Eq60I+mh0FVjxKQhEZrF0MkFdRYK6ivSU7ndw0OnM9tPRPdRxnx3uwD/Sk+Nw97H5ju4cuw50Ds9n+8dupZhBTVnQ0qgtHwqIFLXl6bxlx9YfC5Hg6q+qTIqkgmTSFAQiMmmJhAW/iMvTLJk7uff25gaOD4/uHEd6gwA50hN04gevwVVhTx3oHp4e71LiIcFprORwMFSXpYbnq8uC/qLqofVlQ+vDbcI+k4qwhVaRSVKeSsz6oVUUBCJSVOXpJC+oS/KCuvJJvzc3MMjRMCg6eoYCpJ+OnqADvrOvPzydFZwCG1rW1tnHUwe7h5d1FRAo+TLJBOXpRBAM6bygCMPiWHAkgmXpJOXh8rJUkrJUgrJ0Yng6k0oEy1LJcPnx08W+MkxBICIzRjqZGL7j/WQMDjrduYFj4dE3MBwiPbkBenODwWvYH9KTC/pZevOmg+0GaD2aC9cNHrfuZB0LjGNBcs35S3nfq08/6X2PpCAQkdhJJIzq8LTQwgj2n38lWHZgkL7cIH39A/T1h6+5wXA6f/kgfblgOjtyXfj++dXRPJpWQSAiMsXyrwSbCWZ3D4iIiExIQSAiEnMKAhGRmIs0CMxsrZk9bmY7zexj42x3pZm5mY360AQREYlOZEFgZkngq8AbgBXA1Wa2YpTtaoC/Bv4YVS0iIjK2KFsE5wM73X2Xu2eB7wFXjLLdPwNfAHojrEVERMYQZRA0Anvy5lvCZcPM7Fxgibv/dLwdmdk6M2s2s+a2trapr1REJMaiDILR7o8eHnXdzBLAl4GPTrQjd1/v7k3u3tTQ0DCFJYqISJQ3lLUAS/LmFwP78uZrgJcAG8MxNV4A3G5ml7t781g73bRp0wEze/oEa5oPHDjB90ZputYF07c21TU5qmtyZmNdp461wtwn8WikSTCzFLADuBjYCzwAXOPu28fYfiPwt+OFwBTU1Ozu0+7KpOlaF0zf2lTX5KiuyYlbXZGdGnL3fuCDwF3Ao8At7r7dzD5rZpdHdVwREZmcSMcacvc7gDtGLPvUGNuuibIWEREZXdzuLF5f6gLGMF3rgulbm+qaHNU1ObGqK7I+AhERmRni1iIQEZERFAQiIjEXmyAodAC8CI//lJk9bGabzaw5XDbXzH5hZk+Er3PC5WZmXwlr3Wpm501hHTeaWauZbctbNuk6zOzPw+2fMLM/j6iuz5jZ3vAz22xml+Wt+3hY1+Nmdmne8in9OZvZEjO728weNbPtZvbhcHlJP7Nx6irpZ2Zm5WZ2v5ltCev6p3D5aWb2x/B7/76ZZcLlZeH8znD9sonqneK6NpjZ7rzPa3W4vGj/9sN9Js3sITP7aThf3M/L3Wf9F5AEngROBzLAFmBFkWt4Cpg/YtkXgI+F0x8DPh9OXwb8jODu7FcAf5zCOl4DnAdsO9E6gLnArvB1Tjg9J4K6PkNwb8nIbVeEP8My4LTwZ5uM4ucMnAKcF07XENwbs6LUn9k4dZX0Mwu/7+pwOk0wmOQrgFuAq8LlNwB/GU7/FXBDOH0V8P3x6o2grg3AlaNsX7R/++F+/xvwXeCn4XxRP6+4tAgKHQCv2K4A/iOc/g/gLXnLb/LAfUC9mZ0yFQd093uB9pOs41LgF+7e7u6HgF8AayOoayxXAN9z9z533w3sJPgZT/nP2d33u/uD4fRRgntiGinxZzZOXWMpymcWft+d4Ww6/HLgIuDWcPnIz2voc7wVuNjMbJx6p7qusRTt376ZLQbeCHwznDeK/HnFJQgmHACvCBz4uZltMrN14bKF7r4fgv/YwIJwebHrnWwdxazvg2HT/Mah0y+lqitshp9L8NfktPnMRtQFJf7MwtMcm4FWgl+UTwKHPbjJdOQxho8fru8A5hWjLncf+rz+Z/h5fdnMhp4OX8yf43XA3wOD4fw8ivx5xSUIxh0Ar0gudPfzCJ7PcK2ZvWacbadDvTB2HcWq7+vAGcBqYD/wpVLVZWbVwA+Bv3H3I+NtWszaRqmr5J+Zuw+4+2qC8cXOB140zjFKVpeZvQT4OPBC4GUEp3v+oZh1mdmbgFZ335S/eJxjRFJXXIJgogHwIufu+8LXVuBHBP9Bnhs65RO+toabF7veydZRlPrc/bnwP+8g8G8ca+oWtS4zSxP8sv2Ou98WLi75ZzZaXdPlMwtrOQxsJDjHXm/B+GMjj46qfoQAAATQSURBVDF8/HB9HcEpwmLUtTY8xebu3gd8i+J/XhcCl5vZUwSn5S4iaCEU9/M62U6OmfBFMJTGLoJOlKEOsRcX8fhVQE3e9O8Jzit+keM7HL8QTr+R4zuq7p/iepZxfKfspOog+MtpN0Fn2Zxwem4EdZ2SN/0RgnOgAC/m+I6xXQSdnlP+cw6/95uA60YsL+lnNk5dJf3MgAagPpyuAH4DvAn4Acd3fv5VOH0tx3d+3jJevRHUdUre53kd8LlS/NsP972GY53FRf28puyXy3T/IrgKYAfB+cp/LPKxTw9/SFuA7UPHJzi39yvgifB1bt4/yq+GtT4MNE1hLTcTnDLIEfwV8d4TqQP4rwQdUjuB90RU17fD424Fbuf4X3L/GNb1OPCGqH7OwKsImthbgc3h12Wl/szGqauknxmwEngoPP424FN5/wfuD7/3HwBl4fLycH5nuP70ieqd4rp+HX5e24D/x7Eri4r2bz9vv2s4FgRF/bw0xISISMzFpY9ARETGoCAQEYk5BYGISMwpCEREYk5BICIScwoCmRHMrDN8XWZm10zxvj8xYv73U7n/qWZm7zaz60tdh8weCgKZaZYBkwoCM0tOsMlxQeDur5xkTTNKAZ+HxIyCQGaazwGvDseO/0g4kNgXzeyBcOCw9wOY2RoLxuv/LsENQZjZj8NB/7YPDfxnZp8DKsL9fSdcNtT6sHDf2yx4lsQ78va90cxuNbPHzOw74QiQxwm3+bwF4+DvMLNXh8uP+4vezH5qZmuGjh2+Z5OZ/dLMzg/3s8vMLs/b/RIzuzMce/7Tefv6s/B4m83sG0O/9MP9ftbM/ghcMFU/DJklpuquOH3pK8ovoDN8XUN492U4vw74ZDhdBjQT3GK/BugCTsvbduju3wqCO0nn5e97lGO9jWD0zCSwEHiG4DkAawhGfVxM8MfUH4BXjVLzRuBL4fRlwC/D6XcD1+dt91NgTTjthHeFEoxJ9XOCIZNXAZvz3r+f4O7moe+liWBwt58A6XC7rwHvytvv20v9c9TX9PwaGtRIZKZ6PbDSzK4M5+uA5UCWYHyY3Xnb/rWZvTWcXhJud3Ccfb8KuNndBwgGmbuHYJTKI+G+WwDCoY2XAb8dZR9Dg9RtCreZSBa4M5x+GOhz95yZPTzi/b9w94Ph8W8La+0HXgo8EDZQKjg2GN4AwQB1Is+jIJCZzoAPuftdxy0MTrV0jZh/HXCBu3eb2UaCcVsm2vdY+vKmBxj7/1LfKNv0c/xp2fw6cu4+NO7L4ND73X0wbzRKeP4Qw0NDEf+Hu398lDp6w0ATeR71EchMc5Tg0YxD7gL+MhySGTM7y8yqRnlfHXAoDIEXEowoOSQ39P4R7gXeEfZDNBA8TvP+KfgengJWm1nCzJZwYk/eusSC5yZXEDy96ncEg99daWYLYPi5yqdOQb0yy6lFIDPNVqDfzLYQPG/2/xCcMnkw7LBt49hj/fLdCXzAzLYSjM54X9669cBWM3vQ3f80b/mPCDpWtxD8xf337v5sGCQn43cEwxcPjXr54Ans47cEI42eCXzX3ZsBzOyTBE/CSxCM5Hot8PRJ1iuznEYfFRGJOZ0aEhGJOQWBiEjMKQhERGJOQSAiEnMKAhGRmFMQiIjEnIJARCTm/j9Cp6pcTIASrgAAAABJRU5ErkJggg==\n",
>>>>>>> 8659cba73564cad36b396823c177f02a8418409d
      "text/plain": [
       "<Figure size 432x288 with 1 Axes>"
      ]
     },
     "metadata": {
      "needs_background": "light"
     },
     "output_type": "display_data"
    }
   ],
   "source": [
    "# plot the avg_cost_func\n",
    "plt.plot(avg_cost_func)\n",
    "plt.ylabel('Average J')\n",
    "plt.xlabel('Iteration number')\n",
    "plt.show()"
   ]
  },
  {
   "cell_type": "code",
<<<<<<< HEAD
   "execution_count": 51,
=======
   "execution_count": 36,
>>>>>>> 8659cba73564cad36b396823c177f02a8418409d
   "metadata": {},
   "outputs": [
    {
     "name": "stdout",
     "output_type": "stream",
     "text": [
<<<<<<< HEAD
      "[0. 0. 1. 1. 0. 0. 0. 1. 0. 0. 1. 1. 0. 0. 0. 2. 0. 0. 0. 1. 0. 0. 0. 1.\n",
      " 0. 0. 0. 1. 0. 1. 0. 0. 0. 0. 0. 0. 0. 1. 0. 1. 1. 0. 1. 0. 0. 0. 1. 1.\n",
      " 0. 0. 0. 1. 0. 1. 1. 0. 0. 0. 2. 0. 0. 0. 0. 0. 2.]\n",
      "[0. 0. 0. 0. 1. 1. 0. 0. 1. 0. 0. 0. 1. 0. 1. 2. 0. 2. 1. 1. 0. 0. 0. 1.\n",
      " 0. 0. 0. 0. 0. 0. 1. 0. 1. 0. 0. 0. 0. 0. 0. 0. 0. 0. 0. 0. 0. 0. 1. 0.\n",
      " 1. 0. 0. 0. 0. 1. 2. 0. 1. 0. 1. 1. 0. 0. 1. 0. 0.]\n",
      "Prediction accuracy is 55.38461538461539%\n"
=======
      "[0. 0. 1. 0. 0. 1. 1. 0. 2. 1. 0. 0. 0. 2. 2. 1. 0. 0. 1. 0. 0. 2. 0. 0.\n",
      " 1. 1. 0. 0. 0. 1. 0. 0. 0. 0. 0. 0. 0. 0. 2. 2. 2. 0. 1. 0. 0. 0. 1. 1.\n",
      " 0. 0. 0. 0. 0. 0. 0. 0. 2. 0. 2. 0. 1. 0. 0. 0. 0.]\n",
      "[1. 0. 1. 0. 0. 2. 1. 0. 0. 0. 0. 0. 0. 0. 1. 1. 0. 0. 0. 0. 0. 0. 1. 0.\n",
      " 0. 0. 1. 1. 0. 1. 0. 1. 0. 0. 0. 0. 0. 0. 1. 2. 0. 0. 2. 1. 0. 0. 1. 1.\n",
      " 2. 0. 1. 0. 0. 0. 1. 0. 0. 0. 1. 0. 1. 0. 1. 1. 1.]\n",
      "Prediction accuracy is 60.0%\n"
>>>>>>> 8659cba73564cad36b396823c177f02a8418409d
     ]
    }
   ],
   "source": [
    "# get the prediction accuracy and print\n",
    "y_pred = predict_y(W, b, x_test, 7)\n",
    "print(y_test)\n",
    "print(y_pred)\n",
    "\n",
    "print('Prediction accuracy is {}%'.format(accuracy_score(y_test, y_pred) * 100))"
   ]
  },
  {
   "cell_type": "code",
<<<<<<< HEAD
   "execution_count": 125,
=======
   "execution_count": 37,
>>>>>>> 8659cba73564cad36b396823c177f02a8418409d
   "metadata": {},
   "outputs": [],
   "source": [
    "# Unsupervised Learning"
   ]
  },
  {
   "cell_type": "code",
<<<<<<< HEAD
   "execution_count": 136,
=======
   "execution_count": 38,
>>>>>>> 8659cba73564cad36b396823c177f02a8418409d
   "metadata": {},
   "outputs": [
    {
     "name": "stdout",
     "output_type": "stream",
     "text": [
<<<<<<< HEAD
      "[[-0.61270642 -0.12926271 -0.5826881   0.2027143   0.57914777]\n",
      " [ 1.13642679 -0.01804274  0.9478226  -0.18305995 -0.93100618]]\n",
      "Accuracy:0.661538\n"
=======
      "Accuracy:0.246154\n"
>>>>>>> 8659cba73564cad36b396823c177f02a8418409d
     ]
    }
   ],
   "source": [
    "from sklearn.cluster import KMeans\n",
    "import numpy as np\n",
    "kmeans = KMeans(n_clusters=2, random_state=0).fit(x_train)\n",
    "# kmeans.labels_\n",
    "# array([1, 1, 1, 0, 0, 0], dtype=int32)\n",
    "# kmeans.predict([[0, 0], [12, 3]])\n",
    "# array([1, 0], dtype=int32)\n",
    "print(kmeans.cluster_centers_)\n",
    "score = accuracy_score(y_test,kmeans.predict(x_test))\n",
    "print('Accuracy:{0:f}'.format(score))"
   ]
  },
  {
   "cell_type": "code",
<<<<<<< HEAD
   "execution_count": 127,
=======
   "execution_count": 39,
>>>>>>> 8659cba73564cad36b396823c177f02a8418409d
   "metadata": {},
   "outputs": [
    {
     "name": "stderr",
     "output_type": "stream",
     "text": [
<<<<<<< HEAD
      "C:\\Users\\immic\\anaconda3\\lib\\site-packages\\sklearn\\utils\\validation.py:73: DataConversionWarning: A column-vector y was passed when a 1d array was expected. Please change the shape of y to (n_samples, ), for example using ravel().\n",
      "  return f(**kwargs)\n"
=======
      "/opt/anaconda3/lib/python3.7/site-packages/sklearn/preprocessing/label.py:235: DataConversionWarning: A column-vector y was passed when a 1d array was expected. Please change the shape of y to (n_samples, ), for example using ravel().\n",
      "  y = column_or_1d(y, warn=True)\n"
>>>>>>> 8659cba73564cad36b396823c177f02a8418409d
     ]
    }
   ],
   "source": [
    "df1= df[['M/F', 'Age', 'eTIV', 'nWBV', 'ASF', 'CDR']]\n",
    "df2= df1.dropna()\n",
    "\n",
    "x = np.array(df2[['M/F', 'Age', 'eTIV', 'nWBV', 'ASF']])\n",
    "y = np.array(df2['CDR'])\n",
    "\n",
    "y = y.reshape(-1,1)\n",
    "\n",
    "for entry in x:\n",
    "    if entry[0] == 'F':\n",
    "        entry[0] = 0\n",
    "    else:\n",
    "        entry[0] = 1\n",
    "\n",
    "for entry in y:\n",
    "    if entry[0] != 0:\n",
    "        entry[0] = 1\n",
    "        \n",
    "lab_enc = preprocessing.LabelEncoder()\n",
    "y = lab_enc.fit_transform(y)\n",
    "\n",
    "x = preprocessing.scale(x)\n",
    "x_train, x_test, y_train, y_test = train_test_split(x, y, test_size=0.275)"
   ]
  },
  {
   "cell_type": "code",
<<<<<<< HEAD
   "execution_count": 128,
=======
   "execution_count": 40,
>>>>>>> 8659cba73564cad36b396823c177f02a8418409d
   "metadata": {},
   "outputs": [
    {
     "name": "stdout",
     "output_type": "stream",
     "text": [
      "[[ 0.44711953  0.15408128  0.59221435 -0.27850459 -0.58996648]\n",
      " [ 0.19625851 -0.70454301  0.16766767  0.63916591 -0.16868977]]\n",
      "[0.50365773 0.32848104]\n"
     ]
    },
    {
     "data": {
      "image/png": "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\n",
      "text/plain": [
       "<Figure size 432x288 with 1 Axes>"
      ]
     },
     "metadata": {
      "needs_background": "light"
     },
     "output_type": "display_data"
    }
   ],
   "source": [
    "from sklearn import decomposition\n",
    "\n",
    "pca = decomposition.PCA(n_components=2)\n",
    "principalComponents = pca.fit_transform(x)\n",
    "principalDf = pd.DataFrame(data = principalComponents, columns = ['principal component 1', 'principal component 2'])\n",
    "target = pd.DataFrame(y, columns = ['CDR'])\n",
    "finalDf = pd.concat([principalDf, target], axis = 1)\n",
    "\n",
    "plt.xlabel('Principal Component 1')\n",
    "plt.ylabel('Principal Component 2')\n",
    "plt.title(\"2 component PCA\")\n",
    "plt.grid()\n",
    "\n",
    "targets = [0, 1]\n",
    "colors = ['r', 'g']\n",
    "for target, color in zip(targets,colors):\n",
    "    indicesToKeep = finalDf['CDR'] == target\n",
    "    plt.scatter(finalDf.loc[indicesToKeep, 'principal component 1']\n",
    "               , finalDf.loc[indicesToKeep, 'principal component 2']\n",
    "               , c = color\n",
    "               , s = 50)\n",
    "plt.legend(targets)\n",
    "plt.grid()\n",
    "print(pca.components_)\n",
    "print(pca.explained_variance_ratio_)"
   ]
  },
  {
   "cell_type": "code",
<<<<<<< HEAD
   "execution_count": 129,
=======
   "execution_count": 41,
>>>>>>> 8659cba73564cad36b396823c177f02a8418409d
   "metadata": {},
   "outputs": [
    {
     "name": "stderr",
     "output_type": "stream",
     "text": [
      "/opt/anaconda3/lib/python3.7/site-packages/sklearn/preprocessing/label.py:235: DataConversionWarning: A column-vector y was passed when a 1d array was expected. Please change the shape of y to (n_samples, ), for example using ravel().\n",
      "  y = column_or_1d(y, warn=True)\n"
     ]
    }
   ],
   "source": [
    "df1= df[['M/F', 'Age', 'eTIV', 'nWBV', 'ASF', 'CDR']]\n",
    "df2= df1.dropna()\n",
    "\n",
    "x = np.array(df2[['M/F', 'Age', 'eTIV', 'nWBV', 'ASF']])\n",
    "y = np.array(df2['CDR'])\n",
    "\n",
    "y = y.reshape(-1,1)\n",
    "\n",
    "for entry in x:\n",
    "    if entry[0] == 'F':\n",
    "        entry[0] = 0\n",
    "    else:\n",
    "        entry[0] = 1\n",
    "\n",
    "for entry in y:\n",
    "    if entry[0] != 0:\n",
    "        entry[0] = 1\n",
    "        \n",
    "lab_enc = preprocessing.LabelEncoder()\n",
    "y = lab_enc.fit_transform(y)\n",
    "\n",
    "x = preprocessing.scale(x)\n",
    "x_train, x_test, y_train, y_test = train_test_split(x, y, test_size=0.275)"
   ]
  },
  {
   "cell_type": "code",
<<<<<<< HEAD
   "execution_count": 130,
=======
   "execution_count": 42,
>>>>>>> 8659cba73564cad36b396823c177f02a8418409d
   "metadata": {},
   "outputs": [
    {
     "name": "stdout",
     "output_type": "stream",
     "text": [
<<<<<<< HEAD
      "0.6941176470588235\n",
      "0.676923076923077\n"
=======
      "0.6705882352941176\n",
      "0.49230769230769234\n"
>>>>>>> 8659cba73564cad36b396823c177f02a8418409d
     ]
    }
   ],
   "source": [
    "pca = decomposition.PCA(.85)\n",
    "x_train = pca.fit_transform(x_train)\n",
    "x_test = pca.fit_transform(x_test)\n",
    "\n",
    "logisticRegr = LogisticRegression(solver = 'lbfgs')\n",
    "\n",
    "logisticRegr.fit(x_train, y_train)\n",
    "\n",
    "train_pred = logisticRegr.predict(x_train)\n",
    "print(logisticRegr.score(x_train, y_train))\n",
    "\n",
    "test_pred = logisticRegr.predict(x_test)\n",
    "print(logisticRegr.score(x_test, y_test))\n",
    "\n",
    "\n",
    "\n",
    "# print(x_train_pca.shape)\n",
    "# print(x_train_pca)\n",
    "# print(x_test_pca)\n",
    "\n",
    "# pca_init = PCA().fit_train(x_train)\n",
    "# plt.plot(np.cumsum(pca_init.explained_variance_ratio_))\n",
    "# plt.grid()\n",
    "\n",
    "# pca = PCA(n_components=2)\n",
    "# pca.fit(X)\n"
   ]
  },
  {
   "cell_type": "code",
   "execution_count": null,
   "metadata": {},
   "outputs": [],
   "source": []
  },
  {
   "cell_type": "code",
   "execution_count": null,
   "metadata": {},
   "outputs": [],
   "source": []
<<<<<<< HEAD
  },
  {
   "cell_type": "code",
   "execution_count": null,
   "metadata": {},
   "outputs": [],
   "source": []
  },
  {
   "cell_type": "code",
   "execution_count": null,
   "metadata": {},
   "outputs": [],
   "source": []
  },
  {
   "cell_type": "code",
   "execution_count": null,
   "metadata": {},
   "outputs": [],
   "source": []
=======
>>>>>>> 8659cba73564cad36b396823c177f02a8418409d
  }
 ],
 "metadata": {
  "kernelspec": {
   "display_name": "Python 3",
   "language": "python",
   "name": "python3"
  },
  "language_info": {
   "codemirror_mode": {
    "name": "ipython",
    "version": 3
   },
   "file_extension": ".py",
   "mimetype": "text/x-python",
   "name": "python",
   "nbconvert_exporter": "python",
   "pygments_lexer": "ipython3",
   "version": "3.7.4"
  }
 },
 "nbformat": 4,
 "nbformat_minor": 2
}
